{
 "cells": [
  {
   "cell_type": "code",
   "execution_count": null,
   "id": "430eb4d7-8d4d-4473-be1a-8cdef9aa0db5",
   "metadata": {},
   "outputs": [],
   "source": []
  },
  {
   "cell_type": "code",
   "execution_count": 1,
   "id": "4679778f",
   "metadata": {},
   "outputs": [
    {
     "name": "stdout",
     "output_type": "stream",
     "text": [
      "CPU times: total: 78.1 ms\n",
      "Wall time: 733 ms\n"
     ]
    }
   ],
   "source": [
    "%%time\n",
    "import sys\n",
    "import re\n",
    "import math\n",
    "import requests\n",
    "import enlighten\n",
    "import sqlite3\n",
    "\n",
    "import numpy as np\n",
    "import pandas as pd\n",
    "\n",
    "pd.set_option('display.max_columns', None)\n",
    "pd.set_option('display.max_rows', 50)\n",
    "\n",
    "url = 'http://200.152.38.155/CNPJ/'\n",
    "formato_data = '%Y%m%d'\n",
    "PATH_BD = 'data/CNPJ_full.db'"
   ]
  },
  {
   "cell_type": "code",
   "execution_count": 2,
   "id": "f6f76d3c-cb3f-485d-bacd-419a53357ca7",
   "metadata": {},
   "outputs": [
    {
     "name": "stdout",
     "output_type": "stream",
     "text": [
      "CPU times: total: 0 ns\n",
      "Wall time: 164 ms\n"
     ]
    }
   ],
   "source": [
    "%%time\n",
    "list_urls = re.findall(r'href=[\\'\"]?([^\\'\" >]+)', requests.get(url).text)\n",
    "filtered = list(filter(lambda url: url.split(\".\")[-1] in [\"zip\"], list_urls))\n",
    "tamanho = len(filtered)"
   ]
  },
  {
   "cell_type": "code",
   "execution_count": null,
   "id": "8c3b1875-5d08-4a96-b6d7-2a0be58bc46a",
   "metadata": {},
   "outputs": [
    {
     "data": {
      "text/html": [
       "<style>\n",
       ".enlighten-fg-green {\n",
       "  color: #00cd00;\n",
       "}\n",
       "</style>\n",
       "<div class=\"enlighten\">\n",
       "  <div class=\"enlighten-bar\">\n",
       "    <pre>Arquivos  32%|█████████████▎                           | 12/37 [6h 25:31&lt;13h 23:09, 0.00 Arquivos/s]</pre>\n",
       "  </div>\n",
       "  <div class=\"enlighten-bar\">\n",
       "    <pre>Arquivo 12 de 37   0%|<span class=\"enlighten-fg-green\">                    </span>|      297/10698584 [7h 55:12&lt;11887d 3h 51:08, 0.01 MiB/s]</pre>\n",
       "  </div>\n",
       "</div>\n"
      ],
      "text/plain": [
       "<IPython.core.display.HTML object>"
      ]
     },
     "metadata": {},
     "output_type": "display_data"
    },
    {
     "name": "stdout",
     "output_type": "stream",
     "text": [
      "\n",
      "Fazendo download dos 37 arquivos encontrados.\n",
      "\n",
      "K3241.K03200Y1.D20514.ESTABELE.zip ------ Está sendo baixado!!!"
     ]
    }
   ],
   "source": [
    "%%time\n",
    "MANAGER = enlighten.get_manager()\n",
    "bara_lista = MANAGER.counter(total=tamanho, desc='Arquivos', unit='Arquivos')\n",
    "\n",
    "print(\"\")\n",
    "print(f\"Fazendo download dos {tamanho} arquivos encontrados.\", flush=False)\n",
    "print(\"\")\n",
    "\n",
    "\n",
    "for indice, elemento in enumerate(filtered):\n",
    "    bara_lista.update()\n",
    "    \n",
    "    r = requests.get(url + elemento, stream=True, headers={\"Accept-Encoding\": None})\n",
    "    if r.status_code == requests.codes.ok:\n",
    "        assert r.status_code == 200, r.status_code\n",
    "        dlen = int(r.headers.get('Content-Length', '0')) or None\n",
    "        barra_download = MANAGER.counter(color = 'green', desc= f'Arquivo {indice + 1} de {tamanho}', \n",
    "                             total = dlen and math.ceil(dlen / 2 ** 5), \n",
    "                             unit = 'MiB', leave = False)\n",
    "        with barra_download as ctr, \\\n",
    "             open(\"zips/\" + elemento, 'wb', buffering = 2 ** 20) as f:\n",
    "            for chunk in r.iter_content(chunk_size = 2 ** 20):\n",
    "                # print(chunk[-16:].hex().upper())\n",
    "                print(f'\\r{elemento} ------ Está sendo baixado!!!', end='', flush=True)\n",
    "                sys.stdout.flush()\n",
    "                f.write(chunk)\n",
    "                ctr.update()\n",
    "        \n",
    "    else:\n",
    "        r.raise_for_status()\n",
    "print(f'\\r Download Concluido!!!', end='', flush=True)\n",
    "MANAGER.stop()"
   ]
  },
  {
   "cell_type": "code",
   "execution_count": null,
   "id": "24ffec42",
   "metadata": {},
   "outputs": [],
   "source": [
    "%%time\n",
    "dict_aux = {\n",
    "    'SIMPLES': [\n",
    "        'DADOS_SIMPLES',\n",
    "        'CREATE TABLE IF NOT EXISTS DADOS_SIMPLES (\\n  CNPJ               VARCHAR (8) PRIMARY KEY,\\n    OPCAO_SIMPLES      VARCHAR (1),\\n    DATA_OPCAO_SIMPLES DATE,\\n    DATA_EXCLUSAO      DATE,\\n    OPCAO_MEI          VARCHAR (1),\\n    DATA_OPCAO_MEI     DATE,\\n    DATA_EXCLUSAO_MEI  DATE\\n)',\n",
    "        ['cnpj','opcao_simples','data_opcao_simples','data_exclusao','opcao_mei','data_opcao_mei','data_exclusao_mei'],\n",
    "        {'cnpj': str}\n",
    "        ],\n",
    "    'CNAECSV': [\n",
    "        'CNAES',\n",
    "        'CREATE TABLE IF NOT EXISTS CNAES (\\n    CODIGO    VARCHAR PRIMARY KEY,\\n    DESCRICAO VARCHAR\\n)',\n",
    "        ['codigo','descricao'],\n",
    "        {'descricao': str}\n",
    "        ],\n",
    "     'MOTICSV': [\n",
    "        'MOTIVOS',\n",
    "        'CREATE TABLE IF NOT EXISTS MOTIVOS (\\n    CODIGO    INTEGER PRIMARY KEY,\\n    DESCRICAO VARCHAR\\n)',\n",
    "        ['codigo','descricao'],\n",
    "        {'descricao': str}\n",
    "        ],\n",
    "     'MUNICCSV': [\n",
    "        'MUNICIPIOS',\n",
    "        'CREATE TABLE IF NOT EXISTS MUNICIPIOS (\\n    CODIGO    INTEGERL PRIMARY KEY,\\n    DESCRICAO VARCHAR\\n)',\n",
    "        ['codigo','descricao'],\n",
    "        {'descricao': str}\n",
    "        ],\n",
    "     'NATJUCSV': [\n",
    "        'NATUREZAS',\n",
    "        'CREATE TABLE IF NOT EXISTS NATUREZAS (\\n    CODIGO    INTEGER PRIMARY KEY,\\n    DESCRICAO VARCHAR\\n)',\n",
    "        ['codigo','descricao'],\n",
    "        {'descricao': str}\n",
    "        ],\n",
    "     'PAISCSV': [\n",
    "        'PAISES',\n",
    "        'CREATE TABLE IF NOT EXISTS PAISES (\\n    CODIGO    INTEGER PRIMARY KEY,\\n    DESCRICAO VARCHAR\\n)',\n",
    "        ['codigo','descricao'],\n",
    "        {'descricao': str}\n",
    "        ],\n",
    "     'QUALSCSV': [\n",
    "        'QUALIFICACOES',\n",
    "        'CREATE TABLE IF NOT EXISTS QUALIFICACOES (\\n    CODIGO    INTEGER PRIMARY KEY,\\n    DESCRICAO VARCHAR\\n)',\n",
    "        ['codigo','descricao'],\n",
    "        {'descricao': str}\n",
    "        ],\n",
    "     'EMPRECSV': [\n",
    "        'EMPRESAS',\n",
    "        'CREATE TABLE IF NOT EXISTS EMPRESAS (\\n    CNPJ            VARCHAR (8) PRIMARY KEY,\\n    RAZAO           VARCHAR,\\n    NATUREZA        INTEGER,\\n    QUALIFICACAO_PF INTEGER,\\n    CAPITAL         FLOAT,\\n    PORTE           INTEGER,\\n    ENTE_FEDERATIVO INTEGER\\n)',\n",
    "        ['cnpj','razao','natureza','qualificacao_pf','capital','porte','ente_federativo'],\n",
    "        {'cnpj': str}\n",
    "        ],\n",
    "    'ESTABELE': [\n",
    "        'ESTABELECIMENTOS',\n",
    "        'CREATE TABLE IF NOT EXISTS ESTABELECIMENTOS \\n                    (CNPJ                   VARCHAR (8),\\n                    CNPJ_ORDEM             VARCHAR (4),\\n                    CNPJ_DV                VARCHAR (2),\\n                    MATRIZ_FILIAL          INTEGER,\\n                    NOME                   VARCHAR,\\n                    SITUACAO               INTEGER,\\n                    DATA_SITUACAO          DATE,\\n                    MOTIVO_SITUACAO        VARCHAR,\\n                    CIDADE_EXTERIOR        VARCHAR,\\n                    PAIS                   INTEGER,\\n                    INICIO_ATIVIDADE       DATE,\\n                    CNAE_FISCAL            VARCHAR,\\n                    CNAE_SECUNDARIO        VARCHAR,\\n                    TIPO_LOGRADOURO        VARCHAR,\\n                    LOGRADOURO             VARCHAR,\\n                    NUMERO                 VARCHAR,\\n                    COMPLEMENTO            VARCHAR,\\n                    BAIRRO                 VARCHAR,\\n                    CEP                    VARCHAR (8),\\n                    UF                     VARCHAR (2),\\n                    MUNICIPIO              INTEGER,\\n                    DDD_1                  VARCHAR,\\n                    TELEFONE_1             VARCHAR (11),\\n                    DDD_2                  INTEGER,\\n                    TELEFONE_2             VARCHAR (11),\\n                    DDD_FAX                INTEGER,\\n                    NUMERO_FAX             VARCHAR (11),\\n                    EMAIL                  VARCHAR,\\n                    SITUACAO_ESPECIAL      VARCHAR,\\n                    DATA_SITUACAO_ESPECIAL DATE \\n                    )',\n",
    "        ['cnpj','cnpj_ordem','cnpj_dv','matriz_filial','nome','situacao','data_situacao','motivo_situacao','cidade_exterior','pais','inicio_atividade','cnae_fiscal','cnae_secundario','tipo_logradouro','logradouro','numero','complemento','bairro','cep','uf','municipio','ddd_1','telefone_1','ddd_2','telefone_2','ddd_fax','numero_fax','email','situacao_especial','data_situacao_especial'],\n",
    "        {'cnpj': str, 'cnpj_ordem': str, 'cnpj_dv': str, 'MOTIVO_SITUACAO': int}\n",
    "        ],\n",
    "    'SOCIOCSV': [\n",
    "        'SOCIOS',\n",
    "        'CREATE TABLE IF NOT EXISTS SOCIOS (\\n    CNPJ                             VARCHAR (8) ,\\n    IDENTIFICADOR_SOCIO              INTEGER,\\n    NOME                             VARCHAR,\\n    CPF_CNPJ                         VARCHAR (14),\\n    QUALIFICACAO                     INTEGER,\\n    DATA_ENTRADA_SOCIEDADE           DATE,\\n    CODIGO_PAIS                      INTEGER,\\n    CPF_REPRESENTANTE_LEGAL          VARCHAR (11),\\n    NOME_REPRESENTANTE_LEGAL         VARCHAR,\\n    QUALIFICACAO_REPRESENTANTE_LEGAL INTEGER,\\n    FAIXA_ETARIA                     INTEGER\\n)',\n",
    "        ['cnpj','identificador_socio','nome','cpf_cnpj','qualificacao','data_entrada_sociedade','codigo_pais','cpf_representante_legal','nome_representante_legal','qualificacao_representante_legal','faixa_etaria'],\n",
    "        {'cnpj': str}\n",
    "        ]    \n",
    "    }"
   ]
  },
  {
   "cell_type": "code",
   "execution_count": null,
   "id": "2d7965ad-6ba8-4007-a42d-83c5b8218a48",
   "metadata": {},
   "outputs": [],
   "source": [
    "%%time\n",
    "connection = sqlite3.connect(PATH_BD)\n",
    "con = connection.cursor()"
   ]
  },
  {
   "cell_type": "code",
   "execution_count": null,
   "id": "9cab7c89-7d41-4f19-bf8c-96bd8b0c5a3b",
   "metadata": {},
   "outputs": [],
   "source": [
    "%%time\n",
    "manager = enlighten.get_manager()\n",
    "status_bar = manager.status_bar('Convertendo...',\n",
    "                            color='blue',\n",
    "                            justify=enlighten.Justify.CENTER)\n",
    "pbar = enlighten.Counter(total=len(dict_aux), desc='Tabela:' , unit='Tabelas',color='green')\n",
    "pbar.refresh()\n",
    "for key, value in dict_aux.items():       \n",
    "    con.execute('DROP TABLE IF EXISTS ' + value[0]) \n",
    "    con.execute(value[1])\n",
    "    \n",
    "    lista = [l for l in filtered if key in l]\n",
    "    pbar1 = enlighten.Counter(total=len(lista), desc='Aquivo CSV: ' + value[0] , unit='Arquivos', color='yellow')\n",
    "    pbar1.refresh()\n",
    "    for item in lista:\n",
    "        status_bar.update('Convertendo o arquivo: ' + str(item))\n",
    "        df = pd.read_csv(\"zips/\" + item, \n",
    "                         compression='zip',\n",
    "                         header=None, \n",
    "                         sep=';', \n",
    "                         quotechar='\"', \n",
    "                         encoding = \"ISO-8859-1\", \n",
    "                         low_memory=False,\n",
    "                         dtype = value[3],\n",
    "                         names=value[2])\n",
    "\n",
    "        df.to_sql(name = value[0], con = connection, if_exists = 'append', index = False)\n",
    "        pbar1.update()\n",
    "    pbar.update()\n",
    "    status_bar.update('Conversão Concluida!')\n",
    "manager.stop()"
   ]
  },
  {
   "cell_type": "code",
   "execution_count": null,
   "id": "861dbd0f",
   "metadata": {},
   "outputs": [],
   "source": [
    "# criar os indices corretos \n",
    "list_sql = [\n",
    "    \"\"\"CREATE INDEX IF NOT EXISTS IDX_SOCIOS ON SOCIOS (CNPJ ASC)\"\"\",\n",
    "    \"\"\"CREATE INDEX IF NOT EXISTS IDX_ESTABELECIMENTOS ON ESTABELECIMENTOS (CNPJ ASC)\"\"\",\n",
    "    \"\"\"CREATE INDEX IF NOT EXISTS IDX_EMPRESAS ON EMPRESAS (CNPJ ASC)\"\"\",\n",
    "    \"\"\"ALTER TABLE ESTABELECIMENTOS ADD COLUMN CNPJ_FULL VARCHAR (14)\"\"\",\n",
    "    \"\"\"UPDATE ESTABELECIMENTOS set CNPJ_FULL = cnpj || cnpj_ordem || cnpj_dv\"\"\",\n",
    "    \"\"\"CREATE INDEX IF NOT EXISTS IDX_ESTABELECIMENTOS_CNPJ_FULL ON ESTABELECIMENTOS (CNPJ_FULL ASC)\"\"\"\n",
    "    \n",
    "]\n",
    "list_sql[1]\n"
   ]
  },
  {
   "cell_type": "code",
   "execution_count": null,
   "id": "93fef354-a0e6-48a1-9ebc-f4fe2bbea871",
   "metadata": {},
   "outputs": [],
   "source": [
    "%%time\n",
    "for i in list_sql:\n",
    "    print(i)\n",
    "    con.executescript(i)"
   ]
  },
  {
   "cell_type": "code",
   "execution_count": null,
   "id": "754aa9ed",
   "metadata": {},
   "outputs": [],
   "source": [
    "%%time\n",
    "df = pd.read_sql_query(\"SELECT count(CNPJ) from ESTABELECIMENTOS\", connection)\n",
    "con.close()\n",
    "df.head()"
   ]
  },
  {
   "cell_type": "code",
   "execution_count": null,
   "id": "b7e032ce",
   "metadata": {},
   "outputs": [],
   "source": []
  },
  {
   "cell_type": "code",
   "execution_count": null,
   "id": "2e3b8568",
   "metadata": {},
   "outputs": [],
   "source": []
  },
  {
   "cell_type": "code",
   "execution_count": null,
   "id": "3485ab65",
   "metadata": {},
   "outputs": [],
   "source": []
  },
  {
   "cell_type": "code",
   "execution_count": null,
   "id": "56f029f7",
   "metadata": {},
   "outputs": [],
   "source": []
  },
  {
   "cell_type": "code",
   "execution_count": null,
   "id": "80306592",
   "metadata": {},
   "outputs": [],
   "source": []
  },
  {
   "cell_type": "code",
   "execution_count": null,
   "id": "f335aa5c",
   "metadata": {},
   "outputs": [],
   "source": []
  },
  {
   "cell_type": "code",
   "execution_count": null,
   "id": "eca73f4e",
   "metadata": {},
   "outputs": [],
   "source": []
  },
  {
   "cell_type": "code",
   "execution_count": null,
   "id": "0caf0284",
   "metadata": {},
   "outputs": [],
   "source": []
  },
  {
   "cell_type": "code",
   "execution_count": null,
   "id": "5c5b7725",
   "metadata": {},
   "outputs": [],
   "source": [
    "2 ** 20"
   ]
  },
  {
   "cell_type": "code",
   "execution_count": null,
   "id": "04183c63",
   "metadata": {},
   "outputs": [],
   "source": [
    "1024 *1024"
   ]
  },
  {
   "cell_type": "code",
   "execution_count": null,
   "id": "725e417b",
   "metadata": {},
   "outputs": [],
   "source": []
  },
  {
   "cell_type": "code",
   "execution_count": null,
   "id": "dfb6513c",
   "metadata": {},
   "outputs": [],
   "source": []
  },
  {
   "cell_type": "code",
   "execution_count": null,
   "id": "a4265d1d",
   "metadata": {},
   "outputs": [],
   "source": []
  },
  {
   "cell_type": "code",
   "execution_count": null,
   "id": "9dfddd1a",
   "metadata": {},
   "outputs": [],
   "source": [
    "%time\n",
    "list_estabelecimentos = [\n",
    "\"cnpj\", \n",
    "\"cnpj_ordem\", \n",
    "\"cnpj_dv\", \n",
    "\"matriz_filial\",\n",
    "\"nome\",\n",
    "\"situacao\", \n",
    "\"data_situacao\", \n",
    "\"motivo_situacao\", \n",
    "\"cidade_exterior\", \n",
    "\"pais\", \n",
    "\"inicio_atividade\", \n",
    "\"cnae_fiscal\", \n",
    "\"cnae_secundario\", \n",
    "\"tipo_logradouro\", \n",
    "\"logradouro\", \n",
    "\"numero\", \n",
    "\"complemento\", \n",
    "\"bairro\", \n",
    "\"cep\", \n",
    "\"uf\", \n",
    "\"municipio\", \n",
    "\"ddd_1\", \n",
    "\"telefone_1\", \n",
    "\"ddd_2\", \n",
    "\"telefone_2\", \n",
    "\"ddd_fax\", \n",
    "\"numero_fax\", \n",
    "\"email\", \n",
    "\"situacao_especial\", \n",
    "\"data_situacao_especial\"\n",
    "]"
   ]
  },
  {
   "cell_type": "code",
   "execution_count": null,
   "id": "8526387c",
   "metadata": {},
   "outputs": [],
   "source": [
    "%time\n",
    "\n",
    "import sqlite3\n",
    "\n",
    "connection = sqlite3.connect(PATH_BD)\n",
    "con = connection.cursor()\n",
    "\n",
    "sql = \"\"\"CREATE TABLE EMPRESAS (\n",
    "    CNPJ            VARCHAR (8),\n",
    "    RAZAO           VARCHAR,\n",
    "    NATUREZA        INTEGER,\n",
    "    QUALIFICACAO_PF INTEGER,\n",
    "    CAPITAL         FLOAT,\n",
    "    PORTE           INTEGER,\n",
    "    ENTE_FEDERATIVO INTEGER\n",
    ")\n",
    "                \"\"\"\n",
    "\n",
    "\n",
    "con.execute('DROP TABLE IF EXISTS EMPRESAS') \n",
    "con.execute('VACUUM') \n",
    "con.execute(sql)\n"
   ]
  },
  {
   "cell_type": "code",
   "execution_count": null,
   "id": "bd0d3ae2",
   "metadata": {},
   "outputs": [],
   "source": [
    "lista = [l for l in filtered if \"ESTABELE\" in l]\n",
    "\n",
    "pbar = enlighten.Counter(total=len(lista), desc='Aquivo:' , unit='Arquivos')\n",
    "manager = enlighten.get_manager()\n",
    "status_bar = manager.status_bar('Convertendo...',\n",
    "                                color='blue',\n",
    "                                justify=enlighten.Justify.CENTER)\n",
    "for item in lista:\n",
    "    status_bar.update('Convertendo o arquivo: ' + str(item))\n",
    "    df = pd.read_csv(\"zips/\" + item, \n",
    "                     compression='zip',\n",
    "                     header=None, \n",
    "                     sep=';', \n",
    "                     quotechar='\"', \n",
    "                     encoding = \"ISO-8859-1\", \n",
    "                     low_memory=False,\n",
    "                     dtype = {'cnpj': str, 'cnpj_ordem': str, 'cnpj_dv': str},\n",
    "                     names=list_estabelecimentos,\n",
    "                     parse_dates=['data_situacao','inicio_atividade','data_situacao_especial'])\n",
    "\n",
    "\n",
    "#    df['data_situacao']= df['data_situacao'].replace(0, np.nan)\n",
    "\n",
    "#    df['data_situacao'] = pd.to_datetime(df['data_situacao'], format=formato_data)\n",
    "#    df['inicio_atividade'] = pd.to_datetime(df['inicio_atividade'], format=formato_data)\n",
    "#    df['data_situacao_especial'] = pd.to_datetime(df['data_situacao_especial'], format=formato_data)\n",
    "\n",
    "    df.to_sql(name = 'ESTABELECIMENTOS', con = connection, if_exists = 'append', index = False)\n",
    "    pbar.update()\n",
    "status_bar.update('Conversão Concluida!' + str(item))"
   ]
  },
  {
   "cell_type": "code",
   "execution_count": null,
   "id": "13b66642",
   "metadata": {},
   "outputs": [],
   "source": [
    "list_empresas = [\n",
    "\"CNPJ\", \n",
    "\"RAZAO\", \n",
    "\"NATUREZA\", \n",
    "\"QUALIFICACAO_PF\",\n",
    "\"CAPITAL\",\n",
    "\"PORTE\",\n",
    "\"ENTE_FEDERATIVO\"\n",
    "]"
   ]
  },
  {
   "cell_type": "code",
   "execution_count": null,
   "id": "c372197e",
   "metadata": {},
   "outputs": [],
   "source": []
  },
  {
   "cell_type": "code",
   "execution_count": null,
   "id": "777cde2b",
   "metadata": {},
   "outputs": [],
   "source": [
    "lista = [l for l in filtered if \"EMPRECSV\" in l]\n",
    "\n",
    "pbar = enlighten.Counter(total=len(lista), desc='Aquivo:' , unit='Arquivos')\n",
    "manager = enlighten.get_manager()\n",
    "status_bar = manager.status_bar('Convertendo...',\n",
    "                                color='blue',\n",
    "                                justify=enlighten.Justify.CENTER)\n",
    "for item in lista:\n",
    "    status_bar.update('Convertendo o arquivo: ' + str(item))\n",
    "    df = pd.read_csv(\"zips/\" + item, \n",
    "                     compression='zip',\n",
    "                     header=None, \n",
    "                     sep=';', \n",
    "                     quotechar='\"', \n",
    "                     encoding = \"ISO-8859-1\", \n",
    "                     low_memory=False,\n",
    "                     dtype = {'cnpj': str},\n",
    "                     names=list_empresas)\n",
    "\n",
    "    df.to_sql(name = 'EMPRESAS', con = connection, if_exists = 'append', index = False)\n",
    "    pbar.update()\n",
    "status_bar.update('Conversão Concluida!')"
   ]
  },
  {
   "cell_type": "code",
   "execution_count": null,
   "id": "f3d18978",
   "metadata": {},
   "outputs": [],
   "source": [
    "\n",
    "\n",
    "%time\n",
    "\n",
    "import sqlite3\n",
    "\n",
    "connection = sqlite3.connect(PATH_BD)\n",
    "con = connection.cursor()\n",
    "\n",
    "sql = \"\"\"CREATE TABLE QUALIFICACOES (\n",
    "                CODIGO    INTEGER NOT NULL,\n",
    "                DESCRICAO VARCHAR\n",
    "            )\n",
    "                \"\"\"\n",
    "\n",
    "\n",
    "con.execute('DROP TABLE IF EXISTS QUALIFICACOES') \n",
    "con.execute('VACUUM') \n",
    "con.execute(sql)"
   ]
  },
  {
   "cell_type": "code",
   "execution_count": null,
   "id": "468f2ac6",
   "metadata": {},
   "outputs": [],
   "source": [
    "list_qualificacoes = [\n",
    "\"CODIGO\", \n",
    "\"DESCRICAO\"\n",
    "]"
   ]
  },
  {
   "cell_type": "code",
   "execution_count": null,
   "id": "1437ac69",
   "metadata": {},
   "outputs": [],
   "source": [
    "lista = [l for l in filtered if \"QUALSCSV\" in l]\n",
    "\n",
    "\n",
    "pbar = enlighten.Counter(total=len(lista), desc='Aquivo:' , unit='Arquivos')\n",
    "manager = enlighten.get_manager()\n",
    "status_bar = manager.status_bar('Convertendo...',\n",
    "                                color='blue',\n",
    "                                justify=enlighten.Justify.CENTER)\n",
    "for item in lista:\n",
    "    status_bar.update('Convertendo o arquivo: ' + str(item))\n",
    "    df = pd.read_csv(\"zips/\" + item, \n",
    "                     compression='zip',\n",
    "                     header=None, \n",
    "                     sep=';', \n",
    "                     quotechar='\"', \n",
    "                     encoding = \"ISO-8859-1\", \n",
    "                     low_memory=False,\n",
    "                     dtype = {'cnpj': str},\n",
    "                     names=list_qualificacoes)\n",
    "\n",
    "    df.to_sql(name = 'QUALIFICACOES', con = connection, if_exists = 'append', index = False)\n",
    "    pbar.update()\n",
    "status_bar.update('Conversão Concluida!' + str(item))"
   ]
  },
  {
   "cell_type": "code",
   "execution_count": null,
   "id": "5a0be95c",
   "metadata": {},
   "outputs": [],
   "source": []
  },
  {
   "cell_type": "code",
   "execution_count": null,
   "id": "f0170d1a",
   "metadata": {},
   "outputs": [],
   "source": [
    "df_aux = pd.read_excel(\"auxiliar.xlsx\")\n"
   ]
  },
  {
   "cell_type": "code",
   "execution_count": null,
   "id": "f681a67d",
   "metadata": {},
   "outputs": [],
   "source": [
    "df_aux"
   ]
  },
  {
   "cell_type": "code",
   "execution_count": null,
   "id": "0355872f",
   "metadata": {},
   "outputs": [],
   "source": [
    "for index, row in df_aux.iterrows():\n",
    "    print(index, row['titulo'], row['campos_panda'])\n"
   ]
  },
  {
   "cell_type": "code",
   "execution_count": null,
   "id": "37e98e44",
   "metadata": {},
   "outputs": [],
   "source": [
    "df_aux.set_index('titulo').T.to_dict('list')"
   ]
  },
  {
   "cell_type": "code",
   "execution_count": null,
   "id": "7af88484",
   "metadata": {},
   "outputs": [],
   "source": [
    "dicionario = {\n",
    "    'SIMPLES': [\n",
    "        'SIMPLES',\n",
    "        'CREATE TABLE IF NOT EXISTS DADOS_SIMPLES (\\n    ID                 INTEGER     NOT NULL,\\n    CNPJ               VARCHAR (8),\\n    OPCAO_SIMPLES      VARCHAR (1),\\n    DATA_OPCAO_SIMPLES DATE,\\n    DATA_EXCLUSAO      DATE,\\n    OPCAO_MEI          VARCHAR (1),\\n    DATA_OPCAO_MEI     DATE,\\n    DATA_EXCLUSAO_MEI  DATE\\n)',\n",
    "        ['cnpj','opcao_simples','data_opcao_simples','data_exclusao','opcao_mei','data_opcao_mei','data_exclusao_mei']\n",
    "        ],\n",
    "    'CNAECSV': [\n",
    "        'CNAES',\n",
    "        'CREATE TABLE IF NOT EXISTS CNAES (\\n    CODIGO    VARCHAR NOT NULL,\\n    DESCRICAO VARCHAR\\n)',\n",
    "        ['codigo','descricao']\n",
    "        ],\n",
    "     'MOTICSV': [\n",
    "        'MOTIVOS',\n",
    "        'CREATE TABLE IF NOT EXISTS MOTIVOS (\\n    CODIGO    INTEGER NOT NULL,\\n    DESCRICAO VARCHAR\\n)',\n",
    "        ['codigo','descricao']\n",
    "        ],\n",
    "     'MUNICCSV': [\n",
    "        'MUNICIPIOS',\n",
    "        'CREATE TABLE IF NOT EXISTS MUNICIPIOS (\\n    CODIGO    INTEGER NOT NULL,\\n    DESCRICAO VARCHAR\\n)',\n",
    "        ['codigo','descricao']\n",
    "        ],\n",
    "     'NATJUCSV': [\n",
    "        'NATUREZAS',\n",
    "        'CREATE TABLE IF NOT EXISTS NATUREZAS (\\n    CODIGO    INTEGER NOT NULL,\\n    DESCRICAO VARCHAR\\n)',\n",
    "        ['codigo','descricao']\n",
    "        ],\n",
    "     'PAISCSV': [\n",
    "        'PAISES',\n",
    "        'CREATE TABLE IF NOT EXISTS PAISES (\\n    CODIGO    INTEGER NOT NULL,\\n    DESCRICAO VARCHAR\\n)',\n",
    "        ['codigo','descricao']\n",
    "        ],\n",
    "     'QUALSCSV': [\n",
    "        'QUALIFICACOES',\n",
    "        'CREATE TABLE IF NOT EXISTS QUALIFICACOES (\\n    CODIGO    INTEGER NOT NULL,\\n    DESCRICAO VARCHAR\\n)',\n",
    "        ['codigo','descricao']\n",
    "        ],\n",
    "     'EMPRECSV': [\n",
    "        'EMPRESAS',\n",
    "        'CREATE TABLE IF NOT EXISTS EMPRESAS (\\n    ID              INTEGER     NOT NULL,\\n    CNPJ            VARCHAR (8),\\n    RAZAO           VARCHAR,\\n    NATUREZA        INTEGER,\\n    QUALIFICACAO_PF INTEGER,\\n    CAPITAL         FLOAT,\\n    PORTE           INTEGER,\\n    ENTE_FEDERATIVO INTEGER\\n)',\n",
    "        ['cnpj','razao','natureza','qualificacao_pf','capital','porte','ente_federativo']\n",
    "        ],\n",
    "    'ESTABELE': [\n",
    "        'ESTABELECIMENTOS',\n",
    "        'CREATE TABLE IF NOT EXISTS ESTABELECIMENTOS \\n                    (CNPJ                   VARCHAR (8),\\n                    CNPJ_ORDEM             VARCHAR (4),\\n                    CNPJ_DV                VARCHAR (2),\\n                    MATRIZ_FILIAL          INTEGER,\\n                    NOME                   VARCHAR,\\n                    SITUACAO               INTEGER,\\n                    DATA_SITUACAO          DATE,\\n                    MOTIVO_SITUACAO        VARCHAR,\\n                    CIDADE_EXTERIOR        VARCHAR,\\n                    PAIS                   INTEGER,\\n                    INICIO_ATIVIDADE       DATE,\\n                    CNAE_FISCAL            VARCHAR,\\n                    CNAE_SECUNDARIO        VARCHAR,\\n                    TIPO_LOGRADOURO        VARCHAR,\\n                    LOGRADOURO             VARCHAR,\\n                    NUMERO                 VARCHAR,\\n                    COMPLEMENTO            VARCHAR,\\n                    BAIRRO                 VARCHAR,\\n                    CEP                    VARCHAR (8),\\n                    UF                     VARCHAR (2),\\n                    MUNICIPIO              INTEGER,\\n                    DDD_1                  VARCHAR,\\n                    TELEFONE_1             VARCHAR (11),\\n                    DDD_2                  INTEGER,\\n                    TELEFONE_2             VARCHAR (11),\\n                    DDD_FAX                INTEGER,\\n                    NUMERO_FAX             VARCHAR (11),\\n                    EMAIL                  VARCHAR,\\n                    SITUACAO_ESPECIAL      VARCHAR,\\n                    DATA_SITUACAO_ESPECIAL DATE \\n                    )',\n",
    "        ['cnpj','ncnpj_ordem','ncnpj_dv','nmatriz_filial','nome','situacao','data_situacao','motivo_situacao','cidade_exterior','pais','inicio_atividade','cnae_fiscal','cnae_secundario','tipo_logradouro','logradouro','numero','complemento','bairro','cep','uf','municipio','ddd_1','telefone_1','ddd_2','telefone_2','ddd_fax','numero_fax','email','situacao_especial','data_situacao_especial']\n",
    "        ],\n",
    "    'SOCIOCSV': [\n",
    "        'SOCIOS',\n",
    "        'CREATE TABLE IF NOT EXISTS SOCIOS (\\n    ID                               INTEGER      NOT NULL,\\n    CNPJ                             VARCHAR (8),\\n    IDENTIFICADOR_SOCIO              INTEGER,\\n    NOME                             VARCHAR,\\n    CPF_CNPJ                         VARCHAR (14),\\n    QUALIFICACAO                     INTEGER,\\n    DATA_ENTRADA_SOCIEDADE           DATE,\\n    CODIGO_PAIS                      INTEGER,\\n    CPF_REPRESENTANTE_LEGAL          VARCHAR (11),\\n    NOME_REPRESENTANTE_LEGAL         VARCHAR,\\n    QUALIFICACAO_REPRESENTANTE_LEGAL INTEGER,\\n    FAIXA_ETARIA                     INTEGER\\n)',\n",
    "        ['cnpj','identificador_socio','nome','cpf_cnpj','qualificacao','data_entrada_sociedade','codigo_pais','cpf_representante_legal','nome_representante_legal','qualificacao_representante_legal','faixa_etaria']\n",
    "        ]    \n",
    "    }"
   ]
  },
  {
   "cell_type": "code",
   "execution_count": null,
   "id": "2ade9801",
   "metadata": {},
   "outputs": [],
   "source": [
    "dicionario = {\n",
    "    'SIMPLES': {\n",
    "        'nome_tabela': 'SIMPLES',\n",
    "        'create_tabela': 'CREATE TABLE IF NOT EXISTS DADOS_SIMPLES (\\n    ID                 INTEGER     NOT NULL,\\n    CNPJ               VARCHAR (8),\\n    OPCAO_SIMPLES      VARCHAR (1),\\n    DATA_OPCAO_SIMPLES DATE,\\n    DATA_EXCLUSAO      DATE,\\n    OPCAO_MEI          VARCHAR (1),\\n    DATA_OPCAO_MEI     DATE,\\n    DATA_EXCLUSAO_MEI  DATE\\n)',\n",
    "        'campos_panda': ['cnpj','opcao_simples','data_opcao_simples','data_exclusao','opcao_mei','data_opcao_mei','data_exclusao_mei']\n",
    "        },\n",
    "     'CNAECSV': {\n",
    "        'nome_tabela': 'CNAES',\n",
    "        'create_tabela': 'CREATE TABLE IF NOT EXISTS CNAES (\\n    CODIGO    VARCHAR NOT NULL,\\n    DESCRICAO VARCHAR\\n)',\n",
    "        'campos_panda': ['codigo','descricao']\n",
    "         },\n",
    "     'MOTICSV': {\n",
    "        'nome_tabela': 'MOTIVOS',\n",
    "        'create_tabela': 'CREATE TABLE IF NOT EXISTS MOTIVOS (\\n    CODIGO    INTEGER NOT NULL,\\n    DESCRICAO VARCHAR\\n)',\n",
    "        'campos_panda': ['codigo','descricao']\n",
    "         },\n",
    "     'MUNICCSV': {\n",
    "        'nome_tabela': 'MUNICIPIOS',\n",
    "        'create_tabela': 'CREATE TABLE IF NOT EXISTS MUNICIPIOS (\\n    CODIGO    INTEGER NOT NULL,\\n    DESCRICAO VARCHAR\\n)',\n",
    "        'campos_panda': ['codigo','descricao']\n",
    "         },\n",
    "     'NATJUCSV': {\n",
    "        'nome_tabela': 'NATUREZAS',\n",
    "        'create_tabela': 'CREATE TABLE IF NOT EXISTS NATUREZAS (\\n    CODIGO    INTEGER NOT NULL,\\n    DESCRICAO VARCHAR\\n)',\n",
    "        'campos_panda': ['codigo','descricao']\n",
    "         },\n",
    "    'PAISCSV': {\n",
    "        'nome_tabela': 'PAISES',\n",
    "        'create_tabela': 'CREATE TABLE IF NOT EXISTS PAISES (\\n    CODIGO    INTEGER NOT NULL,\\n    DESCRICAO VARCHAR\\n)',\n",
    "        'campos_panda': ['codigo','descricao']\n",
    "        },\n",
    "     'QUALSCSV': {\n",
    "        'nome_tabela': 'QUALIFICACOES',\n",
    "        'create_tabela': 'CREATE TABLE IF NOT EXISTS QUALIFICACOES (\\n    CODIGO    INTEGER NOT NULL,\\n    DESCRICAO VARCHAR\\n)',\n",
    "        'campos_panda': ['codigo','descricao']\n",
    "         },\n",
    "     'EMPRECSV': {\n",
    "        'nome_tabela': 'EMPRESAS',\n",
    "        'create_tabela': 'CREATE TABLE IF NOT EXISTS EMPRESAS (\\n    ID              INTEGER     NOT NULL,\\n    CNPJ            VARCHAR (8),\\n    RAZAO           VARCHAR,\\n    NATUREZA        INTEGER,\\n    QUALIFICACAO_PF INTEGER,\\n    CAPITAL         FLOAT,\\n    PORTE           INTEGER,\\n    ENTE_FEDERATIVO INTEGER\\n)',\n",
    "        'campos_panda': ['cnpj','razao','natureza','qualificacao_pf','capital','porte','ente_federativo']\n",
    "         },\n",
    "     'ESTABELE': {\n",
    "        'nome_tabela': 'ESTABELECIMENTOS',\n",
    "        'create_tabela': 'CREATE TABLE IF NOT EXISTS ESTABELECIMENTOS \\n                    (CNPJ                   VARCHAR (8),\\n                    CNPJ_ORDEM             VARCHAR (4),\\n                    CNPJ_DV                VARCHAR (2),\\n                    MATRIZ_FILIAL          INTEGER,\\n                    NOME                   VARCHAR,\\n                    SITUACAO               INTEGER,\\n                    DATA_SITUACAO          DATE,\\n                    MOTIVO_SITUACAO        VARCHAR,\\n                    CIDADE_EXTERIOR        VARCHAR,\\n                    PAIS                   INTEGER,\\n                    INICIO_ATIVIDADE       DATE,\\n                    CNAE_FISCAL            VARCHAR,\\n                    CNAE_SECUNDARIO        VARCHAR,\\n                    TIPO_LOGRADOURO        VARCHAR,\\n                    LOGRADOURO             VARCHAR,\\n                    NUMERO                 VARCHAR,\\n                    COMPLEMENTO            VARCHAR,\\n                    BAIRRO                 VARCHAR,\\n                    CEP                    VARCHAR (8),\\n                    UF                     VARCHAR (2),\\n                    MUNICIPIO              INTEGER,\\n                    DDD_1                  VARCHAR,\\n                    TELEFONE_1             VARCHAR (11),\\n                    DDD_2                  INTEGER,\\n                    TELEFONE_2             VARCHAR (11),\\n                    DDD_FAX                INTEGER,\\n                    NUMERO_FAX             VARCHAR (11),\\n                    EMAIL                  VARCHAR,\\n                    SITUACAO_ESPECIAL      VARCHAR,\\n                    DATA_SITUACAO_ESPECIAL DATE \\n                    )',\n",
    "        'campos_panda': ['cnpj','ncnpj_ordem','ncnpj_dv','nmatriz_filial','nome','situacao','data_situacao','motivo_situacao','cidade_exterior','pais','inicio_atividade','cnae_fiscal','cnae_secundario','tipo_logradouro','logradouro','numero','complemento','bairro','cep','uf','municipio','ddd_1','telefone_1','ddd_2','telefone_2','ddd_fax','numero_fax','email','situacao_especial','data_situacao_especial']\n",
    "         },\n",
    "     'SOCIOCSV': {\n",
    "        'nome_tabela': 'SOCIOS',\n",
    "        'create_tabela': 'CREATE TABLE IF NOT EXISTS SOCIOS (\\n    ID                               INTEGER      NOT NULL,\\n    CNPJ                             VARCHAR (8),\\n    IDENTIFICADOR_SOCIO              INTEGER,\\n    NOME                             VARCHAR,\\n    CPF_CNPJ                         VARCHAR (14),\\n    QUALIFICACAO                     INTEGER,\\n    DATA_ENTRADA_SOCIEDADE           DATE,\\n    CODIGO_PAIS                      INTEGER,\\n    CPF_REPRESENTANTE_LEGAL          VARCHAR (11),\\n    NOME_REPRESENTANTE_LEGAL         VARCHAR,\\n    QUALIFICACAO_REPRESENTANTE_LEGAL INTEGER,\\n    FAIXA_ETARIA                     INTEGER\\n)',\n",
    "        'campos_panda': ['cnpj','identificador_socio','nome','cpf_cnpj','qualificacao','data_entrada_sociedade','codigo_pais','cpf_representante_legal','nome_representante_legal','qualificacao_representante_legal','faixa_etaria']\n",
    "         }\n",
    "}"
   ]
  },
  {
   "cell_type": "code",
   "execution_count": null,
   "id": "c342441f",
   "metadata": {},
   "outputs": [],
   "source": [
    "dicionario\n",
    "for key, value in dicionario.items():\n",
    "    print(key)\n",
    "    for i, val in enumerate(value):\n",
    "        print (i, \",\",val)"
   ]
  },
  {
   "cell_type": "code",
   "execution_count": null,
   "id": "e9877f3e",
   "metadata": {},
   "outputs": [],
   "source": [
    "dicionario['SIMPLES'][2]"
   ]
  },
  {
   "cell_type": "code",
   "execution_count": null,
   "id": "a86cb854",
   "metadata": {},
   "outputs": [],
   "source": []
  },
  {
   "cell_type": "code",
   "execution_count": null,
   "id": "85ec4a32",
   "metadata": {},
   "outputs": [],
   "source": [
    "back = pd.read_sql('select * from estabelecimentos', connection)\n",
    "\n",
    "back"
   ]
  },
  {
   "cell_type": "code",
   "execution_count": null,
   "id": "462f535e",
   "metadata": {},
   "outputs": [],
   "source": [
    "df = pd.DataFrame(filtered)\n",
    "df[df[0].str.contains(\"EMPRECSV\", regex=False)]\n"
   ]
  },
  {
   "cell_type": "code",
   "execution_count": null,
   "id": "901532e2",
   "metadata": {},
   "outputs": [],
   "source": [
    "lista = [l for l in filtered if \"QUALSCSV\" in l]\n",
    "lista"
   ]
  },
  {
   "cell_type": "code",
   "execution_count": null,
   "id": "2a9d09fa",
   "metadata": {},
   "outputs": [],
   "source": [
    "filtered"
   ]
  },
  {
   "cell_type": "code",
   "execution_count": null,
   "id": "a08ac27e",
   "metadata": {},
   "outputs": [],
   "source": [
    "list_tabelas = [\n",
    "                \"SIMPLES\", \n",
    "                \"CNAECSV\",\n",
    "                \"MOTICSV\",\n",
    "                \"MUNICCSV\",\n",
    "                \"NATJUCSV\",\n",
    "                \"PAISCSV\",\n",
    "                \"QUALSCSV\",\n",
    "                \"EMPRECSV\",\n",
    "                \"ESTABELE\",\n",
    "                \"SOCIOCSV\",\n",
    "                \"EMPRECSV\"]\n",
    "\n"
   ]
  },
  {
   "cell_type": "code",
   "execution_count": null,
   "id": "933f82e3",
   "metadata": {},
   "outputs": [],
   "source": [
    "for l in list_tabelas:\n",
    "    lista = [item for item in filtered if l in item]\n",
    "    display(lista)"
   ]
  },
  {
   "cell_type": "code",
   "execution_count": null,
   "id": "41a899ee",
   "metadata": {},
   "outputs": [],
   "source": []
  },
  {
   "cell_type": "code",
   "execution_count": null,
   "id": "a14c3b7e",
   "metadata": {},
   "outputs": [],
   "source": []
  },
  {
   "cell_type": "code",
   "execution_count": null,
   "id": "4635560f",
   "metadata": {},
   "outputs": [],
   "source": []
  },
  {
   "cell_type": "code",
   "execution_count": null,
   "id": "0bddad30",
   "metadata": {},
   "outputs": [],
   "source": []
  },
  {
   "cell_type": "code",
   "execution_count": null,
   "id": "53e3a396",
   "metadata": {},
   "outputs": [],
   "source": [
    "\n",
    "CREATE TABLE IF NOT EXISTS ESTABELECIMENTOS \n",
    "                    (CNPJ                   VARCHAR (8),\n",
    "                    CNPJ_ORDEM             VARCHAR (4),\n",
    "                    CNPJ_DV                VARCHAR (2),\n",
    "                    MATRIZ_FILIAL          INTEGER,\n",
    "                    NOME                   VARCHAR,\n",
    "                    SITUACAO               INTEGER,\n",
    "                    DATA_SITUACAO          DATE,\n",
    "                    MOTIVO_SITUACAO        VARCHAR,\n",
    "                    CIDADE_EXTERIOR        VARCHAR,\n",
    "                    PAIS                   INTEGER,\n",
    "                    INICIO_ATIVIDADE       DATE,\n",
    "                    CNAE_FISCAL            VARCHAR,\n",
    "                    CNAE_SECUNDARIO        VARCHAR,\n",
    "                    TIPO_LOGRADOURO        VARCHAR,\n",
    "                    LOGRADOURO             VARCHAR,\n",
    "                    NUMERO                 VARCHAR,\n",
    "                    COMPLEMENTO            VARCHAR,\n",
    "                    BAIRRO                 VARCHAR,\n",
    "                    CEP                    VARCHAR (8),\n",
    "                    UF                     VARCHAR (2),\n",
    "                    MUNICIPIO              INTEGER,\n",
    "                    DDD_1                  VARCHAR,\n",
    "                    TELEFONE_1             VARCHAR (11),\n",
    "                    DDD_2                  INTEGER,\n",
    "                    TELEFONE_2             VARCHAR (11),\n",
    "                    DDD_FAX                INTEGER,\n",
    "                    NUMERO_FAX             VARCHAR (11),\n",
    "                    EMAIL                  VARCHAR,\n",
    "                    SITUACAO_ESPECIAL      VARCHAR,\n",
    "                    DATA_SITUACAO_ESPECIAL DATE \n",
    "                    )\n",
    "\n",
    "CREATE TABLE IF NOT EXISTS EMPRESAS (\n",
    "    ID              INTEGER     NOT NULL,\n",
    "    CNPJ            VARCHAR (8),\n",
    "    RAZAO           VARCHAR,\n",
    "    NATUREZA        INTEGER,\n",
    "    QUALIFICACAO_PF INTEGER,\n",
    "    CAPITAL         FLOAT,\n",
    "    PORTE           INTEGER,\n",
    "    ENTE_FEDERATIVO INTEGER\n",
    ")\n",
    "\n",
    "CREATE TABLE IF NOT EXISTS CNAES (\n",
    "    CODIGO    VARCHAR NOT NULL,\n",
    "    DESCRICAO VARCHAR\n",
    ")\n",
    "CREATE TABLE IF NOT EXISTS DADOS_SIMPLES (\n",
    "    ID                 INTEGER     NOT NULL,\n",
    "    CNPJ               VARCHAR (8),\n",
    "    OPCAO_SIMPLES      VARCHAR (1),\n",
    "    DATA_OPCAO_SIMPLES DATE,\n",
    "    DATA_EXCLUSAO      DATE,\n",
    "    OPCAO_MEI          VARCHAR (1),\n",
    "    DATA_OPCAO_MEI     DATE,\n",
    "    DATA_EXCLUSAO_MEI  DATE\n",
    ")\n",
    "CREATE TABLE IF NOT EXISTS MUNICIPIOS (\n",
    "    CODIGO    INTEGER NOT NULL,\n",
    "    DESCRICAO VARCHAR\n",
    ")\n",
    "CREATE TABLE IF NOT EXISTS NATUREZAS (\n",
    "    CODIGO    INTEGER NOT NULL,\n",
    "    DESCRICAO VARCHAR\n",
    ")\n",
    "CREATE TABLE IF NOT EXISTS PAISES (\n",
    "    CODIGO    INTEGER NOT NULL,\n",
    "    DESCRICAO VARCHAR\n",
    ")\n",
    "CREATE TABLE IF NOT EXISTS QUALIFICACOES (\n",
    "    CODIGO    INTEGER NOT NULL,\n",
    "    DESCRICAO VARCHAR\n",
    ")\n",
    "CREATE TABLE IF NOT EXISTS SOCIOS (\n",
    "    ID                               INTEGER      NOT NULL,\n",
    "    CNPJ                             VARCHAR (8),\n",
    "    IDENTIFICADOR_SOCIO              INTEGER,\n",
    "    NOME                             VARCHAR,\n",
    "    CPF_CNPJ                         VARCHAR (14),\n",
    "    QUALIFICACAO                     INTEGER,\n",
    "    DATA_ENTRADA_SOCIEDADE           DATE,\n",
    "    CODIGO_PAIS                      INTEGER,\n",
    "    CPF_REPRESENTANTE_LEGAL          VARCHAR (11),\n",
    "    NOME_REPRESENTANTE_LEGAL         VARCHAR,\n",
    "    QUALIFICACAO_REPRESENTANTE_LEGAL INTEGER,\n",
    "    FAIXA_ETARIA                     INTEGER\n",
    ")\n"
   ]
  },
  {
   "cell_type": "code",
   "execution_count": null,
   "id": "7d4a84be",
   "metadata": {},
   "outputs": [],
   "source": []
  },
  {
   "cell_type": "code",
   "execution_count": null,
   "id": "29eb2564",
   "metadata": {},
   "outputs": [],
   "source": []
  },
  {
   "cell_type": "code",
   "execution_count": null,
   "id": "1c336aaf",
   "metadata": {},
   "outputs": [],
   "source": []
  },
  {
   "cell_type": "code",
   "execution_count": null,
   "id": "714363b9",
   "metadata": {},
   "outputs": [],
   "source": []
  },
  {
   "cell_type": "code",
   "execution_count": null,
   "id": "3c8a7761",
   "metadata": {},
   "outputs": [],
   "source": []
  },
  {
   "cell_type": "code",
   "execution_count": null,
   "id": "b9784593",
   "metadata": {},
   "outputs": [],
   "source": []
  },
  {
   "cell_type": "code",
   "execution_count": null,
   "id": "85f6b8e8",
   "metadata": {},
   "outputs": [],
   "source": []
  },
  {
   "cell_type": "code",
   "execution_count": null,
   "id": "73c231ce",
   "metadata": {},
   "outputs": [],
   "source": []
  },
  {
   "cell_type": "code",
   "execution_count": null,
   "id": "36fc3d70",
   "metadata": {},
   "outputs": [],
   "source": []
  },
  {
   "cell_type": "code",
   "execution_count": null,
   "id": "5d2d87d7",
   "metadata": {},
   "outputs": [],
   "source": []
  },
  {
   "cell_type": "code",
   "execution_count": null,
   "id": "c24baa6a",
   "metadata": {},
   "outputs": [],
   "source": []
  },
  {
   "cell_type": "code",
   "execution_count": null,
   "id": "4c84242e",
   "metadata": {},
   "outputs": [],
   "source": []
  },
  {
   "cell_type": "code",
   "execution_count": null,
   "id": "0262a392",
   "metadata": {},
   "outputs": [],
   "source": []
  },
  {
   "cell_type": "code",
   "execution_count": null,
   "id": "20c5280d",
   "metadata": {},
   "outputs": [],
   "source": []
  },
  {
   "cell_type": "code",
   "execution_count": null,
   "id": "3344f5dd",
   "metadata": {},
   "outputs": [],
   "source": []
  },
  {
   "cell_type": "code",
   "execution_count": null,
   "id": "b6dfa897",
   "metadata": {},
   "outputs": [],
   "source": []
  },
  {
   "cell_type": "code",
   "execution_count": null,
   "id": "290ecd6f",
   "metadata": {},
   "outputs": [],
   "source": []
  },
  {
   "cell_type": "code",
   "execution_count": null,
   "id": "10c64ab3",
   "metadata": {},
   "outputs": [],
   "source": []
  },
  {
   "cell_type": "code",
   "execution_count": null,
   "id": "c38ebc43",
   "metadata": {},
   "outputs": [],
   "source": []
  },
  {
   "cell_type": "code",
   "execution_count": null,
   "id": "d653b043",
   "metadata": {},
   "outputs": [],
   "source": []
  },
  {
   "cell_type": "code",
   "execution_count": null,
   "id": "3f54323a",
   "metadata": {},
   "outputs": [],
   "source": []
  },
  {
   "cell_type": "code",
   "execution_count": null,
   "id": "5aee3639",
   "metadata": {},
   "outputs": [],
   "source": []
  },
  {
   "cell_type": "code",
   "execution_count": null,
   "id": "69178032",
   "metadata": {},
   "outputs": [],
   "source": []
  },
  {
   "cell_type": "code",
   "execution_count": null,
   "id": "d0a792e7",
   "metadata": {},
   "outputs": [],
   "source": []
  },
  {
   "cell_type": "code",
   "execution_count": null,
   "id": "5fd9ab3a",
   "metadata": {},
   "outputs": [],
   "source": []
  },
  {
   "cell_type": "code",
   "execution_count": null,
   "id": "a4029419",
   "metadata": {},
   "outputs": [],
   "source": []
  },
  {
   "cell_type": "code",
   "execution_count": null,
   "id": "21500249",
   "metadata": {},
   "outputs": [],
   "source": []
  },
  {
   "cell_type": "code",
   "execution_count": null,
   "id": "45653f05",
   "metadata": {},
   "outputs": [],
   "source": []
  },
  {
   "cell_type": "code",
   "execution_count": null,
   "id": "58ee243d",
   "metadata": {},
   "outputs": [],
   "source": []
  },
  {
   "cell_type": "code",
   "execution_count": null,
   "id": "d7e4531f",
   "metadata": {},
   "outputs": [],
   "source": []
  },
  {
   "cell_type": "code",
   "execution_count": null,
   "id": "825c31fe",
   "metadata": {},
   "outputs": [],
   "source": []
  },
  {
   "cell_type": "code",
   "execution_count": null,
   "id": "61ad2d00",
   "metadata": {},
   "outputs": [],
   "source": []
  },
  {
   "cell_type": "code",
   "execution_count": null,
   "id": "a2d24397",
   "metadata": {},
   "outputs": [],
   "source": [
    "\n",
    "dtypes = np.dtype(\n",
    "    [\n",
    "        (\"a\", str),\n",
    "        (\"b\", int),\n",
    "        (\"c\", float),\n",
    "        (\"d\", np.datetime64),\n",
    "        \n",
    "    ]\n",
    ")\n",
    "df = pd.DataFrame(np.empty(0, dtype=dtypes))"
   ]
  },
  {
   "cell_type": "code",
   "execution_count": null,
   "id": "be4d86ba",
   "metadata": {},
   "outputs": [],
   "source": []
  },
  {
   "cell_type": "code",
   "execution_count": null,
   "id": "53077faf",
   "metadata": {},
   "outputs": [],
   "source": []
  },
  {
   "cell_type": "code",
   "execution_count": null,
   "id": "78f91be5",
   "metadata": {},
   "outputs": [],
   "source": []
  },
  {
   "cell_type": "code",
   "execution_count": null,
   "id": "2642388e",
   "metadata": {},
   "outputs": [],
   "source": [
    "encoding_list = ['ascii', 'big5', 'big5hkscs', 'cp037', 'cp273', 'cp424', 'cp437', 'cp500', 'cp720', 'cp737'\n",
    "                 , 'cp775', 'cp850', 'cp852', 'cp855', 'cp856', 'cp857', 'cp858', 'cp860', 'cp861', 'cp862'\n",
    "                 , 'cp863', 'cp864', 'cp865', 'cp866', 'cp869', 'cp874', 'cp875', 'cp932', 'cp949', 'cp950'\n",
    "                 , 'cp1006', 'cp1026', 'cp1125', 'cp1140', 'cp1250', 'cp1251', 'cp1252', 'cp1253', 'cp1254'\n",
    "                 , 'cp1255', 'cp1256', 'cp1257', 'cp1258', 'euc_jp', 'euc_jis_2004', 'euc_jisx0213', 'euc_kr'\n",
    "                 , 'gb2312', 'gbk', 'gb18030', 'hz', 'iso2022_jp', 'iso2022_jp_1', 'iso2022_jp_2'\n",
    "                 , 'iso2022_jp_2004', 'iso2022_jp_3', 'iso2022_jp_ext', 'iso2022_kr', 'latin_1', 'iso8859_2'\n",
    "                 , 'iso8859_3', 'iso8859_4', 'iso8859_5', 'iso8859_6', 'iso8859_7', 'iso8859_8', 'iso8859_9'\n",
    "                 , 'iso8859_10', 'iso8859_11', 'iso8859_13', 'iso8859_14', 'iso8859_15', 'iso8859_16', 'johab'\n",
    "                 , 'koi8_r', 'koi8_t', 'koi8_u', 'kz1048', 'mac_cyrillic', 'mac_greek', 'mac_iceland', 'mac_latin2'\n",
    "                 , 'mac_roman', 'mac_turkish', 'ptcp154', 'shift_jis', 'shift_jis_2004', 'shift_jisx0213', 'utf_32'\n",
    "                 , 'utf_32_be', 'utf_32_le', 'utf_16', 'utf_16_be', 'utf_16_le', 'utf_7', 'utf_8', 'utf_8_sig']\n",
    "\n",
    "for encoding in encoding_list:\n",
    "    worked = True\n",
    "    try:\n",
    "        df = pd.read_csv('K3241.K03200Y0.D10710.ESTABELE.zip', compression='zip',header=None, sep=';', quotechar='\"', encoding=encoding)\n",
    "    except:\n",
    "        worked = False\n",
    "    if worked:\n",
    "        print(encoding, ':\\n', df.head())"
   ]
  },
  {
   "cell_type": "code",
   "execution_count": null,
   "id": "80cee6f3",
   "metadata": {},
   "outputs": [],
   "source": []
  },
  {
   "cell_type": "code",
   "execution_count": null,
   "id": "d65865d4",
   "metadata": {},
   "outputs": [],
   "source": []
  },
  {
   "cell_type": "code",
   "execution_count": null,
   "id": "a1feaf60",
   "metadata": {},
   "outputs": [],
   "source": []
  },
  {
   "cell_type": "code",
   "execution_count": null,
   "id": "42bdadda",
   "metadata": {},
   "outputs": [],
   "source": [
    "import time\n",
    "\n",
    "manager = enlighten.get_manager()\n",
    "status_bar = manager.status_bar('Static Message',\n",
    "                                color='blue',\n",
    "                                justify=enlighten.Justify.CENTER)\n",
    "counter = enlighten.Counter(desc='Basic', unit='ticks')\n",
    "for num in range(100):\n",
    "    time.sleep(0.1)  # Simulate work\n",
    "    status_bar.update('Updated static message' + str(num))\n",
    "    counter.update()\n"
   ]
  },
  {
   "cell_type": "code",
   "execution_count": null,
   "id": "9c676a1f",
   "metadata": {},
   "outputs": [],
   "source": []
  },
  {
   "cell_type": "code",
   "execution_count": null,
   "id": "e9ab9b4f",
   "metadata": {},
   "outputs": [],
   "source": []
  },
  {
   "cell_type": "code",
   "execution_count": null,
   "id": "5e460466",
   "metadata": {},
   "outputs": [],
   "source": []
  },
  {
   "cell_type": "code",
   "execution_count": null,
   "id": "6bb1e5ef",
   "metadata": {},
   "outputs": [],
   "source": []
  },
  {
   "cell_type": "code",
   "execution_count": null,
   "id": "b3e98bad",
   "metadata": {},
   "outputs": [],
   "source": [
    "import math\n",
    "import requests, enlighten\n",
    "\n",
    "url = 'http://200.152.38.155/CNPJ/F.K03200$W.SIMPLES.CSV.D10710.zip'\n",
    "fname = 'F.K03200$W.SIMPLES.CSV.D10710.zip'\n",
    "\n",
    "# Should be one global variable\n",
    "MANAGER = enlighten.get_manager()\n",
    "\n",
    "r = requests.get(url, stream = True)\n",
    "assert r.status_code == 200, r.status_code\n",
    "dlen = int(r.headers.get('Content-Length', '0')) or None\n",
    "\n",
    "with MANAGER.counter(color = 'green', total = dlen and math.ceil(dlen / 2 ** 20), unit = 'MiB', leave = False) as ctr, \\\n",
    "     open(fname, 'wb', buffering = 2 ** 24) as f:\n",
    "    for chunk in r.iter_content(chunk_size = 2 ** 20):\n",
    "        # print(chunk[-16:].hex().upper())\n",
    "        f.write(chunk)\n",
    "        ctr.update()"
   ]
  },
  {
   "cell_type": "code",
   "execution_count": null,
   "id": "92be85fa",
   "metadata": {},
   "outputs": [],
   "source": []
  },
  {
   "cell_type": "code",
   "execution_count": null,
   "id": "9746d96b",
   "metadata": {},
   "outputs": [],
   "source": []
  },
  {
   "cell_type": "code",
   "execution_count": null,
   "id": "b01c846d",
   "metadata": {},
   "outputs": [],
   "source": [
    "list_urls = re.findall(r'href=[\\'\"]?([^\\'\" >]+)', requests.get(url).text)\n",
    "filtered = list(filter(lambda url: url.split(\".\")[-1] in [\"zip\",\"pdf\"], list_urls))\n",
    "tamanho = len(filtered)\n",
    "for indice, elemento in tqdm(enumerate(filtered)):\n",
    "        resposta = requests.get(url + elemento, stream=True, headers={\"Accept-Encoding\": None})\n",
    "        if resposta.status_code == requests.codes.ok:\n",
    "            total_size = int(resposta.headers.get(\"Content-Length\", 0))\n",
    "            block_size = 1024\n",
    "\n",
    "            print(f\"Downloading {elemento}\")\n",
    "\n",
    "            with tqdm(total=total_size,file=sys.stdout) as pbar:\n",
    "                with open(elemento, \"wb\") as f:\n",
    "                    for data in resposta.iter_content(block_size):\n",
    "                        pbar.set_description(f\"Processing {indice +1}\")\n",
    "                        pbar.update(len(data))\n",
    "                        f.write(data)\n",
    "        else:\n",
    "                resposta.raise_for_status()\n"
   ]
  },
  {
   "cell_type": "code",
   "execution_count": null,
   "id": "616aad37",
   "metadata": {},
   "outputs": [],
   "source": []
  },
  {
   "cell_type": "code",
   "execution_count": null,
   "id": "e58f73a9",
   "metadata": {},
   "outputs": [],
   "source": [
    "from tqdm import tqdm\n",
    "from time import sleep"
   ]
  },
  {
   "cell_type": "code",
   "execution_count": null,
   "id": "5508aaa9",
   "metadata": {},
   "outputs": [],
   "source": [
    "pbar = tqdm([\"a\", \"b\", \"c\", \"d\"])\n",
    "for char in pbar:\n",
    "    sleep(0.25)\n",
    "    pbar.set_description(\"Processing %s\" % char)"
   ]
  },
  {
   "cell_type": "code",
   "execution_count": null,
   "id": "d6698f5e",
   "metadata": {},
   "outputs": [],
   "source": []
  },
  {
   "cell_type": "code",
   "execution_count": null,
   "id": "46b2cb68",
   "metadata": {},
   "outputs": [],
   "source": []
  },
  {
   "cell_type": "code",
   "execution_count": null,
   "id": "3f49bf26",
   "metadata": {},
   "outputs": [],
   "source": []
  },
  {
   "cell_type": "code",
   "execution_count": null,
   "id": "20e22ba7",
   "metadata": {},
   "outputs": [],
   "source": []
  },
  {
   "cell_type": "code",
   "execution_count": null,
   "id": "cd4a9346",
   "metadata": {},
   "outputs": [],
   "source": []
  },
  {
   "cell_type": "code",
   "execution_count": null,
   "id": "6ecda834",
   "metadata": {},
   "outputs": [],
   "source": []
  },
  {
   "cell_type": "code",
   "execution_count": null,
   "id": "4b7336bc",
   "metadata": {},
   "outputs": [],
   "source": [
    "donloads(url, list_urls[1])"
   ]
  },
  {
   "cell_type": "code",
   "execution_count": null,
   "id": "4cb8b1ac",
   "metadata": {},
   "outputs": [],
   "source": []
  },
  {
   "cell_type": "code",
   "execution_count": null,
   "id": "551a02e2",
   "metadata": {},
   "outputs": [],
   "source": []
  },
  {
   "cell_type": "code",
   "execution_count": null,
   "id": "72c17ef4",
   "metadata": {},
   "outputs": [],
   "source": [
    "def donloads(url, arquivo):\n",
    "    resposta = requests.get(url + arquivo, stream=True, headers={\"Accept-Encoding\": None})\n",
    "    if resposta.status_code == requests.codes.ok:\n",
    "        total_size = int(resposta.headers.get(\"Content-Length\", 0))\n",
    "        block_size = 1024\n",
    "\n",
    "        print(f\"Downloading {arquivo}\")\n",
    "\n",
    "        t = tqdm(total=total_size, unit=\"iB\", unit_scale=True)\n",
    "        with open(arquivo, \"wb\") as f:\n",
    "            for data in resposta.iter_content(block_size):\n",
    "                t.update(len(data))\n",
    "                f.write(data)\n",
    "        t.close()\n",
    "    else:\n",
    "        resposta.raise_for_status()"
   ]
  },
  {
   "cell_type": "code",
   "execution_count": null,
   "id": "0cb73841",
   "metadata": {},
   "outputs": [],
   "source": []
  },
  {
   "cell_type": "code",
   "execution_count": null,
   "id": "b1ef7753",
   "metadata": {},
   "outputs": [],
   "source": [
    "\n",
    "req = requests.get(url, stream=True, headers={\"Accept-Encoding\": None})"
   ]
  },
  {
   "cell_type": "code",
   "execution_count": null,
   "id": "58172392",
   "metadata": {},
   "outputs": [],
   "source": [
    "req.links"
   ]
  },
  {
   "cell_type": "code",
   "execution_count": null,
   "id": "69b97b29",
   "metadata": {},
   "outputs": [],
   "source": []
  },
  {
   "cell_type": "code",
   "execution_count": null,
   "id": "15cee7c0",
   "metadata": {},
   "outputs": [],
   "source": []
  },
  {
   "cell_type": "code",
   "execution_count": null,
   "id": "84f643db",
   "metadata": {},
   "outputs": [],
   "source": [
    "url = 'http://200.152.38.155/CNPJ/'"
   ]
  },
  {
   "cell_type": "code",
   "execution_count": null,
   "id": "3c0524e5",
   "metadata": {},
   "outputs": [],
   "source": [
    "def baixa_arquivo(url, endereco):\n",
    "    # faz a requisição \n",
    "    resposta = requests.get(url)\n",
    "    if resposta.status_code == requests.codes.ok:\n",
    "        with open('endereco', 'wb')as novo_arquivo:\n",
    "            novo_arquivo.write(resposta.content)\n",
    "        print(\"Download finalizado, salvo em: ()\".format(endereco))\n",
    "    else:\n",
    "        respósta.raise_for_status()"
   ]
  },
  {
   "cell_type": "code",
   "execution_count": null,
   "id": "3484f13f",
   "metadata": {},
   "outputs": [],
   "source": [
    "baixa_arquivo(url, 'teste.html')"
   ]
  },
  {
   "cell_type": "code",
   "execution_count": null,
   "id": "15c03a87",
   "metadata": {},
   "outputs": [],
   "source": [
    "data = str(urlopen(URL_BASE_RFB).read(), encoding='utf8')\n",
    "\n",
    "    # Pega todas as urls\n",
    "    urls = re.findall(r'href=[\\'\"]?([^\\'\" >]+)', data)"
   ]
  },
  {
   "cell_type": "code",
   "execution_count": null,
   "id": "9ae880be",
   "metadata": {},
   "outputs": [],
   "source": [
    "resposta = requests.get(url).text"
   ]
  },
  {
   "cell_type": "code",
   "execution_count": null,
   "id": "6b0eede4",
   "metadata": {},
   "outputs": [],
   "source": [
    "print(resposta.text)"
   ]
  },
  {
   "cell_type": "code",
   "execution_count": null,
   "id": "e208e2da",
   "metadata": {},
   "outputs": [],
   "source": [
    "import re"
   ]
  },
  {
   "cell_type": "code",
   "execution_count": null,
   "id": "14308f40",
   "metadata": {},
   "outputs": [],
   "source": [
    "list_urls = re.findall(r'href=[\\'\"]?([^\\'\" >]+)', requests.get(url).text)"
   ]
  },
  {
   "cell_type": "code",
   "execution_count": null,
   "id": "6193d55a",
   "metadata": {},
   "outputs": [],
   "source": [
    "list_urls"
   ]
  },
  {
   "cell_type": "code",
   "execution_count": null,
   "id": "8f69ac36",
   "metadata": {},
   "outputs": [],
   "source": [
    "filtered = list(filter(lambda url: url.split(\".\")[-1] in [\"zip\",\"pdf\"], list_urls))\n",
    "filtered"
   ]
  },
  {
   "cell_type": "code",
   "execution_count": null,
   "id": "60ce656a",
   "metadata": {},
   "outputs": [],
   "source": [
    "for indice, elemento in tqdm(enumerate(filtered)):\n",
    "    print (f\"{indice:<10}{elemento}\")"
   ]
  },
  {
   "cell_type": "code",
   "execution_count": null,
   "id": "7e242b31",
   "metadata": {},
   "outputs": [],
   "source": [
    "def donloads(url, arquivo):\n",
    "    req = requests.get(url + arquivo, stream=True, headers={\"Accept-Encoding\": None})\n",
    "    if resposta.status_code == requests.codes.ok:\n",
    "        total_size = int(req.headers.get(\"Content-Length\", 0))\n",
    "        block_size = 1024\n",
    "\n",
    "        print(f\"Downloading {arquivo}\")\n",
    "\n",
    "        t = tqdm(total=total_size, unit=\"iB\", unit_scale=True)\n",
    "        with open(arquivo, \"wb\") as f:\n",
    "            for data in req.iter_content(block_size):\n",
    "                t.update(len(data))\n",
    "                f.write(data)\n",
    "        t.close()\n",
    "    else:\n",
    "        resposta.raise_for_status()"
   ]
  },
  {
   "cell_type": "code",
   "execution_count": null,
   "id": "d8238880",
   "metadata": {},
   "outputs": [],
   "source": [
    "for i in list_urls:\n",
    "    if i.split(\".\")[-1] in [\"zip\",\"pdf\"]:\n",
    "        donloads(url, i)"
   ]
  },
  {
   "cell_type": "code",
   "execution_count": null,
   "id": "49951e5f",
   "metadata": {},
   "outputs": [],
   "source": []
  },
  {
   "cell_type": "code",
   "execution_count": null,
   "id": "49d8031f",
   "metadata": {},
   "outputs": [],
   "source": [
    "donloads(url, list_urls[1])"
   ]
  },
  {
   "cell_type": "code",
   "execution_count": null,
   "id": "e96ffba1",
   "metadata": {},
   "outputs": [],
   "source": []
  },
  {
   "cell_type": "code",
   "execution_count": null,
   "id": "fcd37623",
   "metadata": {},
   "outputs": [],
   "source": []
  },
  {
   "cell_type": "code",
   "execution_count": null,
   "id": "25ab90e7",
   "metadata": {},
   "outputs": [],
   "source": [
    "list_urls"
   ]
  },
  {
   "cell_type": "code",
   "execution_count": null,
   "id": "0b055a66",
   "metadata": {},
   "outputs": [],
   "source": [
    "filtered"
   ]
  },
  {
   "cell_type": "code",
   "execution_count": null,
   "id": "fb9b1757",
   "metadata": {},
   "outputs": [],
   "source": [
    "filtered[8]"
   ]
  },
  {
   "cell_type": "code",
   "execution_count": null,
   "id": "d2bd9de5",
   "metadata": {},
   "outputs": [],
   "source": [
    "teste = pd.read_csv(\"zips/\" + filtered[8], \n",
    "                         compression='zip',\n",
    "                         header=None, \n",
    "                         sep=';', \n",
    "                         quotechar='\"', \n",
    "                         encoding = \"ISO-8859-1\", \n",
    "                         low_memory=False,\n",
    "                         dtype = value[3],\n",
    "                         names=value[2])"
   ]
  },
  {
   "cell_type": "code",
   "execution_count": null,
   "id": "ff574a79",
   "metadata": {},
   "outputs": [],
   "source": [
    "teste"
   ]
  },
  {
   "cell_type": "code",
   "execution_count": null,
   "id": "d4ae47d6",
   "metadata": {},
   "outputs": [],
   "source": [
    "dict_aux"
   ]
  },
  {
   "cell_type": "code",
   "execution_count": null,
   "id": "9f142ac3-f24a-4c81-8754-b6fbd57ded4f",
   "metadata": {},
   "outputs": [],
   "source": []
  }
 ],
 "metadata": {
  "hide_input": false,
  "kernelspec": {
   "display_name": "Python 3 (ipykernel)",
   "language": "python",
   "name": "python3"
  },
  "language_info": {
   "codemirror_mode": {
    "name": "ipython",
    "version": 3
   },
   "file_extension": ".py",
   "mimetype": "text/x-python",
   "name": "python",
   "nbconvert_exporter": "python",
   "pygments_lexer": "ipython3",
   "version": "3.10.4"
  },
  "varInspector": {
   "cols": {
    "lenName": 16,
    "lenType": 16,
    "lenVar": 40
   },
   "kernels_config": {
    "python": {
     "delete_cmd_postfix": "",
     "delete_cmd_prefix": "del ",
     "library": "var_list.py",
     "varRefreshCmd": "print(var_dic_list())"
    },
    "r": {
     "delete_cmd_postfix": ") ",
     "delete_cmd_prefix": "rm(",
     "library": "var_list.r",
     "varRefreshCmd": "cat(var_dic_list()) "
    }
   },
   "types_to_exclude": [
    "module",
    "function",
    "builtin_function_or_method",
    "instance",
    "_Feature"
   ],
   "window_display": false
  }
 },
 "nbformat": 4,
 "nbformat_minor": 5
}
