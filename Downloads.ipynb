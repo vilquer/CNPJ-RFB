{
 "cells": [
  {
   "cell_type": "code",
   "execution_count": 1,
   "id": "4679778f",
   "metadata": {},
   "outputs": [
    {
     "name": "stdout",
     "output_type": "stream",
     "text": [
      "Wall time: 0 ns\n"
     ]
    }
   ],
   "source": [
    "%time\n",
    "import sys\n",
    "import re\n",
    "import math\n",
    "import requests\n",
    "import enlighten\n",
    "\n",
    "import numpy as np\n",
    "import pandas as pd\n",
    "\n",
    "pd.set_option('display.max_columns', None)\n",
    "pd.set_option('display.max_rows', 50)\n",
    "\n",
    "url = 'http://200.152.38.155/CNPJ/'\n",
    "formato_data = '%Y%m%d'\n",
    "PATH_BD = 'data/CNPJ_full.db'"
   ]
  },
  {
   "cell_type": "code",
   "execution_count": 2,
   "id": "b909964b",
   "metadata": {},
   "outputs": [
    {
     "data": {
      "text/html": [
       "<style>\n",
       "</style>\n",
       "<div class=\"enlighten\">\n",
       "\n",
       "</div>\n"
      ],
      "text/plain": [
       "<IPython.core.display.HTML object>"
      ]
     },
     "metadata": {},
     "output_type": "display_data"
    }
   ],
   "source": [
    "list_urls = re.findall(r'href=[\\'\"]?([^\\'\" >]+)', requests.get(url).text)\n",
    "filtered = list(filter(lambda url: url.split(\".\")[-1] in [\"zip\"], list_urls))\n",
    "tamanho = len(filtered)\n",
    "MANAGER = enlighten.get_manager()\n",
    "bara_lista = MANAGER.counter(total=tamanho, desc='Arquivos', unit='Arquivos')"
   ]
  },
  {
   "cell_type": "code",
   "execution_count": null,
   "id": "1bc01488",
   "metadata": {},
   "outputs": [],
   "source": [
    "print(\"\")\n",
    "print(f\"Fazendo download dos {tamanho} arquivos encontrados.\", flush=False)\n",
    "print(\"\")\n",
    "\n",
    "\n",
    "for indice, elemento in enumerate(filtered):\n",
    "    bara_lista.update()\n",
    "    \n",
    "    r = requests.get(url + elemento, stream=True, headers={\"Accept-Encoding\": None})\n",
    "    if r.status_code == requests.codes.ok:\n",
    "        assert r.status_code == 200, r.status_code\n",
    "        dlen = int(r.headers.get('Content-Length', '0')) or None\n",
    "        barra_download = MANAGER.counter(color = 'green', desc= f'Arquivo {indice + 1} de {tamanho}', \n",
    "                             total = dlen and math.ceil(dlen / 2 ** 20), \n",
    "                             unit = 'MiB', leave = False)\n",
    "        with barra_download as ctr, \\\n",
    "             open(\"zips/\" + elemento, 'wb', buffering = 2 ** 24) as f:\n",
    "            for chunk in r.iter_content(chunk_size = 2 ** 20):\n",
    "                # print(chunk[-16:].hex().upper())\n",
    "                print(f'\\r{elemento} ------ Está sendo baixado!!!', end='', flush=True)\n",
    "                sys.stdout.flush()\n",
    "                f.write(chunk)\n",
    "                ctr.update()\n",
    "        \n",
    "    else:\n",
    "        r.raise_for_status()\n",
    "print(f'\\r Download Concluido!!!', end='', flush=True)\n",
    "MANAGER.stop()"
   ]
  },
  {
   "cell_type": "code",
   "execution_count": null,
   "id": "24ffec42",
   "metadata": {},
   "outputs": [],
   "source": []
  },
  {
   "cell_type": "code",
   "execution_count": null,
   "id": "a4265d1d",
   "metadata": {},
   "outputs": [],
   "source": []
  },
  {
   "cell_type": "code",
   "execution_count": 3,
   "id": "9dfddd1a",
   "metadata": {},
   "outputs": [
    {
     "name": "stdout",
     "output_type": "stream",
     "text": [
      "Wall time: 0 ns\n"
     ]
    }
   ],
   "source": [
    "%time\n",
    "list_estabelecimentos = [\n",
    "\"cnpj\", \n",
    "\"cnpj_ordem\", \n",
    "\"cnpj_dv\", \n",
    "\"matriz_filial\",\n",
    "\"nome\",\n",
    "\"situacao\", \n",
    "\"data_situacao\", \n",
    "\"motivo_situacao\", \n",
    "\"cidade_exterior\", \n",
    "\"pais\", \n",
    "\"inicio_atividade\", \n",
    "\"cnae_fiscal\", \n",
    "\"cnae_secundario\", \n",
    "\"tipo_logradouro\", \n",
    "\"logradouro\", \n",
    "\"numero\", \n",
    "\"complemento\", \n",
    "\"bairro\", \n",
    "\"cep\", \n",
    "\"uf\", \n",
    "\"municipio\", \n",
    "\"ddd_1\", \n",
    "\"telefone_1\", \n",
    "\"ddd_2\", \n",
    "\"telefone_2\", \n",
    "\"ddd_fax\", \n",
    "\"numero_fax\", \n",
    "\"email\", \n",
    "\"situacao_especial\", \n",
    "\"data_situacao_especial\"\n",
    "]"
   ]
  },
  {
   "cell_type": "code",
   "execution_count": 4,
   "id": "8526387c",
   "metadata": {},
   "outputs": [
    {
     "name": "stdout",
     "output_type": "stream",
     "text": [
      "Wall time: 0 ns\n"
     ]
    },
    {
     "data": {
      "text/plain": [
       "<sqlite3.Cursor at 0x18551834ce0>"
      ]
     },
     "execution_count": 4,
     "metadata": {},
     "output_type": "execute_result"
    }
   ],
   "source": [
    "%time\n",
    "\n",
    "import sqlite3\n",
    "\n",
    "connection = sqlite3.connect(PATH_BD)\n",
    "con = connection.cursor()\n",
    "\n",
    "sql = \"\"\"CREATE TABLE IF NOT EXISTS ESTABELECIMENTOS \n",
    "                    (CNPJ                   VARCHAR (8),\n",
    "                    CNPJ_ORDEM             VARCHAR (4),\n",
    "                    CNPJ_DV                VARCHAR (2),\n",
    "                    MATRIZ_FILIAL          INTEGER,\n",
    "                    NOME                   VARCHAR,\n",
    "                    SITUACAO               INTEGER,\n",
    "                    DATA_SITUACAO          DATE,\n",
    "                    MOTIVO_SITUACAO        VARCHAR,\n",
    "                    CIDADE_EXTERIOR        VARCHAR,\n",
    "                    PAIS                   INTEGER,\n",
    "                    INICIO_ATIVIDADE       DATE,\n",
    "                    CNAE_FISCAL            VARCHAR,\n",
    "                    CNAE_SECUNDARIO        VARCHAR,\n",
    "                    TIPO_LOGRADOURO        VARCHAR,\n",
    "                    LOGRADOURO             VARCHAR,\n",
    "                    NUMERO                 VARCHAR,\n",
    "                    COMPLEMENTO            VARCHAR,\n",
    "                    BAIRRO                 VARCHAR,\n",
    "                    CEP                    VARCHAR (8),\n",
    "                    UF                     VARCHAR (2),\n",
    "                    MUNICIPIO              INTEGER,\n",
    "                    DDD_1                  VARCHAR,\n",
    "                    TELEFONE_1             VARCHAR (11),\n",
    "                    DDD_2                  INTEGER,\n",
    "                    TELEFONE_2             VARCHAR (11),\n",
    "                    DDD_FAX                INTEGER,\n",
    "                    NUMERO_FAX             VARCHAR (11),\n",
    "                    EMAIL                  VARCHAR,\n",
    "                    SITUACAO_ESPECIAL      VARCHAR,\n",
    "                    DATA_SITUACAO_ESPECIAL DATE \n",
    "                    )\n",
    "                \"\"\"\n",
    "\n",
    "\n",
    "con.execute('DROP TABLE IF EXISTS ESTABELECIMENTOS') \n",
    "con.execute('VACUUM') \n",
    "con.execute(sql)\n"
   ]
  },
  {
   "cell_type": "code",
   "execution_count": 6,
   "id": "bd0d3ae2",
   "metadata": {},
   "outputs": [
    {
     "name": "stdout",
     "output_type": "stream",
     "text": [
      "K3241.K03200Y0.D10710.ESTABELE.zip\n",
      "K3241.K03200Y1.D10710.ESTABELE.zip\n",
      "K3241.K03200Y2.D10710.ESTABELE.zip\n",
      "K3241.K03200Y3.D10710.ESTABELE.zip\n",
      "K3241.K03200Y4.D10710.ESTABELE.zip\n",
      "K3241.K03200Y5.D10710.ESTABELE.zip\n",
      "K3241.K03200Y6.D10710.ESTABELE.zip\n",
      "K3241.K03200Y7.D10710.ESTABELE.zip\n",
      "K3241.K03200Y8.D10710.ESTABELE.zip\n",
      "K3241.K03200Y9.D10710.ESTABELE.zip\n"
     ]
    }
   ],
   "source": [
    "lista = [l for l in filtered if \"ESTABELE\" in l]\n",
    "\n",
    "for item in lista:\n",
    "    print(item)\n",
    "    df = pd.read_csv(\"zips/\" + item, \n",
    "                     compression='zip',\n",
    "                     header=None, \n",
    "                     sep=';', \n",
    "                     quotechar='\"', \n",
    "                     encoding = \"ISO-8859-1\", \n",
    "                     low_memory=False,\n",
    "                     dtype = {'cnpj': str, 'cnpj_ordem': str, 'cnpj_dv': str},\n",
    "                     names=list_estabelecimentos,\n",
    "                     parse_dates=['data_situacao','inicio_atividade','data_situacao_especial'])\n",
    "\n",
    "\n",
    "#    df['data_situacao']= df['data_situacao'].replace(0, np.nan)\n",
    "\n",
    "#    df['data_situacao'] = pd.to_datetime(df['data_situacao'], format=formato_data)\n",
    "#    df['inicio_atividade'] = pd.to_datetime(df['inicio_atividade'], format=formato_data)\n",
    "#    df['data_situacao_especial'] = pd.to_datetime(df['data_situacao_especial'], format=formato_data)\n",
    "\n",
    "    df.to_sql(name = 'ESTABELECIMENTOS', con = connection, if_exists = 'append', index = False)"
   ]
  },
  {
   "cell_type": "code",
   "execution_count": 8,
   "id": "e9877f3e",
   "metadata": {},
   "outputs": [
    {
     "name": "stdout",
     "output_type": "stream",
     "text": [
      "<class 'pandas.core.frame.DataFrame'>\n",
      "RangeIndex: 4753435 entries, 0 to 4753434\n",
      "Data columns (total 30 columns):\n",
      " #   Column                  Dtype         \n",
      "---  ------                  -----         \n",
      " 0   cnpj                    object        \n",
      " 1   cnpj_ordem              object        \n",
      " 2   cnpj_dv                 object        \n",
      " 3   matriz_filial           int64         \n",
      " 4   nome                    object        \n",
      " 5   situacao                int64         \n",
      " 6   data_situacao           object        \n",
      " 7   motivo_situacao         int64         \n",
      " 8   cidade_exterior         object        \n",
      " 9   pais                    float64       \n",
      " 10  inicio_atividade        object        \n",
      " 11  cnae_fiscal             int64         \n",
      " 12  cnae_secundario         object        \n",
      " 13  tipo_logradouro         object        \n",
      " 14  logradouro              object        \n",
      " 15  numero                  object        \n",
      " 16  complemento             object        \n",
      " 17  bairro                  object        \n",
      " 18  cep                     float64       \n",
      " 19  uf                      object        \n",
      " 20  municipio               int64         \n",
      " 21  ddd_1                   object        \n",
      " 22  telefone_1              object        \n",
      " 23  ddd_2                   float64       \n",
      " 24  telefone_2              object        \n",
      " 25  ddd_fax                 float64       \n",
      " 26  numero_fax              object        \n",
      " 27  email                   object        \n",
      " 28  situacao_especial       object        \n",
      " 29  data_situacao_especial  datetime64[ns]\n",
      "dtypes: datetime64[ns](1), float64(4), int64(5), object(20)\n",
      "memory usage: 1.1+ GB\n"
     ]
    }
   ],
   "source": [
    "df.info()"
   ]
  },
  {
   "cell_type": "code",
   "execution_count": null,
   "id": "a86cb854",
   "metadata": {},
   "outputs": [],
   "source": []
  },
  {
   "cell_type": "code",
   "execution_count": 13,
   "id": "85ec4a32",
   "metadata": {},
   "outputs": [
    {
     "ename": "MemoryError",
     "evalue": "",
     "output_type": "error",
     "traceback": [
      "\u001b[1;31m---------------------------------------------------------------------------\u001b[0m",
      "\u001b[1;31mMemoryError\u001b[0m                               Traceback (most recent call last)",
      "\u001b[1;32m~\\AppData\\Local\\Temp/ipykernel_18764/168191620.py\u001b[0m in \u001b[0;36m<module>\u001b[1;34m\u001b[0m\n\u001b[1;32m----> 1\u001b[1;33m \u001b[0mback\u001b[0m \u001b[1;33m=\u001b[0m \u001b[0mpd\u001b[0m\u001b[1;33m.\u001b[0m\u001b[0mread_sql\u001b[0m\u001b[1;33m(\u001b[0m\u001b[1;34m'select * from estabelecimentos'\u001b[0m\u001b[1;33m,\u001b[0m \u001b[0mconnection\u001b[0m\u001b[1;33m)\u001b[0m\u001b[1;33m\u001b[0m\u001b[1;33m\u001b[0m\u001b[0m\n\u001b[0m\u001b[0;32m      2\u001b[0m \u001b[1;33m\u001b[0m\u001b[0m\n\u001b[0;32m      3\u001b[0m \u001b[0mback\u001b[0m\u001b[1;33m\u001b[0m\u001b[1;33m\u001b[0m\u001b[0m\n",
      "\u001b[1;32mD:\\ProgramData\\Anaconda3\\envs\\teste\\lib\\site-packages\\pandas\\io\\sql.py\u001b[0m in \u001b[0;36mread_sql\u001b[1;34m(sql, con, index_col, coerce_float, params, parse_dates, columns, chunksize)\u001b[0m\n\u001b[0;32m    600\u001b[0m \u001b[1;33m\u001b[0m\u001b[0m\n\u001b[0;32m    601\u001b[0m     \u001b[1;32mif\u001b[0m \u001b[0misinstance\u001b[0m\u001b[1;33m(\u001b[0m\u001b[0mpandas_sql\u001b[0m\u001b[1;33m,\u001b[0m \u001b[0mSQLiteDatabase\u001b[0m\u001b[1;33m)\u001b[0m\u001b[1;33m:\u001b[0m\u001b[1;33m\u001b[0m\u001b[1;33m\u001b[0m\u001b[0m\n\u001b[1;32m--> 602\u001b[1;33m         return pandas_sql.read_query(\n\u001b[0m\u001b[0;32m    603\u001b[0m             \u001b[0msql\u001b[0m\u001b[1;33m,\u001b[0m\u001b[1;33m\u001b[0m\u001b[1;33m\u001b[0m\u001b[0m\n\u001b[0;32m    604\u001b[0m             \u001b[0mindex_col\u001b[0m\u001b[1;33m=\u001b[0m\u001b[0mindex_col\u001b[0m\u001b[1;33m,\u001b[0m\u001b[1;33m\u001b[0m\u001b[1;33m\u001b[0m\u001b[0m\n",
      "\u001b[1;32mD:\\ProgramData\\Anaconda3\\envs\\teste\\lib\\site-packages\\pandas\\io\\sql.py\u001b[0m in \u001b[0;36mread_query\u001b[1;34m(self, sql, index_col, coerce_float, params, parse_dates, chunksize, dtype)\u001b[0m\n\u001b[0;32m   2128\u001b[0m             )\n\u001b[0;32m   2129\u001b[0m         \u001b[1;32melse\u001b[0m\u001b[1;33m:\u001b[0m\u001b[1;33m\u001b[0m\u001b[1;33m\u001b[0m\u001b[0m\n\u001b[1;32m-> 2130\u001b[1;33m             \u001b[0mdata\u001b[0m \u001b[1;33m=\u001b[0m \u001b[0mself\u001b[0m\u001b[1;33m.\u001b[0m\u001b[0m_fetchall_as_list\u001b[0m\u001b[1;33m(\u001b[0m\u001b[0mcursor\u001b[0m\u001b[1;33m)\u001b[0m\u001b[1;33m\u001b[0m\u001b[1;33m\u001b[0m\u001b[0m\n\u001b[0m\u001b[0;32m   2131\u001b[0m             \u001b[0mcursor\u001b[0m\u001b[1;33m.\u001b[0m\u001b[0mclose\u001b[0m\u001b[1;33m(\u001b[0m\u001b[1;33m)\u001b[0m\u001b[1;33m\u001b[0m\u001b[1;33m\u001b[0m\u001b[0m\n\u001b[0;32m   2132\u001b[0m \u001b[1;33m\u001b[0m\u001b[0m\n",
      "\u001b[1;32mD:\\ProgramData\\Anaconda3\\envs\\teste\\lib\\site-packages\\pandas\\io\\sql.py\u001b[0m in \u001b[0;36m_fetchall_as_list\u001b[1;34m(self, cur)\u001b[0m\n\u001b[0;32m   2142\u001b[0m \u001b[1;33m\u001b[0m\u001b[0m\n\u001b[0;32m   2143\u001b[0m     \u001b[1;32mdef\u001b[0m \u001b[0m_fetchall_as_list\u001b[0m\u001b[1;33m(\u001b[0m\u001b[0mself\u001b[0m\u001b[1;33m,\u001b[0m \u001b[0mcur\u001b[0m\u001b[1;33m)\u001b[0m\u001b[1;33m:\u001b[0m\u001b[1;33m\u001b[0m\u001b[1;33m\u001b[0m\u001b[0m\n\u001b[1;32m-> 2144\u001b[1;33m         \u001b[0mresult\u001b[0m \u001b[1;33m=\u001b[0m \u001b[0mcur\u001b[0m\u001b[1;33m.\u001b[0m\u001b[0mfetchall\u001b[0m\u001b[1;33m(\u001b[0m\u001b[1;33m)\u001b[0m\u001b[1;33m\u001b[0m\u001b[1;33m\u001b[0m\u001b[0m\n\u001b[0m\u001b[0;32m   2145\u001b[0m         \u001b[1;32mif\u001b[0m \u001b[1;32mnot\u001b[0m \u001b[0misinstance\u001b[0m\u001b[1;33m(\u001b[0m\u001b[0mresult\u001b[0m\u001b[1;33m,\u001b[0m \u001b[0mlist\u001b[0m\u001b[1;33m)\u001b[0m\u001b[1;33m:\u001b[0m\u001b[1;33m\u001b[0m\u001b[1;33m\u001b[0m\u001b[0m\n\u001b[0;32m   2146\u001b[0m             \u001b[0mresult\u001b[0m \u001b[1;33m=\u001b[0m \u001b[0mlist\u001b[0m\u001b[1;33m(\u001b[0m\u001b[0mresult\u001b[0m\u001b[1;33m)\u001b[0m\u001b[1;33m\u001b[0m\u001b[1;33m\u001b[0m\u001b[0m\n",
      "\u001b[1;31mMemoryError\u001b[0m: "
     ]
    }
   ],
   "source": [
    "back = pd.read_sql('select * from estabelecimentos', connection)\n",
    "\n",
    "back"
   ]
  },
  {
   "cell_type": "code",
   "execution_count": null,
   "id": "462f535e",
   "metadata": {},
   "outputs": [],
   "source": [
    "df = pd.DataFrame(filtered)\n",
    "df[df[0].str.contains(\"EMPRECSV\", regex=False)]\n"
   ]
  },
  {
   "cell_type": "code",
   "execution_count": null,
   "id": "901532e2",
   "metadata": {},
   "outputs": [],
   "source": [
    "lista = [l for l in filtered if \"EMPRECSV\" in l]\n",
    "lista"
   ]
  },
  {
   "cell_type": "code",
   "execution_count": null,
   "id": "2a9d09fa",
   "metadata": {},
   "outputs": [],
   "source": [
    "filtered"
   ]
  },
  {
   "cell_type": "code",
   "execution_count": null,
   "id": "a08ac27e",
   "metadata": {},
   "outputs": [],
   "source": [
    "list_tabelas = [\n",
    "                \"SIMPLES\", \n",
    "                \"CNAECSV\",\n",
    "                \"MOTICSV\",\n",
    "                \"MUNICCSV\",\n",
    "                \"NATJUCSV\",\n",
    "                \"PAISCSV\",\n",
    "                \"QUALSCSV\",\n",
    "                \"EMPRECSV\",\n",
    "                \"ESTABELE\",\n",
    "                \"SOCIOCSV\",\n",
    "                \"EMPRECSV\"]\n",
    "\n"
   ]
  },
  {
   "cell_type": "code",
   "execution_count": null,
   "id": "933f82e3",
   "metadata": {},
   "outputs": [],
   "source": [
    "for l in list_tabelas:\n",
    "    lista = [item for item in filtered if l in item]\n",
    "    display(lista)"
   ]
  },
  {
   "cell_type": "code",
   "execution_count": null,
   "id": "41a899ee",
   "metadata": {},
   "outputs": [],
   "source": []
  },
  {
   "cell_type": "code",
   "execution_count": null,
   "id": "a14c3b7e",
   "metadata": {},
   "outputs": [],
   "source": []
  },
  {
   "cell_type": "code",
   "execution_count": null,
   "id": "4635560f",
   "metadata": {},
   "outputs": [],
   "source": []
  },
  {
   "cell_type": "code",
   "execution_count": null,
   "id": "a2d24397",
   "metadata": {},
   "outputs": [],
   "source": [
    "\n",
    "dtypes = np.dtype(\n",
    "    [\n",
    "        (\"a\", str),\n",
    "        (\"b\", int),\n",
    "        (\"c\", float),\n",
    "        (\"d\", np.datetime64),\n",
    "        \n",
    "    ]\n",
    ")\n",
    "df = pd.DataFrame(np.empty(0, dtype=dtypes))"
   ]
  },
  {
   "cell_type": "code",
   "execution_count": null,
   "id": "be4d86ba",
   "metadata": {},
   "outputs": [],
   "source": []
  },
  {
   "cell_type": "code",
   "execution_count": null,
   "id": "53077faf",
   "metadata": {},
   "outputs": [],
   "source": []
  },
  {
   "cell_type": "code",
   "execution_count": null,
   "id": "78f91be5",
   "metadata": {},
   "outputs": [],
   "source": []
  },
  {
   "cell_type": "code",
   "execution_count": null,
   "id": "2642388e",
   "metadata": {},
   "outputs": [],
   "source": [
    "encoding_list = ['ascii', 'big5', 'big5hkscs', 'cp037', 'cp273', 'cp424', 'cp437', 'cp500', 'cp720', 'cp737'\n",
    "                 , 'cp775', 'cp850', 'cp852', 'cp855', 'cp856', 'cp857', 'cp858', 'cp860', 'cp861', 'cp862'\n",
    "                 , 'cp863', 'cp864', 'cp865', 'cp866', 'cp869', 'cp874', 'cp875', 'cp932', 'cp949', 'cp950'\n",
    "                 , 'cp1006', 'cp1026', 'cp1125', 'cp1140', 'cp1250', 'cp1251', 'cp1252', 'cp1253', 'cp1254'\n",
    "                 , 'cp1255', 'cp1256', 'cp1257', 'cp1258', 'euc_jp', 'euc_jis_2004', 'euc_jisx0213', 'euc_kr'\n",
    "                 , 'gb2312', 'gbk', 'gb18030', 'hz', 'iso2022_jp', 'iso2022_jp_1', 'iso2022_jp_2'\n",
    "                 , 'iso2022_jp_2004', 'iso2022_jp_3', 'iso2022_jp_ext', 'iso2022_kr', 'latin_1', 'iso8859_2'\n",
    "                 , 'iso8859_3', 'iso8859_4', 'iso8859_5', 'iso8859_6', 'iso8859_7', 'iso8859_8', 'iso8859_9'\n",
    "                 , 'iso8859_10', 'iso8859_11', 'iso8859_13', 'iso8859_14', 'iso8859_15', 'iso8859_16', 'johab'\n",
    "                 , 'koi8_r', 'koi8_t', 'koi8_u', 'kz1048', 'mac_cyrillic', 'mac_greek', 'mac_iceland', 'mac_latin2'\n",
    "                 , 'mac_roman', 'mac_turkish', 'ptcp154', 'shift_jis', 'shift_jis_2004', 'shift_jisx0213', 'utf_32'\n",
    "                 , 'utf_32_be', 'utf_32_le', 'utf_16', 'utf_16_be', 'utf_16_le', 'utf_7', 'utf_8', 'utf_8_sig']\n",
    "\n",
    "for encoding in encoding_list:\n",
    "    worked = True\n",
    "    try:\n",
    "        df = pd.read_csv('K3241.K03200Y0.D10710.ESTABELE.zip', compression='zip',header=None, sep=';', quotechar='\"', encoding=encoding)\n",
    "    except:\n",
    "        worked = False\n",
    "    if worked:\n",
    "        print(encoding, ':\\n', df.head())"
   ]
  },
  {
   "cell_type": "code",
   "execution_count": null,
   "id": "80cee6f3",
   "metadata": {},
   "outputs": [],
   "source": []
  },
  {
   "cell_type": "code",
   "execution_count": null,
   "id": "d65865d4",
   "metadata": {},
   "outputs": [],
   "source": []
  },
  {
   "cell_type": "code",
   "execution_count": 11,
   "id": "a1feaf60",
   "metadata": {},
   "outputs": [],
   "source": [
    "df1 = pd.DataFrame()"
   ]
  },
  {
   "cell_type": "code",
   "execution_count": 12,
   "id": "42bdadda",
   "metadata": {},
   "outputs": [
    {
     "data": {
      "text/plain": [
       "pandas.core.frame.DataFrame"
      ]
     },
     "execution_count": 12,
     "metadata": {},
     "output_type": "execute_result"
    }
   ],
   "source": [
    "type(df1)"
   ]
  },
  {
   "cell_type": "code",
   "execution_count": null,
   "id": "9c676a1f",
   "metadata": {},
   "outputs": [],
   "source": []
  },
  {
   "cell_type": "code",
   "execution_count": null,
   "id": "e9ab9b4f",
   "metadata": {},
   "outputs": [],
   "source": []
  },
  {
   "cell_type": "code",
   "execution_count": null,
   "id": "5e460466",
   "metadata": {},
   "outputs": [],
   "source": []
  },
  {
   "cell_type": "code",
   "execution_count": null,
   "id": "6bb1e5ef",
   "metadata": {},
   "outputs": [],
   "source": []
  },
  {
   "cell_type": "code",
   "execution_count": null,
   "id": "b3e98bad",
   "metadata": {},
   "outputs": [],
   "source": [
    "import math\n",
    "import requests, enlighten\n",
    "\n",
    "url = 'http://200.152.38.155/CNPJ/F.K03200$W.SIMPLES.CSV.D10710.zip'\n",
    "fname = 'F.K03200$W.SIMPLES.CSV.D10710.zip'\n",
    "\n",
    "# Should be one global variable\n",
    "MANAGER = enlighten.get_manager()\n",
    "\n",
    "r = requests.get(url, stream = True)\n",
    "assert r.status_code == 200, r.status_code\n",
    "dlen = int(r.headers.get('Content-Length', '0')) or None\n",
    "\n",
    "with MANAGER.counter(color = 'green', total = dlen and math.ceil(dlen / 2 ** 20), unit = 'MiB', leave = False) as ctr, \\\n",
    "     open(fname, 'wb', buffering = 2 ** 24) as f:\n",
    "    for chunk in r.iter_content(chunk_size = 2 ** 20):\n",
    "        # print(chunk[-16:].hex().upper())\n",
    "        f.write(chunk)\n",
    "        ctr.update()"
   ]
  },
  {
   "cell_type": "code",
   "execution_count": null,
   "id": "92be85fa",
   "metadata": {},
   "outputs": [],
   "source": []
  },
  {
   "cell_type": "code",
   "execution_count": null,
   "id": "9746d96b",
   "metadata": {},
   "outputs": [],
   "source": []
  },
  {
   "cell_type": "code",
   "execution_count": null,
   "id": "b01c846d",
   "metadata": {},
   "outputs": [],
   "source": [
    "list_urls = re.findall(r'href=[\\'\"]?([^\\'\" >]+)', requests.get(url).text)\n",
    "filtered = list(filter(lambda url: url.split(\".\")[-1] in [\"zip\",\"pdf\"], list_urls))\n",
    "tamanho = len(filtered)\n",
    "for indice, elemento in tqdm(enumerate(filtered)):\n",
    "        resposta = requests.get(url + elemento, stream=True, headers={\"Accept-Encoding\": None})\n",
    "        if resposta.status_code == requests.codes.ok:\n",
    "            total_size = int(resposta.headers.get(\"Content-Length\", 0))\n",
    "            block_size = 1024\n",
    "\n",
    "            print(f\"Downloading {elemento}\")\n",
    "\n",
    "            with tqdm(total=total_size,file=sys.stdout) as pbar:\n",
    "                with open(elemento, \"wb\") as f:\n",
    "                    for data in resposta.iter_content(block_size):\n",
    "                        pbar.set_description(f\"Processing {indice +1}\")\n",
    "                        pbar.update(len(data))\n",
    "                        f.write(data)\n",
    "        else:\n",
    "                resposta.raise_for_status()\n"
   ]
  },
  {
   "cell_type": "code",
   "execution_count": null,
   "id": "616aad37",
   "metadata": {},
   "outputs": [],
   "source": []
  },
  {
   "cell_type": "code",
   "execution_count": null,
   "id": "e58f73a9",
   "metadata": {},
   "outputs": [],
   "source": [
    "from tqdm import tqdm\n",
    "from time import sleep"
   ]
  },
  {
   "cell_type": "code",
   "execution_count": null,
   "id": "5508aaa9",
   "metadata": {},
   "outputs": [],
   "source": [
    "pbar = tqdm([\"a\", \"b\", \"c\", \"d\"])\n",
    "for char in pbar:\n",
    "    sleep(0.25)\n",
    "    pbar.set_description(\"Processing %s\" % char)"
   ]
  },
  {
   "cell_type": "code",
   "execution_count": null,
   "id": "d6698f5e",
   "metadata": {},
   "outputs": [],
   "source": []
  },
  {
   "cell_type": "code",
   "execution_count": null,
   "id": "46b2cb68",
   "metadata": {},
   "outputs": [],
   "source": []
  },
  {
   "cell_type": "code",
   "execution_count": null,
   "id": "3f49bf26",
   "metadata": {},
   "outputs": [],
   "source": []
  },
  {
   "cell_type": "code",
   "execution_count": null,
   "id": "20e22ba7",
   "metadata": {},
   "outputs": [],
   "source": []
  },
  {
   "cell_type": "code",
   "execution_count": null,
   "id": "cd4a9346",
   "metadata": {},
   "outputs": [],
   "source": []
  },
  {
   "cell_type": "code",
   "execution_count": null,
   "id": "6ecda834",
   "metadata": {},
   "outputs": [],
   "source": []
  },
  {
   "cell_type": "code",
   "execution_count": null,
   "id": "4b7336bc",
   "metadata": {},
   "outputs": [],
   "source": [
    "donloads(url, list_urls[1])"
   ]
  },
  {
   "cell_type": "code",
   "execution_count": null,
   "id": "4cb8b1ac",
   "metadata": {},
   "outputs": [],
   "source": []
  },
  {
   "cell_type": "code",
   "execution_count": null,
   "id": "551a02e2",
   "metadata": {},
   "outputs": [],
   "source": []
  },
  {
   "cell_type": "code",
   "execution_count": null,
   "id": "72c17ef4",
   "metadata": {},
   "outputs": [],
   "source": [
    "def donloads(url, arquivo):\n",
    "    resposta = requests.get(url + arquivo, stream=True, headers={\"Accept-Encoding\": None})\n",
    "    if resposta.status_code == requests.codes.ok:\n",
    "        total_size = int(resposta.headers.get(\"Content-Length\", 0))\n",
    "        block_size = 1024\n",
    "\n",
    "        print(f\"Downloading {arquivo}\")\n",
    "\n",
    "        t = tqdm(total=total_size, unit=\"iB\", unit_scale=True)\n",
    "        with open(arquivo, \"wb\") as f:\n",
    "            for data in resposta.iter_content(block_size):\n",
    "                t.update(len(data))\n",
    "                f.write(data)\n",
    "        t.close()\n",
    "    else:\n",
    "        resposta.raise_for_status()"
   ]
  },
  {
   "cell_type": "code",
   "execution_count": null,
   "id": "0cb73841",
   "metadata": {},
   "outputs": [],
   "source": []
  },
  {
   "cell_type": "code",
   "execution_count": null,
   "id": "b1ef7753",
   "metadata": {},
   "outputs": [],
   "source": [
    "\n",
    "req = requests.get(url, stream=True, headers={\"Accept-Encoding\": None})"
   ]
  },
  {
   "cell_type": "code",
   "execution_count": null,
   "id": "58172392",
   "metadata": {},
   "outputs": [],
   "source": [
    "req.links"
   ]
  },
  {
   "cell_type": "code",
   "execution_count": null,
   "id": "69b97b29",
   "metadata": {},
   "outputs": [],
   "source": []
  },
  {
   "cell_type": "code",
   "execution_count": null,
   "id": "15cee7c0",
   "metadata": {},
   "outputs": [],
   "source": []
  },
  {
   "cell_type": "code",
   "execution_count": null,
   "id": "84f643db",
   "metadata": {},
   "outputs": [],
   "source": [
    "url = 'http://200.152.38.155/CNPJ/'"
   ]
  },
  {
   "cell_type": "code",
   "execution_count": null,
   "id": "3c0524e5",
   "metadata": {},
   "outputs": [],
   "source": [
    "def baixa_arquivo(url, endereco):\n",
    "    # faz a requisição \n",
    "    resposta = requests.get(url)\n",
    "    if resposta.status_code == requests.codes.ok:\n",
    "        with open('endereco', 'wb')as novo_arquivo:\n",
    "            novo_arquivo.write(resposta.content)\n",
    "        print(\"Download finalizado, salvo em: ()\".format(endereco))\n",
    "    else:\n",
    "        respósta.raise_for_status()"
   ]
  },
  {
   "cell_type": "code",
   "execution_count": null,
   "id": "3484f13f",
   "metadata": {},
   "outputs": [],
   "source": [
    "baixa_arquivo(url, 'teste.html')"
   ]
  },
  {
   "cell_type": "code",
   "execution_count": null,
   "id": "15c03a87",
   "metadata": {},
   "outputs": [],
   "source": [
    "data = str(urlopen(URL_BASE_RFB).read(), encoding='utf8')\n",
    "\n",
    "    # Pega todas as urls\n",
    "    urls = re.findall(r'href=[\\'\"]?([^\\'\" >]+)', data)"
   ]
  },
  {
   "cell_type": "code",
   "execution_count": null,
   "id": "9ae880be",
   "metadata": {},
   "outputs": [],
   "source": [
    "resposta = requests.get(url).text"
   ]
  },
  {
   "cell_type": "code",
   "execution_count": null,
   "id": "6b0eede4",
   "metadata": {},
   "outputs": [],
   "source": [
    "print(resposta.text)"
   ]
  },
  {
   "cell_type": "code",
   "execution_count": null,
   "id": "e208e2da",
   "metadata": {},
   "outputs": [],
   "source": [
    "import re"
   ]
  },
  {
   "cell_type": "code",
   "execution_count": null,
   "id": "14308f40",
   "metadata": {},
   "outputs": [],
   "source": [
    "list_urls = re.findall(r'href=[\\'\"]?([^\\'\" >]+)', requests.get(url).text)"
   ]
  },
  {
   "cell_type": "code",
   "execution_count": null,
   "id": "6193d55a",
   "metadata": {},
   "outputs": [],
   "source": [
    "list_urls"
   ]
  },
  {
   "cell_type": "code",
   "execution_count": null,
   "id": "8f69ac36",
   "metadata": {},
   "outputs": [],
   "source": [
    "filtered = list(filter(lambda url: url.split(\".\")[-1] in [\"zip\",\"pdf\"], list_urls))\n",
    "filtered"
   ]
  },
  {
   "cell_type": "code",
   "execution_count": null,
   "id": "60ce656a",
   "metadata": {},
   "outputs": [],
   "source": [
    "for indice, elemento in tqdm(enumerate(filtered)):\n",
    "    print (f\"{indice:<10}{elemento}\")"
   ]
  },
  {
   "cell_type": "code",
   "execution_count": null,
   "id": "7e242b31",
   "metadata": {},
   "outputs": [],
   "source": [
    "def donloads(url, arquivo):\n",
    "    req = requests.get(url + arquivo, stream=True, headers={\"Accept-Encoding\": None})\n",
    "    if resposta.status_code == requests.codes.ok:\n",
    "        total_size = int(req.headers.get(\"Content-Length\", 0))\n",
    "        block_size = 1024\n",
    "\n",
    "        print(f\"Downloading {arquivo}\")\n",
    "\n",
    "        t = tqdm(total=total_size, unit=\"iB\", unit_scale=True)\n",
    "        with open(arquivo, \"wb\") as f:\n",
    "            for data in req.iter_content(block_size):\n",
    "                t.update(len(data))\n",
    "                f.write(data)\n",
    "        t.close()\n",
    "    else:\n",
    "        resposta.raise_for_status()"
   ]
  },
  {
   "cell_type": "code",
   "execution_count": null,
   "id": "d8238880",
   "metadata": {},
   "outputs": [],
   "source": [
    "for i in list_urls:\n",
    "    if i.split(\".\")[-1] in [\"zip\",\"pdf\"]:\n",
    "        donloads(url, i)"
   ]
  },
  {
   "cell_type": "code",
   "execution_count": null,
   "id": "49951e5f",
   "metadata": {},
   "outputs": [],
   "source": []
  },
  {
   "cell_type": "code",
   "execution_count": null,
   "id": "49d8031f",
   "metadata": {},
   "outputs": [],
   "source": [
    "donloads(url, list_urls[1])"
   ]
  },
  {
   "cell_type": "code",
   "execution_count": null,
   "id": "e96ffba1",
   "metadata": {},
   "outputs": [],
   "source": []
  }
 ],
 "metadata": {
  "hide_input": false,
  "kernelspec": {
   "display_name": "Python 3 (ipykernel)",
   "language": "python",
   "name": "python3"
  },
  "language_info": {
   "codemirror_mode": {
    "name": "ipython",
    "version": 3
   },
   "file_extension": ".py",
   "mimetype": "text/x-python",
   "name": "python",
   "nbconvert_exporter": "python",
   "pygments_lexer": "ipython3",
   "version": "3.9.6"
  },
  "varInspector": {
   "cols": {
    "lenName": 16,
    "lenType": 16,
    "lenVar": 40
   },
   "kernels_config": {
    "python": {
     "delete_cmd_postfix": "",
     "delete_cmd_prefix": "del ",
     "library": "var_list.py",
     "varRefreshCmd": "print(var_dic_list())"
    },
    "r": {
     "delete_cmd_postfix": ") ",
     "delete_cmd_prefix": "rm(",
     "library": "var_list.r",
     "varRefreshCmd": "cat(var_dic_list()) "
    }
   },
   "types_to_exclude": [
    "module",
    "function",
    "builtin_function_or_method",
    "instance",
    "_Feature"
   ],
   "window_display": false
  }
 },
 "nbformat": 4,
 "nbformat_minor": 5
}
