{
 "cells": [
  {
   "cell_type": "code",
   "execution_count": 1,
   "id": "de8f8576-585d-48f2-bb86-d81c59eec9bf",
   "metadata": {},
   "outputs": [
    {
     "name": "stdout",
     "output_type": "stream",
     "text": [
      "Wall time: 13.8 s\n"
     ]
    }
   ],
   "source": [
    "%%time\n",
    "import sys\n",
    "import re\n",
    "import math\n",
    "import requests\n",
    "import enlighten\n",
    "import sqlite3\n",
    "import json\n",
    "import os\n",
    "\n",
    "import networkx as nx\n",
    "from networkx.readwrite import json_graph\n",
    "\n",
    "import numpy as np\n",
    "import pandas as pd\n",
    "\n",
    "pd.set_option('display.max_columns', None)\n",
    "pd.set_option('display.max_rows', 50)\n",
    "\n",
    "url = 'http://200.152.38.155/CNPJ/'\n",
    "formato_data = '%Y%m%d'\n",
    "PATH_BD = 'data/CNPJ_full.db'\n"
   ]
  },
  {
   "cell_type": "code",
   "execution_count": 2,
   "id": "83d0a0d2-6b43-412f-9bdd-b1a3a77d4eb2",
   "metadata": {},
   "outputs": [
    {
     "name": "stdout",
     "output_type": "stream",
     "text": [
      "Wall time: 8 ms\n"
     ]
    }
   ],
   "source": [
    "%%time\n",
    "con = sqlite3.connect(PATH_BD)"
   ]
  },
  {
   "cell_type": "markdown",
   "id": "c08d8a2e-c901-4130-ac0c-2b49be236653",
   "metadata": {},
   "source": [
    "### Constantes de pesquisa"
   ]
  },
  {
   "cell_type": "code",
   "execution_count": 4,
   "id": "186a0876-b003-482e-8514-dc2571b78b99",
   "metadata": {},
   "outputs": [],
   "source": [
    "item_pesquisa = '05150869000136'\n",
    "item_pesquisa = item_pesquisa.replace('.','').replace('/','').replace('-','').zfill(14)\n",
    "tipo_pess = 1 # 1= PJ / 2= PF"
   ]
  },
  {
   "cell_type": "code",
   "execution_count": null,
   "id": "ece48ecc-3c26-40ad-b320-d21ba69acc16",
   "metadata": {},
   "outputs": [],
   "source": []
  },
  {
   "cell_type": "code",
   "execution_count": 4,
   "id": "64fc12d2-5786-4b9b-b3ad-5e395cc2d04d",
   "metadata": {},
   "outputs": [
    {
     "ename": "NameError",
     "evalue": "name 'sql' is not defined",
     "output_type": "error",
     "traceback": [
      "\u001b[1;31m---------------------------------------------------------------------------\u001b[0m",
      "\u001b[1;31mNameError\u001b[0m                                 Traceback (most recent call last)",
      "\u001b[1;32m<timed exec>\u001b[0m in \u001b[0;36m<module>\u001b[1;34m\u001b[0m\n",
      "\u001b[1;31mNameError\u001b[0m: name 'sql' is not defined"
     ]
    }
   ],
   "source": [
    "%%time\n",
    "con = sqlite3.connect(PATH_BD)\n",
    "df = pd.read_sql_query(sql, con)\n",
    "con.close()\n",
    "df.head()"
   ]
  },
  {
   "cell_type": "code",
   "execution_count": 5,
   "id": "f8dd49da-efd5-45a8-9ece-eef19557e0d1",
   "metadata": {},
   "outputs": [
    {
     "name": "stdout",
     "output_type": "stream",
     "text": [
      "SELECT EST.CNPJ || EST.CNPJ_ORDEM || EST.CNPJ_DV as CNPJ, EST.CNPJ AS MIOLO,\n",
      "\t\tEMP.RAZAO, EST.NOME\n",
      "        FROM ESTABELECIMENTOS as EST\n",
      "        \tLEFT JOIN EMPRESAS as EMP\n",
      "     \t\t\tON EST.CNPJ = EMP.CNPJ\n",
      "        WHERE \n",
      "        \tEST.CNPJ = '05150869' AND\n",
      "            EST.MATRIZ_FILIAL = 1  \n",
      "    \n"
     ]
    }
   ],
   "source": [
    "sql = '''SELECT EST.CNPJ || EST.CNPJ_ORDEM || EST.CNPJ_DV as CNPJ, EST.CNPJ AS MIOLO,\n",
    "\t\tEMP.RAZAO, EST.NOME\n",
    "        FROM ESTABELECIMENTOS as EST\n",
    "        \tLEFT JOIN EMPRESAS as EMP\n",
    "     \t\t\tON EST.CNPJ = EMP.CNPJ\n",
    "        WHERE \n",
    "        \tEST.CNPJ = '{0}' AND\n",
    "            EST.MATRIZ_FILIAL = 1  \n",
    "    '''.format(item_pesquisa[0:8])\n",
    "\n",
    "print(sql)"
   ]
  },
  {
   "cell_type": "code",
   "execution_count": 6,
   "id": "e079bd92-b45f-430e-8c94-3110810e9d3b",
   "metadata": {},
   "outputs": [
    {
     "name": "stdout",
     "output_type": "stream",
     "text": [
      "Wall time: 12.1 s\n"
     ]
    },
    {
     "data": {
      "text/html": [
       "<div>\n",
       "<style scoped>\n",
       "    .dataframe tbody tr th:only-of-type {\n",
       "        vertical-align: middle;\n",
       "    }\n",
       "\n",
       "    .dataframe tbody tr th {\n",
       "        vertical-align: top;\n",
       "    }\n",
       "\n",
       "    .dataframe thead th {\n",
       "        text-align: right;\n",
       "    }\n",
       "</style>\n",
       "<table border=\"1\" class=\"dataframe\">\n",
       "  <thead>\n",
       "    <tr style=\"text-align: right;\">\n",
       "      <th></th>\n",
       "      <th>CNPJ</th>\n",
       "      <th>MIOLO</th>\n",
       "      <th>RAZAO</th>\n",
       "      <th>NOME</th>\n",
       "    </tr>\n",
       "  </thead>\n",
       "  <tbody>\n",
       "    <tr>\n",
       "      <th>0</th>\n",
       "      <td>05150869000136</td>\n",
       "      <td>05150869</td>\n",
       "      <td>RESOURCE AMERICANA LTDA</td>\n",
       "      <td>None</td>\n",
       "    </tr>\n",
       "  </tbody>\n",
       "</table>\n",
       "</div>"
      ],
      "text/plain": [
       "             CNPJ     MIOLO                    RAZAO  NOME\n",
       "0  05150869000136  05150869  RESOURCE AMERICANA LTDA  None"
      ]
     },
     "execution_count": 6,
     "metadata": {},
     "output_type": "execute_result"
    }
   ],
   "source": [
    "%%time\n",
    "con = sqlite3.connect(PATH_BD)\n",
    "df = pd.read_sql_query(sql, con)\n",
    "con.close()\n",
    "df.head()"
   ]
  },
  {
   "cell_type": "code",
   "execution_count": 7,
   "id": "56e35c95-1032-4968-9331-69cbd70be097",
   "metadata": {},
   "outputs": [],
   "source": [
    "G = None\n",
    "G = nx.DiGraph()\n",
    "G_adapt = G.copy()\n",
    "nivel=0"
   ]
  },
  {
   "cell_type": "code",
   "execution_count": null,
   "id": "90055caa-120e-4dc8-ae9e-2fc7d9c7931c",
   "metadata": {},
   "outputs": [],
   "source": [
    "if tipo_pess ==1: # Pessoa Juridica\n",
    "    # print('PJ')\n",
    "    nome = None\n",
    "    sql = '''SELECT EST.CNPJ || EST.CNPJ_ORDEM || EST.CNPJ_DV as CNPJ, EST.CNPJ AS MIOLO,\n",
    "\t\tEMP.RAZAO, EST.NOME\n",
    "        FROM ESTABELECIMENTOS as EST\n",
    "        \tLEFT JOIN EMPRESAS as EMP\n",
    "     \t\t\tON EST.CNPJ = EMP.CNPJ\n",
    "        WHERE \n",
    "        \tEST.CNPJ = '{0}' AND\n",
    "            EST.MATRIZ_FILIAL = 1  \n",
    "    '''.format(item_pesquisa[0:8])\n",
    "    con = sqlite3.connect(PATH_BD)\n",
    "    df = pd.read_sql_query(sql, con)\n",
    "    con.close()\n",
    "    G.add_node(df['MIOLO'].values[0], razao=df['RAZAO'].values[0] , nome=df['NOME'].values[0], tipo_pessoa=tipo_pess, nivel=nivel)\n",
    "\n",
    "else: # Pessoa Fisica\n",
    "    print('PF')\n"
   ]
  },
  {
   "cell_type": "code",
   "execution_count": null,
   "id": "29952563-3fb2-4033-8bd1-93b3e0831833",
   "metadata": {},
   "outputs": [],
   "source": [
    "nx.draw(G, with_labels=True)"
   ]
  },
  {
   "cell_type": "markdown",
   "id": "8aa766bb-7f08-4ece-b9d1-00ba08b6b08c",
   "metadata": {},
   "source": [
    "### ADD Sócios"
   ]
  },
  {
   "cell_type": "code",
   "execution_count": null,
   "id": "8f289b21-c6e9-4f64-b80d-ee6c48dd784f",
   "metadata": {},
   "outputs": [],
   "source": [
    "%%time\n",
    "sql = '''SELECT CNPJ, IDENTIFICADOR_SOCIO, NOME, \n",
    "                CPF_CNPJ, QUALIFICACAO, DATA_ENTRADA_SOCIEDADE, \n",
    "                CODIGO_PAIS, CPF_REPRESENTANTE_LEGAL, NOME_REPRESENTANTE_LEGAL, \n",
    "                QUALIFICACAO_REPRESENTANTE_LEGAL, FAIXA_ETARIA\n",
    "        FROM SOCIOS\n",
    "        WHERE \n",
    "        CNPJ = '{0}'\n",
    "    '''.format(item_pesquisa[0:8])\n",
    "\n",
    "con = sqlite3.connect(PATH_BD)\n",
    "df = pd.read_sql_query(sql, con)\n",
    "con.close()\n",
    "df.head()"
   ]
  },
  {
   "cell_type": "code",
   "execution_count": null,
   "id": "94534fe1-8213-4faf-a6f6-b6cc1ed50271",
   "metadata": {},
   "outputs": [],
   "source": [
    "for index, row in df.iterrows():\n",
    "    G.add_edge(row['CNPJ'], row['CPF_CNPJ'], type=\"\"  )"
   ]
  },
  {
   "cell_type": "code",
   "execution_count": null,
   "id": "0fa612d8-a87d-40d6-a857-384693309c96",
   "metadata": {},
   "outputs": [],
   "source": [
    "nx.draw(G, with_labels=True)"
   ]
  },
  {
   "cell_type": "code",
   "execution_count": 10,
   "id": "a158cec1-5a50-40f0-83bf-98802e4347ca",
   "metadata": {},
   "outputs": [],
   "source": [
    "empresas = pd.DataFrame()\n",
    "socios = pd.DataFrame()"
   ]
  },
  {
   "cell_type": "code",
   "execution_count": 18,
   "id": "92d25cda-7a33-46d7-af9d-9ff15a99463c",
   "metadata": {},
   "outputs": [],
   "source": [
    "def Pesquisa(item_pesquisa,tipo_pess, nivel, empresas):\n",
    "    if tipo_pess ==1: # Pessoa Juridica\n",
    "            # print('PJ')\n",
    "            nome = None\n",
    "            sql = '''SELECT EST.CNPJ || EST.CNPJ_ORDEM || EST.CNPJ_DV as CNPJ, EST.CNPJ AS MIOLO,\n",
    "                EMP.RAZAO, EST.NOME\n",
    "                FROM ESTABELECIMENTOS as EST\n",
    "                    LEFT JOIN EMPRESAS as EMP\n",
    "                        ON EST.CNPJ = EMP.CNPJ\n",
    "                WHERE \n",
    "                    EST.CNPJ = '{0}' AND\n",
    "                    EST.MATRIZ_FILIAL = 1  \n",
    "            '''.format(item_pesquisa[0:8])\n",
    "            con = sqlite3.connect(PATH_BD)\n",
    "            df = pd.read_sql_query(sql, con)\n",
    "            df['NIVEL'] = nivel\n",
    "            con.close()\n",
    "            empresas = pd.concat([empresas, df], ignore_index = True, axis = 0)\n",
    "            return(empresas)\n",
    "            # G.add_node(df['MIOLO'].values[0], razao=df['RAZAO'].values[0] , nome=df['NOME'].values[0], tipo_pessoa=tipo_pess, nivel=nivel)\n",
    "    else: # Pessoa Fisica\n",
    "            print('PF')\n"
   ]
  },
  {
   "cell_type": "code",
   "execution_count": 22,
   "id": "074fd8a3-114f-47a1-a41a-09fbf09ccefa",
   "metadata": {},
   "outputs": [
    {
     "data": {
      "text/html": [
       "<div>\n",
       "<style scoped>\n",
       "    .dataframe tbody tr th:only-of-type {\n",
       "        vertical-align: middle;\n",
       "    }\n",
       "\n",
       "    .dataframe tbody tr th {\n",
       "        vertical-align: top;\n",
       "    }\n",
       "\n",
       "    .dataframe thead th {\n",
       "        text-align: right;\n",
       "    }\n",
       "</style>\n",
       "<table border=\"1\" class=\"dataframe\">\n",
       "  <thead>\n",
       "    <tr style=\"text-align: right;\">\n",
       "      <th></th>\n",
       "      <th>CNPJ</th>\n",
       "      <th>MIOLO</th>\n",
       "      <th>RAZAO</th>\n",
       "      <th>NOME</th>\n",
       "      <th>NIVEL</th>\n",
       "    </tr>\n",
       "  </thead>\n",
       "  <tbody>\n",
       "    <tr>\n",
       "      <th>0</th>\n",
       "      <td>05150869000136</td>\n",
       "      <td>05150869</td>\n",
       "      <td>RESOURCE AMERICANA LTDA</td>\n",
       "      <td>None</td>\n",
       "      <td>0</td>\n",
       "    </tr>\n",
       "    <tr>\n",
       "      <th>1</th>\n",
       "      <td>05150869000136</td>\n",
       "      <td>05150869</td>\n",
       "      <td>RESOURCE AMERICANA LTDA</td>\n",
       "      <td>None</td>\n",
       "      <td>0</td>\n",
       "    </tr>\n",
       "  </tbody>\n",
       "</table>\n",
       "</div>"
      ],
      "text/plain": [
       "             CNPJ     MIOLO                    RAZAO  NOME  NIVEL\n",
       "0  05150869000136  05150869  RESOURCE AMERICANA LTDA  None      0\n",
       "1  05150869000136  05150869  RESOURCE AMERICANA LTDA  None      0"
      ]
     },
     "execution_count": 22,
     "metadata": {},
     "output_type": "execute_result"
    }
   ],
   "source": [
    "empresas = Pesquisa(item_pesquisa,tipo_pess, nivel, empresas)\n",
    "empresas"
   ]
  },
  {
   "cell_type": "code",
   "execution_count": 28,
   "id": "935b8031-1cec-453b-a434-d1c70cf2aca9",
   "metadata": {},
   "outputs": [
    {
     "name": "stdout",
     "output_type": "stream",
     "text": [
      "Wall time: 0 ns\n"
     ]
    }
   ],
   "source": [
    "%%time\n",
    "def PesquisaSocios(item_pesquisa, nivel, socios):\n",
    "    sql = '''SELECT CNPJ, IDENTIFICADOR_SOCIO, NOME, \n",
    "                    CPF_CNPJ, QUALIFICACAO, DATA_ENTRADA_SOCIEDADE, \n",
    "                    CODIGO_PAIS, CPF_REPRESENTANTE_LEGAL, NOME_REPRESENTANTE_LEGAL, \n",
    "                    QUALIFICACAO_REPRESENTANTE_LEGAL, FAIXA_ETARIA\n",
    "            FROM SOCIOS\n",
    "            WHERE \n",
    "            CNPJ = '{0}'\n",
    "        '''.format(item_pesquisa[0:8])\n",
    "\n",
    "    con = sqlite3.connect(PATH_BD)\n",
    "    df = pd.read_sql_query(sql, con)\n",
    "    con.close()\n",
    "    df['NIVEL'] = nivel\n",
    "    socios = pd.concat([socios, df], ignore_index = True, axis = 0)\n",
    "    nivel += 1\n",
    "    return(socios, nivel)"
   ]
  },
  {
   "cell_type": "code",
   "execution_count": 29,
   "id": "a3c4b240-5cf6-4ff4-b94b-dcf18182cf41",
   "metadata": {},
   "outputs": [
    {
     "data": {
      "text/html": [
       "<div>\n",
       "<style scoped>\n",
       "    .dataframe tbody tr th:only-of-type {\n",
       "        vertical-align: middle;\n",
       "    }\n",
       "\n",
       "    .dataframe tbody tr th {\n",
       "        vertical-align: top;\n",
       "    }\n",
       "\n",
       "    .dataframe thead th {\n",
       "        text-align: right;\n",
       "    }\n",
       "</style>\n",
       "<table border=\"1\" class=\"dataframe\">\n",
       "  <thead>\n",
       "    <tr style=\"text-align: right;\">\n",
       "      <th></th>\n",
       "      <th>CNPJ</th>\n",
       "      <th>IDENTIFICADOR_SOCIO</th>\n",
       "      <th>NOME</th>\n",
       "      <th>CPF_CNPJ</th>\n",
       "      <th>QUALIFICACAO</th>\n",
       "      <th>DATA_ENTRADA_SOCIEDADE</th>\n",
       "      <th>CODIGO_PAIS</th>\n",
       "      <th>CPF_REPRESENTANTE_LEGAL</th>\n",
       "      <th>NOME_REPRESENTANTE_LEGAL</th>\n",
       "      <th>QUALIFICACAO_REPRESENTANTE_LEGAL</th>\n",
       "      <th>FAIXA_ETARIA</th>\n",
       "      <th>NIVEL</th>\n",
       "    </tr>\n",
       "  </thead>\n",
       "  <tbody>\n",
       "    <tr>\n",
       "      <th>0</th>\n",
       "      <td>05150869</td>\n",
       "      <td>1</td>\n",
       "      <td>RESOURCE IT SOLUTIONS PARTICIPACOES LTDA.</td>\n",
       "      <td>11304881000150</td>\n",
       "      <td>22</td>\n",
       "      <td>20091028</td>\n",
       "      <td>None</td>\n",
       "      <td>***438508**</td>\n",
       "      <td>ANDERSON DE SOUZA MERLI</td>\n",
       "      <td>5</td>\n",
       "      <td>0</td>\n",
       "      <td>0</td>\n",
       "    </tr>\n",
       "    <tr>\n",
       "      <th>1</th>\n",
       "      <td>05150869</td>\n",
       "      <td>2</td>\n",
       "      <td>FRANK ASANTE KISSI</td>\n",
       "      <td>***916681**</td>\n",
       "      <td>5</td>\n",
       "      <td>20190625</td>\n",
       "      <td>None</td>\n",
       "      <td>***000000**</td>\n",
       "      <td>None</td>\n",
       "      <td>0</td>\n",
       "      <td>5</td>\n",
       "      <td>0</td>\n",
       "    </tr>\n",
       "    <tr>\n",
       "      <th>2</th>\n",
       "      <td>05150869</td>\n",
       "      <td>1</td>\n",
       "      <td>RESOURCE IT SOLUTIONS PARTICIPACOES LTDA.</td>\n",
       "      <td>11304881000150</td>\n",
       "      <td>22</td>\n",
       "      <td>20091028</td>\n",
       "      <td>None</td>\n",
       "      <td>***438508**</td>\n",
       "      <td>ANDERSON DE SOUZA MERLI</td>\n",
       "      <td>5</td>\n",
       "      <td>0</td>\n",
       "      <td>0</td>\n",
       "    </tr>\n",
       "    <tr>\n",
       "      <th>3</th>\n",
       "      <td>05150869</td>\n",
       "      <td>2</td>\n",
       "      <td>FRANK ASANTE KISSI</td>\n",
       "      <td>***916681**</td>\n",
       "      <td>5</td>\n",
       "      <td>20190625</td>\n",
       "      <td>None</td>\n",
       "      <td>***000000**</td>\n",
       "      <td>None</td>\n",
       "      <td>0</td>\n",
       "      <td>5</td>\n",
       "      <td>0</td>\n",
       "    </tr>\n",
       "  </tbody>\n",
       "</table>\n",
       "</div>"
      ],
      "text/plain": [
       "       CNPJ  IDENTIFICADOR_SOCIO                                       NOME  \\\n",
       "0  05150869                    1  RESOURCE IT SOLUTIONS PARTICIPACOES LTDA.   \n",
       "1  05150869                    2                         FRANK ASANTE KISSI   \n",
       "2  05150869                    1  RESOURCE IT SOLUTIONS PARTICIPACOES LTDA.   \n",
       "3  05150869                    2                         FRANK ASANTE KISSI   \n",
       "\n",
       "         CPF_CNPJ  QUALIFICACAO  DATA_ENTRADA_SOCIEDADE CODIGO_PAIS  \\\n",
       "0  11304881000150            22                20091028        None   \n",
       "1     ***916681**             5                20190625        None   \n",
       "2  11304881000150            22                20091028        None   \n",
       "3     ***916681**             5                20190625        None   \n",
       "\n",
       "  CPF_REPRESENTANTE_LEGAL NOME_REPRESENTANTE_LEGAL  \\\n",
       "0             ***438508**  ANDERSON DE SOUZA MERLI   \n",
       "1             ***000000**                     None   \n",
       "2             ***438508**  ANDERSON DE SOUZA MERLI   \n",
       "3             ***000000**                     None   \n",
       "\n",
       "   QUALIFICACAO_REPRESENTANTE_LEGAL  FAIXA_ETARIA  NIVEL  \n",
       "0                                 5             0      0  \n",
       "1                                 0             5      0  \n",
       "2                                 5             0      0  \n",
       "3                                 0             5      0  "
      ]
     },
     "execution_count": 29,
     "metadata": {},
     "output_type": "execute_result"
    }
   ],
   "source": [
    "socios, nivel = PesquisaSocios(item_pesquisa, nivel, socios)\n",
    "socios"
   ]
  },
  {
   "cell_type": "code",
   "execution_count": 30,
   "id": "d4402029-6db1-49dd-bc13-550948b5502e",
   "metadata": {},
   "outputs": [
    {
     "data": {
      "text/plain": [
       "1"
      ]
     },
     "execution_count": 30,
     "metadata": {},
     "output_type": "execute_result"
    }
   ],
   "source": [
    "\n"
   ]
  },
  {
   "cell_type": "code",
   "execution_count": null,
   "id": "fe1144d5-3fd1-483a-836e-140630534057",
   "metadata": {},
   "outputs": [],
   "source": []
  },
  {
   "cell_type": "code",
   "execution_count": null,
   "id": "c5e448c3-ab37-49a7-9ce8-32752d990a34",
   "metadata": {},
   "outputs": [],
   "source": []
  },
  {
   "cell_type": "code",
   "execution_count": null,
   "id": "59b7244a-2f2e-4363-b360-13d05d1b192e",
   "metadata": {},
   "outputs": [],
   "source": []
  },
  {
   "cell_type": "code",
   "execution_count": null,
   "id": "b183d1a5-d276-4807-972e-51189a093229",
   "metadata": {},
   "outputs": [],
   "source": []
  },
  {
   "cell_type": "code",
   "execution_count": null,
   "id": "2dd780ed-11de-4215-aeb6-cfb251b8f36e",
   "metadata": {},
   "outputs": [],
   "source": [
    "item_pesquisa = '11304881000150'"
   ]
  },
  {
   "cell_type": "code",
   "execution_count": null,
   "id": "9b66eb36-b449-48b1-a41d-4eba0d29e713",
   "metadata": {},
   "outputs": [],
   "source": [
    "if tipo_pess ==1: # Pessoa Juridica\n",
    "    # print('PJ')\n",
    "    nome = None\n",
    "    sql = '''SELECT EST.CNPJ || EST.CNPJ_ORDEM || EST.CNPJ_DV as CNPJ, EST.CNPJ AS MIOLO,\n",
    "\t\tEMP.RAZAO, EST.NOME\n",
    "        FROM ESTABELECIMENTOS as EST\n",
    "        \tLEFT JOIN EMPRESAS as EMP\n",
    "     \t\t\tON EST.CNPJ = EMP.CNPJ\n",
    "        WHERE \n",
    "        \tEST.CNPJ = '{0}' AND\n",
    "            EST.MATRIZ_FILIAL = 1  \n",
    "    '''.format(item_pesquisa[0:8])\n",
    "    con = sqlite3.connect(PATH_BD)\n",
    "    df = pd.read_sql_query(sql, con)\n",
    "    con.close()\n",
    "    nodes = pd.concat([nodes, df], ignore_index = True, axis = 0)\n",
    "    # G.add_node(df['MIOLO'].values[0], razao=df['RAZAO'].values[0] , nome=df['NOME'].values[0], tipo_pessoa=tipo_pess, nivel=nivel)\n",
    "\n",
    "else: # Pessoa Fisica\n",
    "    print('PF')"
   ]
  },
  {
   "cell_type": "code",
   "execution_count": null,
   "id": "e7a533d7-157d-4a7f-b01f-998ea730a329",
   "metadata": {},
   "outputs": [],
   "source": [
    "nodes"
   ]
  },
  {
   "cell_type": "code",
   "execution_count": null,
   "id": "212ff666-ea07-46fa-95d4-86b753dcfefd",
   "metadata": {},
   "outputs": [],
   "source": [
    "%%time\n",
    "sql = '''SELECT CNPJ, IDENTIFICADOR_SOCIO, NOME, \n",
    "                CPF_CNPJ, QUALIFICACAO, DATA_ENTRADA_SOCIEDADE, \n",
    "                CODIGO_PAIS, CPF_REPRESENTANTE_LEGAL, NOME_REPRESENTANTE_LEGAL, \n",
    "                QUALIFICACAO_REPRESENTANTE_LEGAL, FAIXA_ETARIA\n",
    "        FROM SOCIOS\n",
    "        WHERE \n",
    "        CNPJ = '{0}'\n",
    "    '''.format(item_pesquisa[0:8])\n",
    "\n",
    "con = sqlite3.connect(PATH_BD)\n",
    "df = pd.read_sql_query(sql, con)\n",
    "con.close()\n",
    "edges = pd.concat([edges, df], ignore_index = True, axis = 0)\n",
    "edges"
   ]
  },
  {
   "cell_type": "code",
   "execution_count": null,
   "id": "1aebc426-8fb5-4ea6-9d7c-63c6a513e83e",
   "metadata": {},
   "outputs": [],
   "source": []
  },
  {
   "cell_type": "code",
   "execution_count": null,
   "id": "7ab81ea8-4685-4614-95f0-421d3badab7d",
   "metadata": {},
   "outputs": [],
   "source": []
  },
  {
   "cell_type": "code",
   "execution_count": null,
   "id": "a69ca907-565e-4047-b551-a53a075f564b",
   "metadata": {},
   "outputs": [],
   "source": []
  },
  {
   "cell_type": "code",
   "execution_count": null,
   "id": "f4c90a90-c806-4894-96f7-56c53ae35afc",
   "metadata": {},
   "outputs": [],
   "source": []
  },
  {
   "cell_type": "code",
   "execution_count": null,
   "id": "ebd18e65-e02d-4899-984e-8ea3b00ca6ff",
   "metadata": {},
   "outputs": [],
   "source": []
  },
  {
   "cell_type": "code",
   "execution_count": null,
   "id": "5fd0764c-0da7-47d7-ae7b-a7554fb5df80",
   "metadata": {},
   "outputs": [],
   "source": []
  },
  {
   "cell_type": "code",
   "execution_count": null,
   "id": "a183b574-d57e-4741-beea-fd77bd4234d5",
   "metadata": {},
   "outputs": [],
   "source": []
  },
  {
   "cell_type": "code",
   "execution_count": 17,
   "id": "b83ad2dc-d145-429f-8f9f-174ef9f50e5b",
   "metadata": {},
   "outputs": [],
   "source": [
    "sql = '''\n",
    "        SELECT EST.CNPJ || EST.CNPJ_ORDEM || EST.CNPJ_DV as CNPJ_x, EST.CNPJ AS CNPJ,\n",
    "                EMP.RAZAO as razao_social, EST.NOME as nome_fantasia\n",
    "                FROM ESTABELECIMENTOS as EST\n",
    "                    LEFT JOIN EMPRESAS as EMP\n",
    "                        ON EST.CNPJ = EMP.CNPJ\n",
    "                WHERE \n",
    "                    EST.CNPJ = '{0}' AND\n",
    "                    EST.MATRIZ_FILIAL = 1 \n",
    "    '''.format(item_pesquisa[:8])"
   ]
  },
  {
   "cell_type": "code",
   "execution_count": 18,
   "id": "cf3fb2da-3e51-4322-b472-37b595f72394",
   "metadata": {},
   "outputs": [
    {
     "name": "stdout",
     "output_type": "stream",
     "text": [
      "Wall time: 1.96 ms\n"
     ]
    }
   ],
   "source": [
    "%%time\n",
    "con = sqlite3.connect(PATH_BD)\n",
    "df = pd.read_sql_query(sql, con)\n",
    "con.close()\n"
   ]
  },
  {
   "cell_type": "code",
   "execution_count": 19,
   "id": "d8a2af65-b7ca-473c-878a-fd7cc3f62e59",
   "metadata": {},
   "outputs": [
    {
     "data": {
      "text/html": [
       "<div>\n",
       "<style scoped>\n",
       "    .dataframe tbody tr th:only-of-type {\n",
       "        vertical-align: middle;\n",
       "    }\n",
       "\n",
       "    .dataframe tbody tr th {\n",
       "        vertical-align: top;\n",
       "    }\n",
       "\n",
       "    .dataframe thead th {\n",
       "        text-align: right;\n",
       "    }\n",
       "</style>\n",
       "<table border=\"1\" class=\"dataframe\">\n",
       "  <thead>\n",
       "    <tr style=\"text-align: right;\">\n",
       "      <th></th>\n",
       "      <th>CNPJ_x</th>\n",
       "      <th>CNPJ</th>\n",
       "      <th>razao_social</th>\n",
       "      <th>nome_fantasia</th>\n",
       "    </tr>\n",
       "  </thead>\n",
       "  <tbody>\n",
       "    <tr>\n",
       "      <th>0</th>\n",
       "      <td>05150869000136</td>\n",
       "      <td>05150869</td>\n",
       "      <td>RESOURCE AMERICANA LTDA</td>\n",
       "      <td>None</td>\n",
       "    </tr>\n",
       "  </tbody>\n",
       "</table>\n",
       "</div>"
      ],
      "text/plain": [
       "           CNPJ_x      CNPJ             razao_social nome_fantasia\n",
       "0  05150869000136  05150869  RESOURCE AMERICANA LTDA          None"
      ]
     },
     "execution_count": 19,
     "metadata": {},
     "output_type": "execute_result"
    }
   ],
   "source": [
    "df"
   ]
  },
  {
   "cell_type": "code",
   "execution_count": 27,
   "id": "89117729-41c1-4795-8cda-15621d2475a5",
   "metadata": {},
   "outputs": [
    {
     "data": {
      "text/html": [
       "<div>\n",
       "<style scoped>\n",
       "    .dataframe tbody tr th:only-of-type {\n",
       "        vertical-align: middle;\n",
       "    }\n",
       "\n",
       "    .dataframe tbody tr th {\n",
       "        vertical-align: top;\n",
       "    }\n",
       "\n",
       "    .dataframe thead th {\n",
       "        text-align: right;\n",
       "    }\n",
       "</style>\n",
       "<table border=\"1\" class=\"dataframe\">\n",
       "  <thead>\n",
       "    <tr style=\"text-align: right;\">\n",
       "      <th></th>\n",
       "      <th>CNPJ_x</th>\n",
       "      <th>CNPJ</th>\n",
       "      <th>razao_social</th>\n",
       "      <th>nome_fantasia</th>\n",
       "      <th>NIVEL</th>\n",
       "    </tr>\n",
       "  </thead>\n",
       "  <tbody>\n",
       "    <tr>\n",
       "      <th>0</th>\n",
       "      <td>05150869000136</td>\n",
       "      <td>05150869</td>\n",
       "      <td>RESOURCE AMERICANA LTDA</td>\n",
       "      <td>None</td>\n",
       "      <td>1</td>\n",
       "    </tr>\n",
       "  </tbody>\n",
       "</table>\n",
       "</div>"
      ],
      "text/plain": [
       "           CNPJ_x      CNPJ             razao_social nome_fantasia  NIVEL\n",
       "0  05150869000136  05150869  RESOURCE AMERICANA LTDA          None      1"
      ]
     },
     "execution_count": 27,
     "metadata": {},
     "output_type": "execute_result"
    }
   ],
   "source": [
    "#Encontrado\n",
    "# 1º nó\n",
    "empresas = pd.DataFrame()\n",
    "socios = pd.DataFrame()\n",
    "\n",
    "enmpresas = df.copy()\n",
    "enmpresas['NIVEL'] = 1\n",
    "enmpresas"
   ]
  },
  {
   "cell_type": "code",
   "execution_count": null,
   "id": "b2748843-fd02-4d94-8a5e-bdf05db186ef",
   "metadata": {},
   "outputs": [],
   "source": []
  },
  {
   "cell_type": "code",
   "execution_count": null,
   "id": "7204440d-6ad6-4284-a809-a4d8ff35a321",
   "metadata": {},
   "outputs": [],
   "source": []
  },
  {
   "cell_type": "code",
   "execution_count": 28,
   "id": "d60f3f4d-cd41-4a2e-a457-a5f638aeead1",
   "metadata": {},
   "outputs": [],
   "source": [
    "#pesquisar Sócios"
   ]
  },
  {
   "cell_type": "code",
   "execution_count": 29,
   "id": "121a53e2-935a-4b25-8cbf-65dd3bc1b92a",
   "metadata": {},
   "outputs": [
    {
     "name": "stdout",
     "output_type": "stream",
     "text": [
      "Wall time: 3 ms\n"
     ]
    }
   ],
   "source": [
    "%%time\n",
    "sql = '''SELECT CNPJ, IDENTIFICADOR_SOCIO, NOME, \n",
    "                CPF_CNPJ, QUALIFICACAO, DATA_ENTRADA_SOCIEDADE, \n",
    "                CODIGO_PAIS, CPF_REPRESENTANTE_LEGAL, NOME_REPRESENTANTE_LEGAL, \n",
    "                QUALIFICACAO_REPRESENTANTE_LEGAL, FAIXA_ETARIA\n",
    "        FROM SOCIOS\n",
    "        WHERE \n",
    "        CNPJ = '{0}'\n",
    "    '''.format(item_pesquisa[0:8])\n",
    "\n",
    "con = sqlite3.connect(PATH_BD)\n",
    "df = pd.read_sql_query(sql, con)\n",
    "con.close()"
   ]
  },
  {
   "cell_type": "code",
   "execution_count": 16,
   "id": "9579f2d8-6b9c-4a33-9637-8e8286fce491",
   "metadata": {},
   "outputs": [
    {
     "data": {
      "text/html": [
       "<div>\n",
       "<style scoped>\n",
       "    .dataframe tbody tr th:only-of-type {\n",
       "        vertical-align: middle;\n",
       "    }\n",
       "\n",
       "    .dataframe tbody tr th {\n",
       "        vertical-align: top;\n",
       "    }\n",
       "\n",
       "    .dataframe thead th {\n",
       "        text-align: right;\n",
       "    }\n",
       "</style>\n",
       "<table border=\"1\" class=\"dataframe\">\n",
       "  <thead>\n",
       "    <tr style=\"text-align: right;\">\n",
       "      <th></th>\n",
       "      <th>CNPJ</th>\n",
       "      <th>IDENTIFICADOR_SOCIO</th>\n",
       "      <th>NOME</th>\n",
       "      <th>CPF_CNPJ</th>\n",
       "      <th>QUALIFICACAO</th>\n",
       "      <th>DATA_ENTRADA_SOCIEDADE</th>\n",
       "      <th>CODIGO_PAIS</th>\n",
       "      <th>CPF_REPRESENTANTE_LEGAL</th>\n",
       "      <th>NOME_REPRESENTANTE_LEGAL</th>\n",
       "      <th>QUALIFICACAO_REPRESENTANTE_LEGAL</th>\n",
       "      <th>FAIXA_ETARIA</th>\n",
       "    </tr>\n",
       "  </thead>\n",
       "  <tbody>\n",
       "    <tr>\n",
       "      <th>0</th>\n",
       "      <td>05150869</td>\n",
       "      <td>1</td>\n",
       "      <td>RESOURCE IT SOLUTIONS PARTICIPACOES LTDA.</td>\n",
       "      <td>11304881000150</td>\n",
       "      <td>22</td>\n",
       "      <td>20091028</td>\n",
       "      <td>None</td>\n",
       "      <td>***438508**</td>\n",
       "      <td>ANDERSON DE SOUZA MERLI</td>\n",
       "      <td>5</td>\n",
       "      <td>0</td>\n",
       "    </tr>\n",
       "    <tr>\n",
       "      <th>1</th>\n",
       "      <td>05150869</td>\n",
       "      <td>2</td>\n",
       "      <td>FRANK ASANTE KISSI</td>\n",
       "      <td>***916681**</td>\n",
       "      <td>5</td>\n",
       "      <td>20190625</td>\n",
       "      <td>None</td>\n",
       "      <td>***000000**</td>\n",
       "      <td>None</td>\n",
       "      <td>0</td>\n",
       "      <td>5</td>\n",
       "    </tr>\n",
       "  </tbody>\n",
       "</table>\n",
       "</div>"
      ],
      "text/plain": [
       "       CNPJ  IDENTIFICADOR_SOCIO                                       NOME  \\\n",
       "0  05150869                    1  RESOURCE IT SOLUTIONS PARTICIPACOES LTDA.   \n",
       "1  05150869                    2                         FRANK ASANTE KISSI   \n",
       "\n",
       "         CPF_CNPJ  QUALIFICACAO  DATA_ENTRADA_SOCIEDADE CODIGO_PAIS  \\\n",
       "0  11304881000150            22                20091028        None   \n",
       "1     ***916681**             5                20190625        None   \n",
       "\n",
       "  CPF_REPRESENTANTE_LEGAL NOME_REPRESENTANTE_LEGAL  \\\n",
       "0             ***438508**  ANDERSON DE SOUZA MERLI   \n",
       "1             ***000000**                     None   \n",
       "\n",
       "   QUALIFICACAO_REPRESENTANTE_LEGAL  FAIXA_ETARIA  \n",
       "0                                 5             0  \n",
       "1                                 0             5  "
      ]
     },
     "execution_count": 16,
     "metadata": {},
     "output_type": "execute_result"
    }
   ],
   "source": [
    "df"
   ]
  },
  {
   "cell_type": "code",
   "execution_count": 30,
   "id": "552552d4-feaa-40af-8ca8-04a849205d92",
   "metadata": {},
   "outputs": [
    {
     "data": {
      "text/html": [
       "<div>\n",
       "<style scoped>\n",
       "    .dataframe tbody tr th:only-of-type {\n",
       "        vertical-align: middle;\n",
       "    }\n",
       "\n",
       "    .dataframe tbody tr th {\n",
       "        vertical-align: top;\n",
       "    }\n",
       "\n",
       "    .dataframe thead th {\n",
       "        text-align: right;\n",
       "    }\n",
       "</style>\n",
       "<table border=\"1\" class=\"dataframe\">\n",
       "  <thead>\n",
       "    <tr style=\"text-align: right;\">\n",
       "      <th></th>\n",
       "      <th>CNPJ</th>\n",
       "      <th>IDENTIFICADOR_SOCIO</th>\n",
       "      <th>NOME</th>\n",
       "      <th>CPF_CNPJ</th>\n",
       "      <th>QUALIFICACAO</th>\n",
       "      <th>DATA_ENTRADA_SOCIEDADE</th>\n",
       "      <th>CODIGO_PAIS</th>\n",
       "      <th>CPF_REPRESENTANTE_LEGAL</th>\n",
       "      <th>NOME_REPRESENTANTE_LEGAL</th>\n",
       "      <th>QUALIFICACAO_REPRESENTANTE_LEGAL</th>\n",
       "      <th>FAIXA_ETARIA</th>\n",
       "      <th>NIVEL</th>\n",
       "    </tr>\n",
       "  </thead>\n",
       "  <tbody>\n",
       "    <tr>\n",
       "      <th>0</th>\n",
       "      <td>05150869</td>\n",
       "      <td>1</td>\n",
       "      <td>RESOURCE IT SOLUTIONS PARTICIPACOES LTDA.</td>\n",
       "      <td>11304881000150</td>\n",
       "      <td>22</td>\n",
       "      <td>20091028</td>\n",
       "      <td>None</td>\n",
       "      <td>***438508**</td>\n",
       "      <td>ANDERSON DE SOUZA MERLI</td>\n",
       "      <td>5</td>\n",
       "      <td>0</td>\n",
       "      <td>1</td>\n",
       "    </tr>\n",
       "    <tr>\n",
       "      <th>1</th>\n",
       "      <td>05150869</td>\n",
       "      <td>2</td>\n",
       "      <td>FRANK ASANTE KISSI</td>\n",
       "      <td>***916681**</td>\n",
       "      <td>5</td>\n",
       "      <td>20190625</td>\n",
       "      <td>None</td>\n",
       "      <td>***000000**</td>\n",
       "      <td>None</td>\n",
       "      <td>0</td>\n",
       "      <td>5</td>\n",
       "      <td>1</td>\n",
       "    </tr>\n",
       "  </tbody>\n",
       "</table>\n",
       "</div>"
      ],
      "text/plain": [
       "       CNPJ  IDENTIFICADOR_SOCIO                                       NOME  \\\n",
       "0  05150869                    1  RESOURCE IT SOLUTIONS PARTICIPACOES LTDA.   \n",
       "1  05150869                    2                         FRANK ASANTE KISSI   \n",
       "\n",
       "         CPF_CNPJ  QUALIFICACAO  DATA_ENTRADA_SOCIEDADE CODIGO_PAIS  \\\n",
       "0  11304881000150            22                20091028        None   \n",
       "1     ***916681**             5                20190625        None   \n",
       "\n",
       "  CPF_REPRESENTANTE_LEGAL NOME_REPRESENTANTE_LEGAL  \\\n",
       "0             ***438508**  ANDERSON DE SOUZA MERLI   \n",
       "1             ***000000**                     None   \n",
       "\n",
       "   QUALIFICACAO_REPRESENTANTE_LEGAL  FAIXA_ETARIA  NIVEL  \n",
       "0                                 5             0      1  \n",
       "1                                 0             5      1  "
      ]
     },
     "execution_count": 30,
     "metadata": {},
     "output_type": "execute_result"
    }
   ],
   "source": [
    "socios = df.copy()\n",
    "socios['NIVEL'] = 1\n",
    "socios"
   ]
  },
  {
   "cell_type": "code",
   "execution_count": 37,
   "id": "088bc58b-b682-4e9e-8f59-948e2990858f",
   "metadata": {},
   "outputs": [
    {
     "name": "stdout",
     "output_type": "stream",
     "text": [
      "pesquisa nova empresa\n",
      "pessoa Ficica\n"
     ]
    }
   ],
   "source": [
    "for _, socio in socios.iterrows():\n",
    "        #display(_)\n",
    "        #display(socio)\n",
    "        if socio['IDENTIFICADOR_SOCIO'] == 1 :\n",
    "            print('pesquisa nova empresa')\n",
    "        else:\n",
    "            print('pessoa Ficica')\n",
    "\n"
   ]
  },
  {
   "cell_type": "code",
   "execution_count": null,
   "id": "0b80b623-a92f-418d-9001-444a12590f94",
   "metadata": {},
   "outputs": [],
   "source": []
  },
  {
   "cell_type": "code",
   "execution_count": null,
   "id": "f0a9d209-8fd2-4c86-a306-7294ba268c24",
   "metadata": {},
   "outputs": [],
   "source": []
  },
  {
   "cell_type": "markdown",
   "id": "847fb9f0-0f3f-45c9-868e-c3b5dc658e84",
   "metadata": {},
   "source": [
    "## tentativa 5"
   ]
  },
  {
   "cell_type": "code",
   "execution_count": null,
   "id": "c77336eb-de86-462e-a047-c5d9583efab0",
   "metadata": {},
   "outputs": [],
   "source": []
  },
  {
   "cell_type": "code",
   "execution_count": null,
   "id": "81c70f3b-0008-421f-9047-2889c5627b74",
   "metadata": {},
   "outputs": [],
   "source": []
  },
  {
   "cell_type": "code",
   "execution_count": 88,
   "id": "58fde140-2241-480a-93ec-27ff272f2b32",
   "metadata": {},
   "outputs": [],
   "source": [
    "temp = pd.DataFrame()\n",
    "empresas = pd.DataFrame()\n",
    "socios = pd.DataFrame()\n"
   ]
  },
  {
   "cell_type": "markdown",
   "id": "08b2ce35-765c-4b34-b651-fcbad4c5ad70",
   "metadata": {},
   "source": [
    "#### funções"
   ]
  },
  {
   "cell_type": "code",
   "execution_count": 143,
   "id": "e4b65cf5-06a7-4d5c-a686-4841b9655dac",
   "metadata": {},
   "outputs": [],
   "source": [
    "def Pesq_Emp(cod_cliente, tipo, nv):\n",
    "    sql = '''\n",
    "            SELECT EST.CNPJ || EST.CNPJ_ORDEM || EST.CNPJ_DV as CNPJ_x, EST.CNPJ AS CNPJ,\n",
    "                    EMP.RAZAO as razao_social, EST.NOME as nome_fantasia\n",
    "                    FROM ESTABELECIMENTOS as EST\n",
    "                        LEFT JOIN EMPRESAS as EMP\n",
    "                            ON EST.CNPJ = EMP.CNPJ\n",
    "                    WHERE \n",
    "                        EST.CNPJ = '{0}' AND\n",
    "                        EST.MATRIZ_FILIAL = 1 \n",
    "        '''.format(cod_cliente[:8])\n",
    "    con = sqlite3.connect(PATH_BD)\n",
    "    temp = pd.read_sql_query(sql, con)\n",
    "    con.close()\n",
    "    G.add_node(cod_cliente[:8], nome=temp['razao_social'][0], tipo_pessoa=tipo, nivel=nv)\n",
    "    nv += 1\n",
    "    return(nv)"
   ]
  },
  {
   "cell_type": "code",
   "execution_count": 154,
   "id": "a9ca53d1-9126-42ef-bfcb-cce167a08bb8",
   "metadata": {},
   "outputs": [],
   "source": [
    "def Pesq_Socio(cod_cliente, nv):\n",
    "    sql = '''SELECT CNPJ, IDENTIFICADOR_SOCIO, NOME, \n",
    "                    CPF_CNPJ, QUALIFICACAO, DATA_ENTRADA_SOCIEDADE, \n",
    "                    CODIGO_PAIS, CPF_REPRESENTANTE_LEGAL, NOME_REPRESENTANTE_LEGAL, \n",
    "                    QUALIFICACAO_REPRESENTANTE_LEGAL, FAIXA_ETARIA\n",
    "            FROM SOCIOS\n",
    "            WHERE \n",
    "            CNPJ = '{0}'\n",
    "        '''.format(cod_cliente[0:8])\n",
    "\n",
    "    con = sqlite3.connect(PATH_BD)\n",
    "    temp = pd.read_sql_query(sql, con)\n",
    "    con.close()\n",
    "    for k, v in temp.items():\n",
    "       # G.nodes[cod_cliente[:8]][k] = v\n",
    "        print(v)\n",
    "    "
   ]
  },
  {
   "cell_type": "code",
   "execution_count": null,
   "id": "4f08e214-d393-4b56-b5cd-03000c468259",
   "metadata": {},
   "outputs": [],
   "source": []
  },
  {
   "cell_type": "code",
   "execution_count": 155,
   "id": "dcfabf6c-a621-45ad-9c35-16be3da49db9",
   "metadata": {},
   "outputs": [],
   "source": [
    "pessoa_tipo = 'PJ'\n",
    "pessoa_id = '05150869000136'\n",
    "pessoa_id = pessoa_id.replace('.','').replace('/','').replace('-','').zfill(14)\n",
    "nivel = 1\n",
    "nome = None\n",
    "G = None\n",
    "G = nx.DiGraph()"
   ]
  },
  {
   "cell_type": "code",
   "execution_count": 156,
   "id": "cd55a802-a8b9-4d98-9845-4185327092fb",
   "metadata": {},
   "outputs": [
    {
     "name": "stdout",
     "output_type": "stream",
     "text": [
      "Pesquisando pessoa juridica\n",
      "0    05150869\n",
      "1    05150869\n",
      "Name: CNPJ, dtype: object\n",
      "0    1\n",
      "1    2\n",
      "Name: IDENTIFICADOR_SOCIO, dtype: int64\n",
      "0    RESOURCE IT SOLUTIONS PARTICIPACOES LTDA.\n",
      "1                           FRANK ASANTE KISSI\n",
      "Name: NOME, dtype: object\n",
      "0    11304881000150\n",
      "1       ***916681**\n",
      "Name: CPF_CNPJ, dtype: object\n",
      "0    22\n",
      "1     5\n",
      "Name: QUALIFICACAO, dtype: int64\n",
      "0    20091028\n",
      "1    20190625\n",
      "Name: DATA_ENTRADA_SOCIEDADE, dtype: int64\n",
      "0    None\n",
      "1    None\n",
      "Name: CODIGO_PAIS, dtype: object\n",
      "0    ***438508**\n",
      "1    ***000000**\n",
      "Name: CPF_REPRESENTANTE_LEGAL, dtype: object\n",
      "0    ANDERSON DE SOUZA MERLI\n",
      "1                       None\n",
      "Name: NOME_REPRESENTANTE_LEGAL, dtype: object\n",
      "0    5\n",
      "1    0\n",
      "Name: QUALIFICACAO_REPRESENTANTE_LEGAL, dtype: int64\n",
      "0    0\n",
      "1    5\n",
      "Name: FAIXA_ETARIA, dtype: int64\n"
     ]
    }
   ],
   "source": [
    "if pessoa_tipo == 'PJ':\n",
    "    print('Pesquisando pessoa juridica')\n",
    "    nivel = Pesq_Emp(pessoa_id, pessoa_tipo, nivel)\n",
    "    Pesq_Socio(pessoa_id, nivel)\n",
    "    #empresas = pd.concat([empresas, temp], ignore_index = True, axis = 0)\n",
    "    #3if pessoa_id[:8] not in G:\n",
    "      #  G.add_node(pessoa_id[:8], nome=nome, tipo_pessoa=pessoa_tipo, nivel=nivel)\n",
    "    "
   ]
  },
  {
   "cell_type": "code",
   "execution_count": 147,
   "id": "cf4d4a71-1494-4fd0-8209-c29ba3e40967",
   "metadata": {},
   "outputs": [
    {
     "data": {
      "text/plain": [
       "[('05150869',\n",
       "  {'nome': 'RESOURCE AMERICANA LTDA',\n",
       "   'tipo_pessoa': 'PJ',\n",
       "   'nivel': 1,\n",
       "   'CNPJ': 0    05150869\n",
       "   1    05150869\n",
       "   Name: CNPJ, dtype: object,\n",
       "   'IDENTIFICADOR_SOCIO': 0    1\n",
       "   1    2\n",
       "   Name: IDENTIFICADOR_SOCIO, dtype: int64,\n",
       "   'NOME': 0    RESOURCE IT SOLUTIONS PARTICIPACOES LTDA.\n",
       "   1                           FRANK ASANTE KISSI\n",
       "   Name: NOME, dtype: object,\n",
       "   'CPF_CNPJ': 0    11304881000150\n",
       "   1       ***916681**\n",
       "   Name: CPF_CNPJ, dtype: object,\n",
       "   'QUALIFICACAO': 0    22\n",
       "   1     5\n",
       "   Name: QUALIFICACAO, dtype: int64,\n",
       "   'DATA_ENTRADA_SOCIEDADE': 0    20091028\n",
       "   1    20190625\n",
       "   Name: DATA_ENTRADA_SOCIEDADE, dtype: int64,\n",
       "   'CODIGO_PAIS': 0    None\n",
       "   1    None\n",
       "   Name: CODIGO_PAIS, dtype: object,\n",
       "   'CPF_REPRESENTANTE_LEGAL': 0    ***438508**\n",
       "   1    ***000000**\n",
       "   Name: CPF_REPRESENTANTE_LEGAL, dtype: object,\n",
       "   'NOME_REPRESENTANTE_LEGAL': 0    ANDERSON DE SOUZA MERLI\n",
       "   1                       None\n",
       "   Name: NOME_REPRESENTANTE_LEGAL, dtype: object,\n",
       "   'QUALIFICACAO_REPRESENTANTE_LEGAL': 0    5\n",
       "   1    0\n",
       "   Name: QUALIFICACAO_REPRESENTANTE_LEGAL, dtype: int64,\n",
       "   'FAIXA_ETARIA': 0    0\n",
       "   1    5\n",
       "   Name: FAIXA_ETARIA, dtype: int64})]"
      ]
     },
     "metadata": {},
     "output_type": "display_data"
    },
    {
     "data": {
      "text/plain": [
       "[]"
      ]
     },
     "metadata": {},
     "output_type": "display_data"
    },
    {
     "data": {
      "image/png": "[encoded data removed]",
      "text/plain": [
       "<Figure size 432x288 with 1 Axes>"
      ]
     },
     "metadata": {},
     "output_type": "display_data"
    }
   ],
   "source": [
    "display(list(G.nodes(data=True)))\n",
    "display(list(G.edges(data=True)))\n",
    "nx.draw(G, with_labels=True)"
   ]
  },
  {
   "cell_type": "code",
   "execution_count": null,
   "id": "3bd22350-1238-43ca-b01b-ab1b0a1043f8",
   "metadata": {},
   "outputs": [],
   "source": []
  }
 ],
 "metadata": {
  "kernelspec": {
   "display_name": "Python 3",
   "language": "python",
   "name": "python3"
  },
  "language_info": {
   "codemirror_mode": {
    "name": "ipython",
    "version": 3
   },
   "file_extension": ".py",
   "mimetype": "text/x-python",
   "name": "python",
   "nbconvert_exporter": "python",
   "pygments_lexer": "ipython3",
   "version": "3.6.15"
  }
 },
 "nbformat": 4,
 "nbformat_minor": 5
}
