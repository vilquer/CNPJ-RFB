{
 "cells": [
  {
   "cell_type": "code",
   "execution_count": 1,
   "id": "4679778f",
   "metadata": {
    "tags": []
   },
   "outputs": [
    {
     "name": "stdout",
     "output_type": "stream",
     "text": [
      "CPU times: total: 141 ms\n",
      "Wall time: 873 ms\n"
     ]
    }
   ],
   "source": [
    "%%time\n",
    "import sys\n",
    "import re\n",
    "import math\n",
    "import requests\n",
    "import enlighten\n",
    "import sqlite3\n",
    "\n",
    "import numpy as np\n",
    "import pandas as pd\n",
    "\n",
    "pd.set_option('display.max_columns', None)\n",
    "pd.set_option('display.max_rows', 50)\n",
    "\n",
    "url = 'http://200.152.38.155/CNPJ/'\n",
    "formato_data = '%Y%m%d'\n",
    "PATH_BD = 'data/CNPJ_full.db'"
   ]
  },
  {
   "cell_type": "code",
   "execution_count": 9,
   "id": "f6f76d3c-cb3f-485d-bacd-419a53357ca7",
   "metadata": {
    "tags": []
   },
   "outputs": [
    {
     "name": "stdout",
     "output_type": "stream",
     "text": [
      "CPU times: total: 0 ns\n",
      "Wall time: 1.9 s\n"
     ]
    }
   ],
   "source": [
    "%%time\n",
    "list_urls = re.findall(r'href=[\\'\"]?([^\\'\" >]+)', requests.get(url).text)\n",
    "filtered = list(filter(lambda url: url.split(\".\")[-1] in [\"zip\"], list_urls))\n",
    "tamanho = len(filtered)"
   ]
  },
  {
   "cell_type": "code",
   "execution_count": 10,
   "id": "8c3b1875-5d08-4a96-b6d7-2a0be58bc46a",
   "metadata": {
    "tags": []
   },
   "outputs": [
    {
     "data": {
      "text/html": [
       "<style>\n",
       ".enlighten-fg-green {\n",
       "  color: #00cd00;\n",
       "}\n",
       "</style>\n",
       "<div class=\"enlighten\">\n",
       "  <div class=\"enlighten-bar\">\n",
       "    <pre>Processo 100%|█████████████████████████████████████████████| 37/37 [2h 02:59&lt;00:00, 0.01 Arquivos/s]</pre>\n",
       "  </div>\n",
       "  <br>\n",
       "</div>\n"
      ],
      "text/plain": [
       "<IPython.core.display.HTML object>"
      ]
     },
     "metadata": {},
     "output_type": "display_data"
    },
    {
     "name": "stdout",
     "output_type": "stream",
     "text": [
      "\n",
      "Fazendo download dos 37 arquivos encontrados.\n",
      "\n",
      " Download Concluido!!!á sendo baixado!!!ado!!!o!!!CPU times: total: 23.4 s\n",
      "Wall time: 2h 3min 30s\n"
     ]
    }
   ],
   "source": [
    "%%time\n",
    "MANAGER = enlighten.get_manager()\n",
    "bara_lista = MANAGER.counter(total=tamanho, desc='Processo', unit='Arquivos')\n",
    "\n",
    "print(\"\")\n",
    "print(f\"Fazendo download dos {tamanho} arquivos encontrados.\", flush=False)\n",
    "print(\"\")\n",
    "\n",
    "\n",
    "for indice, elemento in enumerate(filtered):\n",
    "    bara_lista.update()\n",
    "    \n",
    "    r = requests.get(url + elemento, stream=True, headers={\"Accept-Encoding\": None})\n",
    "    if r.status_code == requests.codes.ok:\n",
    "        assert r.status_code == 200, r.status_code\n",
    "        dlen = int(r.headers.get('Content-Length', '0')) or None\n",
    "        barra_download = MANAGER.counter(color = 'green', desc= f'Arquivo {indice + 1} de {tamanho}', \n",
    "                             total = dlen and math.ceil(dlen / 2 ** 20), \n",
    "                             unit = 'MiB', leave = False)\n",
    "        with barra_download as ctr, \\\n",
    "             open(\"zips/\" + elemento, 'wb', buffering = 2 ** 20) as f:\n",
    "            for chunk in r.iter_content(chunk_size = 2 ** 20):\n",
    "                # print(chunk[-16:].hex().upper())\n",
    "                print(f'\\r{elemento} ------ Está sendo baixado!!!', end='', flush=True)\n",
    "                sys.stdout.flush()\n",
    "                f.write(chunk)\n",
    "                ctr.update()\n",
    "        \n",
    "    else:\n",
    "        r.raise_for_status()\n",
    "print(f'\\r Download Concluido!!!', end='', flush=True)\n",
    "MANAGER.stop()"
   ]
  },
  {
   "cell_type": "code",
   "execution_count": 11,
   "id": "24ffec42",
   "metadata": {
    "tags": []
   },
   "outputs": [
    {
     "name": "stdout",
     "output_type": "stream",
     "text": [
      "CPU times: total: 0 ns\n",
      "Wall time: 999 µs\n"
     ]
    }
   ],
   "source": [
    "%%time\n",
    "dict_aux = {\n",
    "    'Simples': [\n",
    "        'DADOS_SIMPLES',\n",
    "        'CREATE TABLE IF NOT EXISTS DADOS_SIMPLES (\\n  CNPJ               VARCHAR (8) PRIMARY KEY,\\n    OPCAO_SIMPLES      VARCHAR (1),\\n    DATA_OPCAO_SIMPLES DATE,\\n    DATA_EXCLUSAO      DATE,\\n    OPCAO_MEI          VARCHAR (1),\\n    DATA_OPCAO_MEI     DATE,\\n    DATA_EXCLUSAO_MEI  DATE\\n)',\n",
    "        ['cnpj','opcao_simples','data_opcao_simples','data_exclusao','opcao_mei','data_opcao_mei','data_exclusao_mei'],\n",
    "        {'cnpj': str}\n",
    "        ],\n",
    "    'Cnaes': [\n",
    "        'CNAES',\n",
    "        'CREATE TABLE IF NOT EXISTS CNAES (\\n    CODIGO    VARCHAR PRIMARY KEY,\\n    DESCRICAO VARCHAR\\n)',\n",
    "        ['codigo','descricao'],\n",
    "        {'descricao': str}\n",
    "        ],\n",
    "     'Motivos': [\n",
    "        'MOTIVOS',\n",
    "        'CREATE TABLE IF NOT EXISTS MOTIVOS (\\n    CODIGO    INTEGER PRIMARY KEY,\\n    DESCRICAO VARCHAR\\n)',\n",
    "        ['codigo','descricao'],\n",
    "        {'descricao': str}\n",
    "        ],\n",
    "     'Municipios': [\n",
    "        'MUNICIPIOS',\n",
    "        'CREATE TABLE IF NOT EXISTS MUNICIPIOS (\\n    CODIGO    INTEGERL PRIMARY KEY,\\n    DESCRICAO VARCHAR\\n)',\n",
    "        ['codigo','descricao'],\n",
    "        {'descricao': str}\n",
    "        ],\n",
    "     'Naturezas': [\n",
    "        'NATUREZAS',\n",
    "        'CREATE TABLE IF NOT EXISTS NATUREZAS (\\n    CODIGO    INTEGER PRIMARY KEY,\\n    DESCRICAO VARCHAR\\n)',\n",
    "        ['codigo','descricao'],\n",
    "        {'descricao': str}\n",
    "        ],\n",
    "     'Paises': [\n",
    "        'PAISES',\n",
    "        'CREATE TABLE IF NOT EXISTS PAISES (\\n    CODIGO    INTEGER PRIMARY KEY,\\n    DESCRICAO VARCHAR\\n)',\n",
    "        ['codigo','descricao'],\n",
    "        {'descricao': str}\n",
    "        ],\n",
    "     'Qualificacoes': [\n",
    "        'QUALIFICACOES',\n",
    "        'CREATE TABLE IF NOT EXISTS QUALIFICACOES (\\n    CODIGO    INTEGER PRIMARY KEY,\\n    DESCRICAO VARCHAR\\n)',\n",
    "        ['codigo','descricao'],\n",
    "        {'descricao': str}\n",
    "        ],\n",
    "     'Empresas': [\n",
    "        'EMPRESAS',\n",
    "        'CREATE TABLE IF NOT EXISTS EMPRESAS (\\n    CNPJ            VARCHAR (8),\\n    RAZAO           VARCHAR,\\n    NATUREZA        INTEGER,\\n    QUALIFICACAO_PF INTEGER,\\n    CAPITAL         FLOAT,\\n    PORTE           INTEGER,\\n    ENTE_FEDERATIVO INTEGER\\n)',\n",
    "        ['cnpj','razao','natureza','qualificacao_pf','capital','porte','ente_federativo'],\n",
    "        {'cnpj': str}\n",
    "        ],\n",
    "    'Estabelecimentos': [\n",
    "        'ESTABELECIMENTOS',\n",
    "        'CREATE TABLE IF NOT EXISTS ESTABELECIMENTOS \\n                    (CNPJ                   VARCHAR (8),\\n                    CNPJ_ORDEM             VARCHAR (4),\\n                    CNPJ_DV                VARCHAR (2),\\n                    MATRIZ_FILIAL          INTEGER,\\n                    NOME                   VARCHAR,\\n                    SITUACAO               INTEGER,\\n                    DATA_SITUACAO          DATE,\\n                    MOTIVO_SITUACAO        VARCHAR,\\n                    CIDADE_EXTERIOR        VARCHAR,\\n                    PAIS                   INTEGER,\\n                    INICIO_ATIVIDADE       DATE,\\n                    CNAE_FISCAL            VARCHAR,\\n                    CNAE_SECUNDARIO        VARCHAR,\\n                    TIPO_LOGRADOURO        VARCHAR,\\n                    LOGRADOURO             VARCHAR,\\n                    NUMERO                 VARCHAR,\\n                    COMPLEMENTO            VARCHAR,\\n                    BAIRRO                 VARCHAR,\\n                    CEP                    VARCHAR (8),\\n                    UF                     VARCHAR (2),\\n                    MUNICIPIO              INTEGER,\\n                    DDD_1                  VARCHAR,\\n                    TELEFONE_1             VARCHAR (11),\\n                    DDD_2                  INTEGER,\\n                    TELEFONE_2             VARCHAR (11),\\n                    DDD_FAX                INTEGER,\\n                    NUMERO_FAX             VARCHAR (11),\\n                    EMAIL                  VARCHAR,\\n                    SITUACAO_ESPECIAL      VARCHAR,\\n                    DATA_SITUACAO_ESPECIAL DATE \\n                    )',\n",
    "        ['cnpj','cnpj_ordem','cnpj_dv','matriz_filial','nome','situacao','data_situacao','motivo_situacao','cidade_exterior','pais','inicio_atividade','cnae_fiscal','cnae_secundario','tipo_logradouro','logradouro','numero','complemento','bairro','cep','uf','municipio','ddd_1','telefone_1','ddd_2','telefone_2','ddd_fax','numero_fax','email','situacao_especial','data_situacao_especial'],\n",
    "        {'cnpj': str, 'cnpj_ordem': str, 'cnpj_dv': str, 'MOTIVO_SITUACAO': int}\n",
    "        ],\n",
    "    'Socios': [\n",
    "        'SOCIOS',\n",
    "        'CREATE TABLE IF NOT EXISTS SOCIOS (\\n    CNPJ                             VARCHAR (8) ,\\n    IDENTIFICADOR_SOCIO              INTEGER,\\n    NOME                             VARCHAR,\\n    CPF_CNPJ                         VARCHAR (14),\\n    QUALIFICACAO                     INTEGER,\\n    DATA_ENTRADA_SOCIEDADE           DATE,\\n    CODIGO_PAIS                      INTEGER,\\n    CPF_REPRESENTANTE_LEGAL          VARCHAR (11),\\n    NOME_REPRESENTANTE_LEGAL         VARCHAR,\\n    QUALIFICACAO_REPRESENTANTE_LEGAL INTEGER,\\n    FAIXA_ETARIA                     INTEGER\\n)',\n",
    "        ['cnpj','identificador_socio','nome','cpf_cnpj','qualificacao','data_entrada_sociedade','codigo_pais','cpf_representante_legal','nome_representante_legal','qualificacao_representante_legal','faixa_etaria'],\n",
    "        {'cnpj': str}\n",
    "        ]    \n",
    "    }"
   ]
  },
  {
   "cell_type": "code",
   "execution_count": 12,
   "id": "2d7965ad-6ba8-4007-a42d-83c5b8218a48",
   "metadata": {
    "tags": []
   },
   "outputs": [
    {
     "name": "stdout",
     "output_type": "stream",
     "text": [
      "CPU times: total: 0 ns\n",
      "Wall time: 12 ms\n"
     ]
    }
   ],
   "source": [
    "%%time\n",
    "connection = sqlite3.connect(PATH_BD)\n",
    "con = connection.cursor()"
   ]
  },
  {
   "cell_type": "code",
   "execution_count": 13,
   "id": "9cab7c89-7d41-4f19-bf8c-96bd8b0c5a3b",
   "metadata": {
    "tags": []
   },
   "outputs": [
    {
     "data": {
      "text/html": [
       "<style>\n",
       ".enlighten-fg-blue {\n",
       "  color: #0000ee;\n",
       "}\n",
       "</style>\n",
       "<div class=\"enlighten\">\n",
       "  <div class=\"enlighten-bar\">\n",
       "    <pre><span class=\"enlighten-fg-blue\">                                        Conversão Concluida!                                        </span></pre>\n",
       "  </div>\n",
       "</div>\n"
      ],
      "text/plain": [
       "<IPython.core.display.HTML object>"
      ]
     },
     "metadata": {},
     "output_type": "display_data"
    },
    {
     "data": {
      "text/html": [
       "<style>\n",
       ".enlighten-fg-green {\n",
       "  color: #00cd00;\n",
       "}\n",
       "</style>\n",
       "<div class=\"enlighten\">\n",
       "  <div class=\"enlighten-bar\">\n",
       "    <pre>Tabela: 100%|<span class=\"enlighten-fg-green\">██████████████████████████████████████████████████</span>| 10/10 [48:04&lt;00:00, 0.00 Tabelas/s]</pre>\n",
       "  </div>\n",
       "</div>\n"
      ],
      "text/plain": [
       "<IPython.core.display.HTML object>"
      ]
     },
     "metadata": {},
     "output_type": "display_data"
    },
    {
     "data": {
      "text/html": [
       "<style>\n",
       ".enlighten-fg-yellow {\n",
       "  color: #cdcd00;\n",
       "}\n",
       "</style>\n",
       "<div class=\"enlighten\">\n",
       "  <div class=\"enlighten-bar\">\n",
       "    <pre>Aquivo CSV: DADOS_SIMPLES 100%|<span class=\"enlighten-fg-yellow\">█████████████████████████████████</span>| 1/1 [20:33&lt;00:00, 0.00 Arquivos/s]</pre>\n",
       "  </div>\n",
       "</div>\n"
      ],
      "text/plain": [
       "<IPython.core.display.HTML object>"
      ]
     },
     "metadata": {},
     "output_type": "display_data"
    },
    {
     "data": {
      "text/html": [
       "<style>\n",
       ".enlighten-fg-yellow {\n",
       "  color: #cdcd00;\n",
       "}\n",
       "</style>\n",
       "<div class=\"enlighten\">\n",
       "  <div class=\"enlighten-bar\">\n",
       "    <pre>Aquivo CSV: CNAES 100%|<span class=\"enlighten-fg-yellow\">█████████████████████████████████████████</span>| 1/1 [00:01&lt;00:00, 0.78 Arquivos/s]</pre>\n",
       "  </div>\n",
       "</div>\n"
      ],
      "text/plain": [
       "<IPython.core.display.HTML object>"
      ]
     },
     "metadata": {},
     "output_type": "display_data"
    },
    {
     "data": {
      "text/html": [
       "<style>\n",
       ".enlighten-fg-yellow {\n",
       "  color: #cdcd00;\n",
       "}\n",
       "</style>\n",
       "<div class=\"enlighten\">\n",
       "  <div class=\"enlighten-bar\">\n",
       "    <pre>Aquivo CSV: MOTIVOS 100%|<span class=\"enlighten-fg-yellow\">███████████████████████████████████████</span>| 1/1 [00:00&lt;00:00, 2.46 Arquivos/s]</pre>\n",
       "  </div>\n",
       "</div>\n"
      ],
      "text/plain": [
       "<IPython.core.display.HTML object>"
      ]
     },
     "metadata": {},
     "output_type": "display_data"
    },
    {
     "data": {
      "text/html": [
       "<style>\n",
       ".enlighten-fg-yellow {\n",
       "  color: #cdcd00;\n",
       "}\n",
       "</style>\n",
       "<div class=\"enlighten\">\n",
       "  <div class=\"enlighten-bar\">\n",
       "    <pre>Aquivo CSV: MUNICIPIOS 100%|<span class=\"enlighten-fg-yellow\">████████████████████████████████████</span>| 1/1 [00:00&lt;00:00, 2.29 Arquivos/s]</pre>\n",
       "  </div>\n",
       "</div>\n"
      ],
      "text/plain": [
       "<IPython.core.display.HTML object>"
      ]
     },
     "metadata": {},
     "output_type": "display_data"
    },
    {
     "data": {
      "text/html": [
       "<style>\n",
       ".enlighten-fg-yellow {\n",
       "  color: #cdcd00;\n",
       "}\n",
       "</style>\n",
       "<div class=\"enlighten\">\n",
       "  <div class=\"enlighten-bar\">\n",
       "    <pre>Aquivo CSV: NATUREZAS 100%|<span class=\"enlighten-fg-yellow\">█████████████████████████████████████</span>| 1/1 [00:00&lt;00:00, 2.37 Arquivos/s]</pre>\n",
       "  </div>\n",
       "</div>\n"
      ],
      "text/plain": [
       "<IPython.core.display.HTML object>"
      ]
     },
     "metadata": {},
     "output_type": "display_data"
    },
    {
     "data": {
      "text/html": [
       "<style>\n",
       ".enlighten-fg-yellow {\n",
       "  color: #cdcd00;\n",
       "}\n",
       "</style>\n",
       "<div class=\"enlighten\">\n",
       "  <div class=\"enlighten-bar\">\n",
       "    <pre>Aquivo CSV: PAISES 100%|<span class=\"enlighten-fg-yellow\">████████████████████████████████████████</span>| 1/1 [00:00&lt;00:00, 4.00 Arquivos/s]</pre>\n",
       "  </div>\n",
       "</div>\n"
      ],
      "text/plain": [
       "<IPython.core.display.HTML object>"
      ]
     },
     "metadata": {},
     "output_type": "display_data"
    },
    {
     "data": {
      "text/html": [
       "<style>\n",
       ".enlighten-fg-yellow {\n",
       "  color: #cdcd00;\n",
       "}\n",
       "</style>\n",
       "<div class=\"enlighten\">\n",
       "  <div class=\"enlighten-bar\">\n",
       "    <pre>Aquivo CSV: QUALIFICACOES 100%|<span class=\"enlighten-fg-yellow\">█████████████████████████████████</span>| 1/1 [00:00&lt;00:00, 2.78 Arquivos/s]</pre>\n",
       "  </div>\n",
       "</div>\n"
      ],
      "text/plain": [
       "<IPython.core.display.HTML object>"
      ]
     },
     "metadata": {},
     "output_type": "display_data"
    },
    {
     "data": {
      "text/html": [
       "<style>\n",
       ".enlighten-fg-yellow {\n",
       "  color: #cdcd00;\n",
       "}\n",
       "</style>\n",
       "<div class=\"enlighten\">\n",
       "  <div class=\"enlighten-bar\">\n",
       "    <pre>Aquivo CSV: EMPRESAS 100%|<span class=\"enlighten-fg-yellow\">████████████████████████████████████</span>| 10/10 [04:60&lt;00:00, 0.03 Arquivos/s]</pre>\n",
       "  </div>\n",
       "</div>\n"
      ],
      "text/plain": [
       "<IPython.core.display.HTML object>"
      ]
     },
     "metadata": {},
     "output_type": "display_data"
    },
    {
     "data": {
      "text/html": [
       "<style>\n",
       ".enlighten-fg-yellow {\n",
       "  color: #cdcd00;\n",
       "}\n",
       "</style>\n",
       "<div class=\"enlighten\">\n",
       "  <div class=\"enlighten-bar\">\n",
       "    <pre>Aquivo CSV: ESTABELECIMENTOS 100%|<span class=\"enlighten-fg-yellow\">████████████████████████████</span>| 10/10 [19:09&lt;00:00, 0.01 Arquivos/s]</pre>\n",
       "  </div>\n",
       "</div>\n"
      ],
      "text/plain": [
       "<IPython.core.display.HTML object>"
      ]
     },
     "metadata": {},
     "output_type": "display_data"
    },
    {
     "data": {
      "text/html": [
       "<style>\n",
       ".enlighten-fg-yellow {\n",
       "  color: #cdcd00;\n",
       "}\n",
       "</style>\n",
       "<div class=\"enlighten\">\n",
       "  <div class=\"enlighten-bar\">\n",
       "    <pre>Aquivo CSV: SOCIOS 100%|<span class=\"enlighten-fg-yellow\">██████████████████████████████████████</span>| 10/10 [03:10&lt;00:00, 0.05 Arquivos/s]</pre>\n",
       "  </div>\n",
       "</div>\n"
      ],
      "text/plain": [
       "<IPython.core.display.HTML object>"
      ]
     },
     "metadata": {},
     "output_type": "display_data"
    },
    {
     "name": "stdout",
     "output_type": "stream",
     "text": [
      "CPU times: total: 14min 50s\n",
      "Wall time: 48min 4s\n"
     ]
    }
   ],
   "source": [
    "%%time\n",
    "manager = enlighten.get_manager()\n",
    "status_bar = manager.status_bar('Convertendo...',\n",
    "                            color='blue',\n",
    "                            justify=enlighten.Justify.CENTER)\n",
    "pbar = enlighten.Counter(total=len(dict_aux), desc='Tabela:' , unit='Tabelas',color='green')\n",
    "pbar.refresh()\n",
    "for key, value in dict_aux.items():       \n",
    "    con.execute('DROP TABLE IF EXISTS ' + value[0]) \n",
    "    con.execute(value[1])\n",
    "    \n",
    "    lista = [l for l in filtered if key in l]\n",
    "    pbar1 = enlighten.Counter(total=len(lista), desc='Aquivo CSV: ' + value[0] , unit='Arquivos', color='yellow')\n",
    "    pbar1.refresh()\n",
    "    for item in lista:\n",
    "        status_bar.update('Convertendo o arquivo: ' + str(item))\n",
    "        df = pd.read_csv(\"zips/\" + item, \n",
    "                         compression='zip',\n",
    "                         header=None, \n",
    "                         sep=';', \n",
    "                         quotechar='\"', \n",
    "                         encoding = \"ISO-8859-1\", \n",
    "                         low_memory=False,\n",
    "                         dtype = value[3],\n",
    "                         names=value[2])\n",
    "\n",
    "        df.to_sql(name = value[0], con = connection, if_exists = 'append', index = False)\n",
    "        pbar1.update()\n",
    "    pbar.update()\n",
    "    status_bar.update('Conversão Concluida!')\n",
    "manager.stop()"
   ]
  },
  {
   "cell_type": "code",
   "execution_count": 14,
   "id": "861dbd0f",
   "metadata": {
    "tags": []
   },
   "outputs": [
    {
     "data": {
      "text/plain": [
       "'CREATE INDEX IF NOT EXISTS IDX_ESTABELECIMENTOS ON ESTABELECIMENTOS (CNPJ ASC)'"
      ]
     },
     "execution_count": 14,
     "metadata": {},
     "output_type": "execute_result"
    }
   ],
   "source": [
    "# criar os indices corretos \n",
    "list_sql = [\n",
    "    \"\"\"CREATE INDEX IF NOT EXISTS IDX_SOCIOS ON SOCIOS (CNPJ ASC)\"\"\",\n",
    "    \"\"\"CREATE INDEX IF NOT EXISTS IDX_ESTABELECIMENTOS ON ESTABELECIMENTOS (CNPJ ASC)\"\"\",\n",
    "    \"\"\"CREATE INDEX IF NOT EXISTS IDX_EMPRESAS ON EMPRESAS (CNPJ ASC)\"\"\",\n",
    "    \"\"\"ALTER TABLE ESTABELECIMENTOS ADD COLUMN CNPJ_FULL VARCHAR (14)\"\"\",\n",
    "    \"\"\"UPDATE ESTABELECIMENTOS set CNPJ_FULL = cnpj || cnpj_ordem || cnpj_dv\"\"\",\n",
    "    \"\"\"CREATE INDEX IF NOT EXISTS IDX_ESTABELECIMENTOS_CNPJ_FULL ON ESTABELECIMENTOS (CNPJ_FULL ASC)\"\"\"\n",
    "    \n",
    "]\n",
    "list_sql[1]\n"
   ]
  },
  {
   "cell_type": "code",
   "execution_count": 15,
   "id": "93fef354-a0e6-48a1-9ebc-f4fe2bbea871",
   "metadata": {
    "tags": []
   },
   "outputs": [
    {
     "name": "stdout",
     "output_type": "stream",
     "text": [
      "CREATE INDEX IF NOT EXISTS IDX_SOCIOS ON SOCIOS (CNPJ ASC)\n",
      "CREATE INDEX IF NOT EXISTS IDX_ESTABELECIMENTOS ON ESTABELECIMENTOS (CNPJ ASC)\n",
      "CREATE INDEX IF NOT EXISTS IDX_EMPRESAS ON EMPRESAS (CNPJ ASC)\n",
      "ALTER TABLE ESTABELECIMENTOS ADD COLUMN CNPJ_FULL VARCHAR (14)\n",
      "UPDATE ESTABELECIMENTOS set CNPJ_FULL = cnpj || cnpj_ordem || cnpj_dv\n",
      "CREATE INDEX IF NOT EXISTS IDX_ESTABELECIMENTOS_CNPJ_FULL ON ESTABELECIMENTOS (CNPJ_FULL ASC)\n",
      "CPU times: total: 2min 37s\n",
      "Wall time: 39min 8s\n"
     ]
    }
   ],
   "source": [
    "%%time\n",
    "for i in list_sql:\n",
    "    print(i)\n",
    "    con.executescript(i)"
   ]
  },
  {
   "cell_type": "code",
   "execution_count": 16,
   "id": "754aa9ed",
   "metadata": {
    "tags": []
   },
   "outputs": [
    {
     "name": "stdout",
     "output_type": "stream",
     "text": [
      "CPU times: total: 594 ms\n",
      "Wall time: 13.3 s\n"
     ]
    },
    {
     "data": {
      "text/html": [
       "<div>\n",
       "<style scoped>\n",
       "    .dataframe tbody tr th:only-of-type {\n",
       "        vertical-align: middle;\n",
       "    }\n",
       "\n",
       "    .dataframe tbody tr th {\n",
       "        vertical-align: top;\n",
       "    }\n",
       "\n",
       "    .dataframe thead th {\n",
       "        text-align: right;\n",
       "    }\n",
       "</style>\n",
       "<table border=\"1\" class=\"dataframe\">\n",
       "  <thead>\n",
       "    <tr style=\"text-align: right;\">\n",
       "      <th></th>\n",
       "      <th>count(CNPJ)</th>\n",
       "    </tr>\n",
       "  </thead>\n",
       "  <tbody>\n",
       "    <tr>\n",
       "      <th>0</th>\n",
       "      <td>55155262</td>\n",
       "    </tr>\n",
       "  </tbody>\n",
       "</table>\n",
       "</div>"
      ],
      "text/plain": [
       "   count(CNPJ)\n",
       "0     55155262"
      ]
     },
     "execution_count": 16,
     "metadata": {},
     "output_type": "execute_result"
    }
   ],
   "source": [
    "%%time\n",
    "df = pd.read_sql_query(\"SELECT count(CNPJ) from ESTABELECIMENTOS\", connection)\n",
    "con.close()\n",
    "df.head()"
   ]
  },
  {
   "cell_type": "code",
   "execution_count": null,
   "id": "b7e032ce",
   "metadata": {},
   "outputs": [],
   "source": []
  },
  {
   "cell_type": "code",
   "execution_count": null,
   "id": "2e3b8568",
   "metadata": {},
   "outputs": [],
   "source": []
  },
  {
   "cell_type": "code",
   "execution_count": null,
   "id": "3485ab65",
   "metadata": {},
   "outputs": [],
   "source": []
  },
  {
   "cell_type": "code",
   "execution_count": null,
   "id": "56f029f7",
   "metadata": {},
   "outputs": [],
   "source": []
  },
  {
   "cell_type": "code",
   "execution_count": null,
   "id": "80306592",
   "metadata": {},
   "outputs": [],
   "source": []
  },
  {
   "cell_type": "code",
   "execution_count": null,
   "id": "0caf0284",
   "metadata": {},
   "outputs": [],
   "source": []
  },
  {
   "cell_type": "markdown",
   "id": "5e0ef79b-577a-46f6-b336-08d60c29d619",
   "metadata": {},
   "source": [
    "## Teste de encoding"
   ]
  },
  {
   "cell_type": "code",
   "execution_count": 5,
   "id": "2642388e",
   "metadata": {},
   "outputs": [
    {
     "data": {
      "text/plain": [
       "'cp037'"
      ]
     },
     "metadata": {},
     "output_type": "display_data"
    },
    {
     "data": {
      "text/plain": [
       "':\\n'"
      ]
     },
     "metadata": {},
     "output_type": "display_data"
    },
    {
     "data": {
      "text/html": [
       "<div>\n",
       "<style scoped>\n",
       "    .dataframe tbody tr th:only-of-type {\n",
       "        vertical-align: middle;\n",
       "    }\n",
       "\n",
       "    .dataframe tbody tr th {\n",
       "        vertical-align: top;\n",
       "    }\n",
       "\n",
       "    .dataframe thead th {\n",
       "        text-align: right;\n",
       "    }\n",
       "</style>\n",
       "<table border=\"1\" class=\"dataframe\">\n",
       "  <thead>\n",
       "    <tr style=\"text-align: right;\">\n",
       "      <th></th>\n",
       "      <th>0</th>\n",
       "    </tr>\n",
       "  </thead>\n",
       "  <tbody>\n",
       "    <tr>\n",
       "      <th>0</th>\n",
       "      <td>äÍ%ÈÑÎ?ÀÁ/ÊÊ?:\u0016äÍ%ÈÑÎ...</td>\n",
       "    </tr>\n",
       "  </tbody>\n",
       "</table>\n",
       "</div>"
      ],
      "text/plain": [
       "                                                   0\n",
       "0  äÍ%ÈÑÎ?ÀÁ/ÊÊ?:\u0016äÍ%ÈÑÎ..."
      ]
     },
     "metadata": {},
     "output_type": "display_data"
    },
    {
     "data": {
      "text/plain": [
       "'cp273'"
      ]
     },
     "metadata": {},
     "output_type": "display_data"
    },
    {
     "data": {
      "text/plain": [
       "':\\n'"
      ]
     },
     "metadata": {},
     "output_type": "display_data"
    },
    {
     "data": {
      "text/html": [
       "<div>\n",
       "<style scoped>\n",
       "    .dataframe tbody tr th:only-of-type {\n",
       "        vertical-align: middle;\n",
       "    }\n",
       "\n",
       "    .dataframe tbody tr th {\n",
       "        vertical-align: top;\n",
       "    }\n",
       "\n",
       "    .dataframe thead th {\n",
       "        text-align: right;\n",
       "    }\n",
       "</style>\n",
       "<table border=\"1\" class=\"dataframe\">\n",
       "  <thead>\n",
       "    <tr style=\"text-align: right;\">\n",
       "      <th></th>\n",
       "      <th>0</th>\n",
       "    </tr>\n",
       "  </thead>\n",
       "  <tbody>\n",
       "    <tr>\n",
       "      <th>0</th>\n",
       "      <td>{Í%ÈÑÎ?ÀÁ/ÊÊ?:\u0016{Í%ÈÑÎ...</td>\n",
       "    </tr>\n",
       "  </tbody>\n",
       "</table>\n",
       "</div>"
      ],
      "text/plain": [
       "                                                   0\n",
       "0  {Í%ÈÑÎ?ÀÁ/ÊÊ?:\u0016{Í%ÈÑÎ..."
      ]
     },
     "metadata": {},
     "output_type": "display_data"
    },
    {
     "data": {
      "text/plain": [
       "'cp437'"
      ]
     },
     "metadata": {},
     "output_type": "display_data"
    },
    {
     "data": {
      "text/plain": [
       "':\\n'"
      ]
     },
     "metadata": {},
     "output_type": "display_data"
    },
    {
     "data": {
      "text/html": [
       "<div>\n",
       "<style scoped>\n",
       "    .dataframe tbody tr th:only-of-type {\n",
       "        vertical-align: middle;\n",
       "    }\n",
       "\n",
       "    .dataframe tbody tr th {\n",
       "        vertical-align: top;\n",
       "    }\n",
       "\n",
       "    .dataframe thead th {\n",
       "        text-align: right;\n",
       "    }\n",
       "</style>\n",
       "<table border=\"1\" class=\"dataframe\">\n",
       "  <thead>\n",
       "    <tr style=\"text-align: right;\">\n",
       "      <th></th>\n",
       "      <th>0</th>\n",
       "      <th>1</th>\n",
       "    </tr>\n",
       "  </thead>\n",
       "  <tbody>\n",
       "    <tr>\n",
       "      <th>0</th>\n",
       "      <td>111301</td>\n",
       "      <td>Cultivo de arroz</td>\n",
       "    </tr>\n",
       "    <tr>\n",
       "      <th>1</th>\n",
       "      <td>111302</td>\n",
       "      <td>Cultivo de milho</td>\n",
       "    </tr>\n",
       "    <tr>\n",
       "      <th>2</th>\n",
       "      <td>111303</td>\n",
       "      <td>Cultivo de trigo</td>\n",
       "    </tr>\n",
       "    <tr>\n",
       "      <th>3</th>\n",
       "      <td>111399</td>\n",
       "      <td>Cultivo de outros cereais nπo especificados an...</td>\n",
       "    </tr>\n",
       "    <tr>\n",
       "      <th>4</th>\n",
       "      <td>112101</td>\n",
       "      <td>Cultivo de algodπo herbßceo</td>\n",
       "    </tr>\n",
       "  </tbody>\n",
       "</table>\n",
       "</div>"
      ],
      "text/plain": [
       "        0                                                  1\n",
       "0  111301                                   Cultivo de arroz\n",
       "1  111302                                   Cultivo de milho\n",
       "2  111303                                   Cultivo de trigo\n",
       "3  111399  Cultivo de outros cereais nπo especificados an...\n",
       "4  112101                        Cultivo de algodπo herbßceo"
      ]
     },
     "metadata": {},
     "output_type": "display_data"
    },
    {
     "data": {
      "text/plain": [
       "'cp500'"
      ]
     },
     "metadata": {},
     "output_type": "display_data"
    },
    {
     "data": {
      "text/plain": [
       "':\\n'"
      ]
     },
     "metadata": {},
     "output_type": "display_data"
    },
    {
     "data": {
      "text/html": [
       "<div>\n",
       "<style scoped>\n",
       "    .dataframe tbody tr th:only-of-type {\n",
       "        vertical-align: middle;\n",
       "    }\n",
       "\n",
       "    .dataframe tbody tr th {\n",
       "        vertical-align: top;\n",
       "    }\n",
       "\n",
       "    .dataframe thead th {\n",
       "        text-align: right;\n",
       "    }\n",
       "</style>\n",
       "<table border=\"1\" class=\"dataframe\">\n",
       "  <thead>\n",
       "    <tr style=\"text-align: right;\">\n",
       "      <th></th>\n",
       "      <th>0</th>\n",
       "    </tr>\n",
       "  </thead>\n",
       "  <tbody>\n",
       "    <tr>\n",
       "      <th>0</th>\n",
       "      <td>äÍ%ÈÑÎ?ÀÁ/ÊÊ?:\u0016äÍ%ÈÑÎ...</td>\n",
       "    </tr>\n",
       "  </tbody>\n",
       "</table>\n",
       "</div>"
      ],
      "text/plain": [
       "                                                   0\n",
       "0  äÍ%ÈÑÎ?ÀÁ/ÊÊ?:\u0016äÍ%ÈÑÎ..."
      ]
     },
     "metadata": {},
     "output_type": "display_data"
    },
    {
     "data": {
      "text/plain": [
       "'cp720'"
      ]
     },
     "metadata": {},
     "output_type": "display_data"
    },
    {
     "data": {
      "text/plain": [
       "':\\n'"
      ]
     },
     "metadata": {},
     "output_type": "display_data"
    },
    {
     "data": {
      "text/html": [
       "<div>\n",
       "<style scoped>\n",
       "    .dataframe tbody tr th:only-of-type {\n",
       "        vertical-align: middle;\n",
       "    }\n",
       "\n",
       "    .dataframe tbody tr th {\n",
       "        vertical-align: top;\n",
       "    }\n",
       "\n",
       "    .dataframe thead th {\n",
       "        text-align: right;\n",
       "    }\n",
       "</style>\n",
       "<table border=\"1\" class=\"dataframe\">\n",
       "  <thead>\n",
       "    <tr style=\"text-align: right;\">\n",
       "      <th></th>\n",
       "      <th>0</th>\n",
       "      <th>1</th>\n",
       "    </tr>\n",
       "  </thead>\n",
       "  <tbody>\n",
       "    <tr>\n",
       "      <th>0</th>\n",
       "      <td>111301</td>\n",
       "      <td>Cultivo de arroz</td>\n",
       "    </tr>\n",
       "    <tr>\n",
       "      <th>1</th>\n",
       "      <td>111302</td>\n",
       "      <td>Cultivo de milho</td>\n",
       "    </tr>\n",
       "    <tr>\n",
       "      <th>2</th>\n",
       "      <td>111303</td>\n",
       "      <td>Cultivo de trigo</td>\n",
       "    </tr>\n",
       "    <tr>\n",
       "      <th>3</th>\n",
       "      <td>111399</td>\n",
       "      <td>Cultivo de outros cereais nعo especificados an...</td>\n",
       "    </tr>\n",
       "    <tr>\n",
       "      <th>4</th>\n",
       "      <td>112101</td>\n",
       "      <td>Cultivo de algodعo herbطceo</td>\n",
       "    </tr>\n",
       "  </tbody>\n",
       "</table>\n",
       "</div>"
      ],
      "text/plain": [
       "        0                                                  1\n",
       "0  111301                                   Cultivo de arroz\n",
       "1  111302                                   Cultivo de milho\n",
       "2  111303                                   Cultivo de trigo\n",
       "3  111399  Cultivo de outros cereais nعo especificados an...\n",
       "4  112101                        Cultivo de algodعo herbطceo"
      ]
     },
     "metadata": {},
     "output_type": "display_data"
    },
    {
     "data": {
      "text/plain": [
       "'cp737'"
      ]
     },
     "metadata": {},
     "output_type": "display_data"
    },
    {
     "data": {
      "text/plain": [
       "':\\n'"
      ]
     },
     "metadata": {},
     "output_type": "display_data"
    },
    {
     "data": {
      "text/html": [
       "<div>\n",
       "<style scoped>\n",
       "    .dataframe tbody tr th:only-of-type {\n",
       "        vertical-align: middle;\n",
       "    }\n",
       "\n",
       "    .dataframe tbody tr th {\n",
       "        vertical-align: top;\n",
       "    }\n",
       "\n",
       "    .dataframe thead th {\n",
       "        text-align: right;\n",
       "    }\n",
       "</style>\n",
       "<table border=\"1\" class=\"dataframe\">\n",
       "  <thead>\n",
       "    <tr style=\"text-align: right;\">\n",
       "      <th></th>\n",
       "      <th>0</th>\n",
       "      <th>1</th>\n",
       "    </tr>\n",
       "  </thead>\n",
       "  <tbody>\n",
       "    <tr>\n",
       "      <th>0</th>\n",
       "      <td>111301</td>\n",
       "      <td>Cultivo de arroz</td>\n",
       "    </tr>\n",
       "    <tr>\n",
       "      <th>1</th>\n",
       "      <td>111302</td>\n",
       "      <td>Cultivo de milho</td>\n",
       "    </tr>\n",
       "    <tr>\n",
       "      <th>2</th>\n",
       "      <td>111303</td>\n",
       "      <td>Cultivo de trigo</td>\n",
       "    </tr>\n",
       "    <tr>\n",
       "      <th>3</th>\n",
       "      <td>111399</td>\n",
       "      <td>Cultivo de outros cereais nήo especificados an...</td>\n",
       "    </tr>\n",
       "    <tr>\n",
       "      <th>4</th>\n",
       "      <td>112101</td>\n",
       "      <td>Cultivo de algodήo herbάceo</td>\n",
       "    </tr>\n",
       "  </tbody>\n",
       "</table>\n",
       "</div>"
      ],
      "text/plain": [
       "        0                                                  1\n",
       "0  111301                                   Cultivo de arroz\n",
       "1  111302                                   Cultivo de milho\n",
       "2  111303                                   Cultivo de trigo\n",
       "3  111399  Cultivo de outros cereais nήo especificados an...\n",
       "4  112101                        Cultivo de algodήo herbάceo"
      ]
     },
     "metadata": {},
     "output_type": "display_data"
    },
    {
     "data": {
      "text/plain": [
       "'cp775'"
      ]
     },
     "metadata": {},
     "output_type": "display_data"
    },
    {
     "data": {
      "text/plain": [
       "':\\n'"
      ]
     },
     "metadata": {},
     "output_type": "display_data"
    },
    {
     "data": {
      "text/html": [
       "<div>\n",
       "<style scoped>\n",
       "    .dataframe tbody tr th:only-of-type {\n",
       "        vertical-align: middle;\n",
       "    }\n",
       "\n",
       "    .dataframe tbody tr th {\n",
       "        vertical-align: top;\n",
       "    }\n",
       "\n",
       "    .dataframe thead th {\n",
       "        text-align: right;\n",
       "    }\n",
       "</style>\n",
       "<table border=\"1\" class=\"dataframe\">\n",
       "  <thead>\n",
       "    <tr style=\"text-align: right;\">\n",
       "      <th></th>\n",
       "      <th>0</th>\n",
       "      <th>1</th>\n",
       "    </tr>\n",
       "  </thead>\n",
       "  <tbody>\n",
       "    <tr>\n",
       "      <th>0</th>\n",
       "      <td>111301</td>\n",
       "      <td>Cultivo de arroz</td>\n",
       "    </tr>\n",
       "    <tr>\n",
       "      <th>1</th>\n",
       "      <td>111302</td>\n",
       "      <td>Cultivo de milho</td>\n",
       "    </tr>\n",
       "    <tr>\n",
       "      <th>2</th>\n",
       "      <td>111303</td>\n",
       "      <td>Cultivo de trigo</td>\n",
       "    </tr>\n",
       "    <tr>\n",
       "      <th>3</th>\n",
       "      <td>111399</td>\n",
       "      <td>Cultivo de outros cereais nŃo especificados an...</td>\n",
       "    </tr>\n",
       "    <tr>\n",
       "      <th>4</th>\n",
       "      <td>112101</td>\n",
       "      <td>Cultivo de algodŃo herbßceo</td>\n",
       "    </tr>\n",
       "  </tbody>\n",
       "</table>\n",
       "</div>"
      ],
      "text/plain": [
       "        0                                                  1\n",
       "0  111301                                   Cultivo de arroz\n",
       "1  111302                                   Cultivo de milho\n",
       "2  111303                                   Cultivo de trigo\n",
       "3  111399  Cultivo de outros cereais nŃo especificados an...\n",
       "4  112101                        Cultivo de algodŃo herbßceo"
      ]
     },
     "metadata": {},
     "output_type": "display_data"
    },
    {
     "data": {
      "text/plain": [
       "'cp850'"
      ]
     },
     "metadata": {},
     "output_type": "display_data"
    },
    {
     "data": {
      "text/plain": [
       "':\\n'"
      ]
     },
     "metadata": {},
     "output_type": "display_data"
    },
    {
     "data": {
      "text/html": [
       "<div>\n",
       "<style scoped>\n",
       "    .dataframe tbody tr th:only-of-type {\n",
       "        vertical-align: middle;\n",
       "    }\n",
       "\n",
       "    .dataframe tbody tr th {\n",
       "        vertical-align: top;\n",
       "    }\n",
       "\n",
       "    .dataframe thead th {\n",
       "        text-align: right;\n",
       "    }\n",
       "</style>\n",
       "<table border=\"1\" class=\"dataframe\">\n",
       "  <thead>\n",
       "    <tr style=\"text-align: right;\">\n",
       "      <th></th>\n",
       "      <th>0</th>\n",
       "      <th>1</th>\n",
       "    </tr>\n",
       "  </thead>\n",
       "  <tbody>\n",
       "    <tr>\n",
       "      <th>0</th>\n",
       "      <td>111301</td>\n",
       "      <td>Cultivo de arroz</td>\n",
       "    </tr>\n",
       "    <tr>\n",
       "      <th>1</th>\n",
       "      <td>111302</td>\n",
       "      <td>Cultivo de milho</td>\n",
       "    </tr>\n",
       "    <tr>\n",
       "      <th>2</th>\n",
       "      <td>111303</td>\n",
       "      <td>Cultivo de trigo</td>\n",
       "    </tr>\n",
       "    <tr>\n",
       "      <th>3</th>\n",
       "      <td>111399</td>\n",
       "      <td>Cultivo de outros cereais nÒo especificados an...</td>\n",
       "    </tr>\n",
       "    <tr>\n",
       "      <th>4</th>\n",
       "      <td>112101</td>\n",
       "      <td>Cultivo de algodÒo herbßceo</td>\n",
       "    </tr>\n",
       "  </tbody>\n",
       "</table>\n",
       "</div>"
      ],
      "text/plain": [
       "        0                                                  1\n",
       "0  111301                                   Cultivo de arroz\n",
       "1  111302                                   Cultivo de milho\n",
       "2  111303                                   Cultivo de trigo\n",
       "3  111399  Cultivo de outros cereais nÒo especificados an...\n",
       "4  112101                        Cultivo de algodÒo herbßceo"
      ]
     },
     "metadata": {},
     "output_type": "display_data"
    },
    {
     "data": {
      "text/plain": [
       "'cp852'"
      ]
     },
     "metadata": {},
     "output_type": "display_data"
    },
    {
     "data": {
      "text/plain": [
       "':\\n'"
      ]
     },
     "metadata": {},
     "output_type": "display_data"
    },
    {
     "data": {
      "text/html": [
       "<div>\n",
       "<style scoped>\n",
       "    .dataframe tbody tr th:only-of-type {\n",
       "        vertical-align: middle;\n",
       "    }\n",
       "\n",
       "    .dataframe tbody tr th {\n",
       "        vertical-align: top;\n",
       "    }\n",
       "\n",
       "    .dataframe thead th {\n",
       "        text-align: right;\n",
       "    }\n",
       "</style>\n",
       "<table border=\"1\" class=\"dataframe\">\n",
       "  <thead>\n",
       "    <tr style=\"text-align: right;\">\n",
       "      <th></th>\n",
       "      <th>0</th>\n",
       "      <th>1</th>\n",
       "    </tr>\n",
       "  </thead>\n",
       "  <tbody>\n",
       "    <tr>\n",
       "      <th>0</th>\n",
       "      <td>111301</td>\n",
       "      <td>Cultivo de arroz</td>\n",
       "    </tr>\n",
       "    <tr>\n",
       "      <th>1</th>\n",
       "      <td>111302</td>\n",
       "      <td>Cultivo de milho</td>\n",
       "    </tr>\n",
       "    <tr>\n",
       "      <th>2</th>\n",
       "      <td>111303</td>\n",
       "      <td>Cultivo de trigo</td>\n",
       "    </tr>\n",
       "    <tr>\n",
       "      <th>3</th>\n",
       "      <td>111399</td>\n",
       "      <td>Cultivo de outros cereais nŃo especificados an...</td>\n",
       "    </tr>\n",
       "    <tr>\n",
       "      <th>4</th>\n",
       "      <td>112101</td>\n",
       "      <td>Cultivo de algodŃo herbßceo</td>\n",
       "    </tr>\n",
       "  </tbody>\n",
       "</table>\n",
       "</div>"
      ],
      "text/plain": [
       "        0                                                  1\n",
       "0  111301                                   Cultivo de arroz\n",
       "1  111302                                   Cultivo de milho\n",
       "2  111303                                   Cultivo de trigo\n",
       "3  111399  Cultivo de outros cereais nŃo especificados an...\n",
       "4  112101                        Cultivo de algodŃo herbßceo"
      ]
     },
     "metadata": {},
     "output_type": "display_data"
    },
    {
     "data": {
      "text/plain": [
       "'cp855'"
      ]
     },
     "metadata": {},
     "output_type": "display_data"
    },
    {
     "data": {
      "text/plain": [
       "':\\n'"
      ]
     },
     "metadata": {},
     "output_type": "display_data"
    },
    {
     "data": {
      "text/html": [
       "<div>\n",
       "<style scoped>\n",
       "    .dataframe tbody tr th:only-of-type {\n",
       "        vertical-align: middle;\n",
       "    }\n",
       "\n",
       "    .dataframe tbody tr th {\n",
       "        vertical-align: top;\n",
       "    }\n",
       "\n",
       "    .dataframe thead th {\n",
       "        text-align: right;\n",
       "    }\n",
       "</style>\n",
       "<table border=\"1\" class=\"dataframe\">\n",
       "  <thead>\n",
       "    <tr style=\"text-align: right;\">\n",
       "      <th></th>\n",
       "      <th>0</th>\n",
       "      <th>1</th>\n",
       "    </tr>\n",
       "  </thead>\n",
       "  <tbody>\n",
       "    <tr>\n",
       "      <th>0</th>\n",
       "      <td>111301</td>\n",
       "      <td>Cultivo de arroz</td>\n",
       "    </tr>\n",
       "    <tr>\n",
       "      <th>1</th>\n",
       "      <td>111302</td>\n",
       "      <td>Cultivo de milho</td>\n",
       "    </tr>\n",
       "    <tr>\n",
       "      <th>2</th>\n",
       "      <td>111303</td>\n",
       "      <td>Cultivo de trigo</td>\n",
       "    </tr>\n",
       "    <tr>\n",
       "      <th>3</th>\n",
       "      <td>111399</td>\n",
       "      <td>Cultivo de outros cereais nсo especificados an...</td>\n",
       "    </tr>\n",
       "    <tr>\n",
       "      <th>4</th>\n",
       "      <td>112101</td>\n",
       "      <td>Cultivo de algodсo herbрceo</td>\n",
       "    </tr>\n",
       "  </tbody>\n",
       "</table>\n",
       "</div>"
      ],
      "text/plain": [
       "        0                                                  1\n",
       "0  111301                                   Cultivo de arroz\n",
       "1  111302                                   Cultivo de milho\n",
       "2  111303                                   Cultivo de trigo\n",
       "3  111399  Cultivo de outros cereais nсo especificados an...\n",
       "4  112101                        Cultivo de algodсo herbрceo"
      ]
     },
     "metadata": {},
     "output_type": "display_data"
    },
    {
     "data": {
      "text/plain": [
       "'cp858'"
      ]
     },
     "metadata": {},
     "output_type": "display_data"
    },
    {
     "data": {
      "text/plain": [
       "':\\n'"
      ]
     },
     "metadata": {},
     "output_type": "display_data"
    },
    {
     "data": {
      "text/html": [
       "<div>\n",
       "<style scoped>\n",
       "    .dataframe tbody tr th:only-of-type {\n",
       "        vertical-align: middle;\n",
       "    }\n",
       "\n",
       "    .dataframe tbody tr th {\n",
       "        vertical-align: top;\n",
       "    }\n",
       "\n",
       "    .dataframe thead th {\n",
       "        text-align: right;\n",
       "    }\n",
       "</style>\n",
       "<table border=\"1\" class=\"dataframe\">\n",
       "  <thead>\n",
       "    <tr style=\"text-align: right;\">\n",
       "      <th></th>\n",
       "      <th>0</th>\n",
       "      <th>1</th>\n",
       "    </tr>\n",
       "  </thead>\n",
       "  <tbody>\n",
       "    <tr>\n",
       "      <th>0</th>\n",
       "      <td>111301</td>\n",
       "      <td>Cultivo de arroz</td>\n",
       "    </tr>\n",
       "    <tr>\n",
       "      <th>1</th>\n",
       "      <td>111302</td>\n",
       "      <td>Cultivo de milho</td>\n",
       "    </tr>\n",
       "    <tr>\n",
       "      <th>2</th>\n",
       "      <td>111303</td>\n",
       "      <td>Cultivo de trigo</td>\n",
       "    </tr>\n",
       "    <tr>\n",
       "      <th>3</th>\n",
       "      <td>111399</td>\n",
       "      <td>Cultivo de outros cereais nÒo especificados an...</td>\n",
       "    </tr>\n",
       "    <tr>\n",
       "      <th>4</th>\n",
       "      <td>112101</td>\n",
       "      <td>Cultivo de algodÒo herbßceo</td>\n",
       "    </tr>\n",
       "  </tbody>\n",
       "</table>\n",
       "</div>"
      ],
      "text/plain": [
       "        0                                                  1\n",
       "0  111301                                   Cultivo de arroz\n",
       "1  111302                                   Cultivo de milho\n",
       "2  111303                                   Cultivo de trigo\n",
       "3  111399  Cultivo de outros cereais nÒo especificados an...\n",
       "4  112101                        Cultivo de algodÒo herbßceo"
      ]
     },
     "metadata": {},
     "output_type": "display_data"
    },
    {
     "data": {
      "text/plain": [
       "'cp860'"
      ]
     },
     "metadata": {},
     "output_type": "display_data"
    },
    {
     "data": {
      "text/plain": [
       "':\\n'"
      ]
     },
     "metadata": {},
     "output_type": "display_data"
    },
    {
     "data": {
      "text/html": [
       "<div>\n",
       "<style scoped>\n",
       "    .dataframe tbody tr th:only-of-type {\n",
       "        vertical-align: middle;\n",
       "    }\n",
       "\n",
       "    .dataframe tbody tr th {\n",
       "        vertical-align: top;\n",
       "    }\n",
       "\n",
       "    .dataframe thead th {\n",
       "        text-align: right;\n",
       "    }\n",
       "</style>\n",
       "<table border=\"1\" class=\"dataframe\">\n",
       "  <thead>\n",
       "    <tr style=\"text-align: right;\">\n",
       "      <th></th>\n",
       "      <th>0</th>\n",
       "      <th>1</th>\n",
       "    </tr>\n",
       "  </thead>\n",
       "  <tbody>\n",
       "    <tr>\n",
       "      <th>0</th>\n",
       "      <td>111301</td>\n",
       "      <td>Cultivo de arroz</td>\n",
       "    </tr>\n",
       "    <tr>\n",
       "      <th>1</th>\n",
       "      <td>111302</td>\n",
       "      <td>Cultivo de milho</td>\n",
       "    </tr>\n",
       "    <tr>\n",
       "      <th>2</th>\n",
       "      <td>111303</td>\n",
       "      <td>Cultivo de trigo</td>\n",
       "    </tr>\n",
       "    <tr>\n",
       "      <th>3</th>\n",
       "      <td>111399</td>\n",
       "      <td>Cultivo de outros cereais nπo especificados an...</td>\n",
       "    </tr>\n",
       "    <tr>\n",
       "      <th>4</th>\n",
       "      <td>112101</td>\n",
       "      <td>Cultivo de algodπo herbßceo</td>\n",
       "    </tr>\n",
       "  </tbody>\n",
       "</table>\n",
       "</div>"
      ],
      "text/plain": [
       "        0                                                  1\n",
       "0  111301                                   Cultivo de arroz\n",
       "1  111302                                   Cultivo de milho\n",
       "2  111303                                   Cultivo de trigo\n",
       "3  111399  Cultivo de outros cereais nπo especificados an...\n",
       "4  112101                        Cultivo de algodπo herbßceo"
      ]
     },
     "metadata": {},
     "output_type": "display_data"
    },
    {
     "data": {
      "text/plain": [
       "'cp861'"
      ]
     },
     "metadata": {},
     "output_type": "display_data"
    },
    {
     "data": {
      "text/plain": [
       "':\\n'"
      ]
     },
     "metadata": {},
     "output_type": "display_data"
    },
    {
     "data": {
      "text/html": [
       "<div>\n",
       "<style scoped>\n",
       "    .dataframe tbody tr th:only-of-type {\n",
       "        vertical-align: middle;\n",
       "    }\n",
       "\n",
       "    .dataframe tbody tr th {\n",
       "        vertical-align: top;\n",
       "    }\n",
       "\n",
       "    .dataframe thead th {\n",
       "        text-align: right;\n",
       "    }\n",
       "</style>\n",
       "<table border=\"1\" class=\"dataframe\">\n",
       "  <thead>\n",
       "    <tr style=\"text-align: right;\">\n",
       "      <th></th>\n",
       "      <th>0</th>\n",
       "      <th>1</th>\n",
       "    </tr>\n",
       "  </thead>\n",
       "  <tbody>\n",
       "    <tr>\n",
       "      <th>0</th>\n",
       "      <td>111301</td>\n",
       "      <td>Cultivo de arroz</td>\n",
       "    </tr>\n",
       "    <tr>\n",
       "      <th>1</th>\n",
       "      <td>111302</td>\n",
       "      <td>Cultivo de milho</td>\n",
       "    </tr>\n",
       "    <tr>\n",
       "      <th>2</th>\n",
       "      <td>111303</td>\n",
       "      <td>Cultivo de trigo</td>\n",
       "    </tr>\n",
       "    <tr>\n",
       "      <th>3</th>\n",
       "      <td>111399</td>\n",
       "      <td>Cultivo de outros cereais nπo especificados an...</td>\n",
       "    </tr>\n",
       "    <tr>\n",
       "      <th>4</th>\n",
       "      <td>112101</td>\n",
       "      <td>Cultivo de algodπo herbßceo</td>\n",
       "    </tr>\n",
       "  </tbody>\n",
       "</table>\n",
       "</div>"
      ],
      "text/plain": [
       "        0                                                  1\n",
       "0  111301                                   Cultivo de arroz\n",
       "1  111302                                   Cultivo de milho\n",
       "2  111303                                   Cultivo de trigo\n",
       "3  111399  Cultivo de outros cereais nπo especificados an...\n",
       "4  112101                        Cultivo de algodπo herbßceo"
      ]
     },
     "metadata": {},
     "output_type": "display_data"
    },
    {
     "data": {
      "text/plain": [
       "'cp862'"
      ]
     },
     "metadata": {},
     "output_type": "display_data"
    },
    {
     "data": {
      "text/plain": [
       "':\\n'"
      ]
     },
     "metadata": {},
     "output_type": "display_data"
    },
    {
     "data": {
      "text/html": [
       "<div>\n",
       "<style scoped>\n",
       "    .dataframe tbody tr th:only-of-type {\n",
       "        vertical-align: middle;\n",
       "    }\n",
       "\n",
       "    .dataframe tbody tr th {\n",
       "        vertical-align: top;\n",
       "    }\n",
       "\n",
       "    .dataframe thead th {\n",
       "        text-align: right;\n",
       "    }\n",
       "</style>\n",
       "<table border=\"1\" class=\"dataframe\">\n",
       "  <thead>\n",
       "    <tr style=\"text-align: right;\">\n",
       "      <th></th>\n",
       "      <th>0</th>\n",
       "      <th>1</th>\n",
       "    </tr>\n",
       "  </thead>\n",
       "  <tbody>\n",
       "    <tr>\n",
       "      <th>0</th>\n",
       "      <td>111301</td>\n",
       "      <td>Cultivo de arroz</td>\n",
       "    </tr>\n",
       "    <tr>\n",
       "      <th>1</th>\n",
       "      <td>111302</td>\n",
       "      <td>Cultivo de milho</td>\n",
       "    </tr>\n",
       "    <tr>\n",
       "      <th>2</th>\n",
       "      <td>111303</td>\n",
       "      <td>Cultivo de trigo</td>\n",
       "    </tr>\n",
       "    <tr>\n",
       "      <th>3</th>\n",
       "      <td>111399</td>\n",
       "      <td>Cultivo de outros cereais nπo especificados an...</td>\n",
       "    </tr>\n",
       "    <tr>\n",
       "      <th>4</th>\n",
       "      <td>112101</td>\n",
       "      <td>Cultivo de algodπo herbßceo</td>\n",
       "    </tr>\n",
       "  </tbody>\n",
       "</table>\n",
       "</div>"
      ],
      "text/plain": [
       "        0                                                  1\n",
       "0  111301                                   Cultivo de arroz\n",
       "1  111302                                   Cultivo de milho\n",
       "2  111303                                   Cultivo de trigo\n",
       "3  111399  Cultivo de outros cereais nπo especificados an...\n",
       "4  112101                        Cultivo de algodπo herbßceo"
      ]
     },
     "metadata": {},
     "output_type": "display_data"
    },
    {
     "data": {
      "text/plain": [
       "'cp863'"
      ]
     },
     "metadata": {},
     "output_type": "display_data"
    },
    {
     "data": {
      "text/plain": [
       "':\\n'"
      ]
     },
     "metadata": {},
     "output_type": "display_data"
    },
    {
     "data": {
      "text/html": [
       "<div>\n",
       "<style scoped>\n",
       "    .dataframe tbody tr th:only-of-type {\n",
       "        vertical-align: middle;\n",
       "    }\n",
       "\n",
       "    .dataframe tbody tr th {\n",
       "        vertical-align: top;\n",
       "    }\n",
       "\n",
       "    .dataframe thead th {\n",
       "        text-align: right;\n",
       "    }\n",
       "</style>\n",
       "<table border=\"1\" class=\"dataframe\">\n",
       "  <thead>\n",
       "    <tr style=\"text-align: right;\">\n",
       "      <th></th>\n",
       "      <th>0</th>\n",
       "      <th>1</th>\n",
       "    </tr>\n",
       "  </thead>\n",
       "  <tbody>\n",
       "    <tr>\n",
       "      <th>0</th>\n",
       "      <td>111301</td>\n",
       "      <td>Cultivo de arroz</td>\n",
       "    </tr>\n",
       "    <tr>\n",
       "      <th>1</th>\n",
       "      <td>111302</td>\n",
       "      <td>Cultivo de milho</td>\n",
       "    </tr>\n",
       "    <tr>\n",
       "      <th>2</th>\n",
       "      <td>111303</td>\n",
       "      <td>Cultivo de trigo</td>\n",
       "    </tr>\n",
       "    <tr>\n",
       "      <th>3</th>\n",
       "      <td>111399</td>\n",
       "      <td>Cultivo de outros cereais nπo especificados an...</td>\n",
       "    </tr>\n",
       "    <tr>\n",
       "      <th>4</th>\n",
       "      <td>112101</td>\n",
       "      <td>Cultivo de algodπo herbßceo</td>\n",
       "    </tr>\n",
       "  </tbody>\n",
       "</table>\n",
       "</div>"
      ],
      "text/plain": [
       "        0                                                  1\n",
       "0  111301                                   Cultivo de arroz\n",
       "1  111302                                   Cultivo de milho\n",
       "2  111303                                   Cultivo de trigo\n",
       "3  111399  Cultivo de outros cereais nπo especificados an...\n",
       "4  112101                        Cultivo de algodπo herbßceo"
      ]
     },
     "metadata": {},
     "output_type": "display_data"
    },
    {
     "data": {
      "text/plain": [
       "'cp864'"
      ]
     },
     "metadata": {},
     "output_type": "display_data"
    },
    {
     "data": {
      "text/plain": [
       "':\\n'"
      ]
     },
     "metadata": {},
     "output_type": "display_data"
    },
    {
     "data": {
      "text/html": [
       "<div>\n",
       "<style scoped>\n",
       "    .dataframe tbody tr th:only-of-type {\n",
       "        vertical-align: middle;\n",
       "    }\n",
       "\n",
       "    .dataframe tbody tr th {\n",
       "        vertical-align: top;\n",
       "    }\n",
       "\n",
       "    .dataframe thead th {\n",
       "        text-align: right;\n",
       "    }\n",
       "</style>\n",
       "<table border=\"1\" class=\"dataframe\">\n",
       "  <thead>\n",
       "    <tr style=\"text-align: right;\">\n",
       "      <th></th>\n",
       "      <th>0</th>\n",
       "      <th>1</th>\n",
       "    </tr>\n",
       "  </thead>\n",
       "  <tbody>\n",
       "    <tr>\n",
       "      <th>0</th>\n",
       "      <td>111301</td>\n",
       "      <td>Cultivo de arroz</td>\n",
       "    </tr>\n",
       "    <tr>\n",
       "      <th>1</th>\n",
       "      <td>111302</td>\n",
       "      <td>Cultivo de milho</td>\n",
       "    </tr>\n",
       "    <tr>\n",
       "      <th>2</th>\n",
       "      <td>111303</td>\n",
       "      <td>Cultivo de trigo</td>\n",
       "    </tr>\n",
       "    <tr>\n",
       "      <th>3</th>\n",
       "      <td>111399</td>\n",
       "      <td>Cultivo de outros cereais nﻛo especificados an...</td>\n",
       "    </tr>\n",
       "    <tr>\n",
       "      <th>4</th>\n",
       "      <td>112101</td>\n",
       "      <td>Cultivo de algodﻛo herbﻓceo</td>\n",
       "    </tr>\n",
       "  </tbody>\n",
       "</table>\n",
       "</div>"
      ],
      "text/plain": [
       "        0                                                  1\n",
       "0  111301                                   Cultivo de arroz\n",
       "1  111302                                   Cultivo de milho\n",
       "2  111303                                   Cultivo de trigo\n",
       "3  111399  Cultivo de outros cereais nﻛo especificados an...\n",
       "4  112101                        Cultivo de algodﻛo herbﻓceo"
      ]
     },
     "metadata": {},
     "output_type": "display_data"
    },
    {
     "data": {
      "text/plain": [
       "'cp865'"
      ]
     },
     "metadata": {},
     "output_type": "display_data"
    },
    {
     "data": {
      "text/plain": [
       "':\\n'"
      ]
     },
     "metadata": {},
     "output_type": "display_data"
    },
    {
     "data": {
      "text/html": [
       "<div>\n",
       "<style scoped>\n",
       "    .dataframe tbody tr th:only-of-type {\n",
       "        vertical-align: middle;\n",
       "    }\n",
       "\n",
       "    .dataframe tbody tr th {\n",
       "        vertical-align: top;\n",
       "    }\n",
       "\n",
       "    .dataframe thead th {\n",
       "        text-align: right;\n",
       "    }\n",
       "</style>\n",
       "<table border=\"1\" class=\"dataframe\">\n",
       "  <thead>\n",
       "    <tr style=\"text-align: right;\">\n",
       "      <th></th>\n",
       "      <th>0</th>\n",
       "      <th>1</th>\n",
       "    </tr>\n",
       "  </thead>\n",
       "  <tbody>\n",
       "    <tr>\n",
       "      <th>0</th>\n",
       "      <td>111301</td>\n",
       "      <td>Cultivo de arroz</td>\n",
       "    </tr>\n",
       "    <tr>\n",
       "      <th>1</th>\n",
       "      <td>111302</td>\n",
       "      <td>Cultivo de milho</td>\n",
       "    </tr>\n",
       "    <tr>\n",
       "      <th>2</th>\n",
       "      <td>111303</td>\n",
       "      <td>Cultivo de trigo</td>\n",
       "    </tr>\n",
       "    <tr>\n",
       "      <th>3</th>\n",
       "      <td>111399</td>\n",
       "      <td>Cultivo de outros cereais nπo especificados an...</td>\n",
       "    </tr>\n",
       "    <tr>\n",
       "      <th>4</th>\n",
       "      <td>112101</td>\n",
       "      <td>Cultivo de algodπo herbßceo</td>\n",
       "    </tr>\n",
       "  </tbody>\n",
       "</table>\n",
       "</div>"
      ],
      "text/plain": [
       "        0                                                  1\n",
       "0  111301                                   Cultivo de arroz\n",
       "1  111302                                   Cultivo de milho\n",
       "2  111303                                   Cultivo de trigo\n",
       "3  111399  Cultivo de outros cereais nπo especificados an...\n",
       "4  112101                        Cultivo de algodπo herbßceo"
      ]
     },
     "metadata": {},
     "output_type": "display_data"
    },
    {
     "data": {
      "text/plain": [
       "'cp866'"
      ]
     },
     "metadata": {},
     "output_type": "display_data"
    },
    {
     "data": {
      "text/plain": [
       "':\\n'"
      ]
     },
     "metadata": {},
     "output_type": "display_data"
    },
    {
     "data": {
      "text/html": [
       "<div>\n",
       "<style scoped>\n",
       "    .dataframe tbody tr th:only-of-type {\n",
       "        vertical-align: middle;\n",
       "    }\n",
       "\n",
       "    .dataframe tbody tr th {\n",
       "        vertical-align: top;\n",
       "    }\n",
       "\n",
       "    .dataframe thead th {\n",
       "        text-align: right;\n",
       "    }\n",
       "</style>\n",
       "<table border=\"1\" class=\"dataframe\">\n",
       "  <thead>\n",
       "    <tr style=\"text-align: right;\">\n",
       "      <th></th>\n",
       "      <th>0</th>\n",
       "      <th>1</th>\n",
       "    </tr>\n",
       "  </thead>\n",
       "  <tbody>\n",
       "    <tr>\n",
       "      <th>0</th>\n",
       "      <td>111301</td>\n",
       "      <td>Cultivo de arroz</td>\n",
       "    </tr>\n",
       "    <tr>\n",
       "      <th>1</th>\n",
       "      <td>111302</td>\n",
       "      <td>Cultivo de milho</td>\n",
       "    </tr>\n",
       "    <tr>\n",
       "      <th>2</th>\n",
       "      <td>111303</td>\n",
       "      <td>Cultivo de trigo</td>\n",
       "    </tr>\n",
       "    <tr>\n",
       "      <th>3</th>\n",
       "      <td>111399</td>\n",
       "      <td>Cultivo de outros cereais nуo especificados an...</td>\n",
       "    </tr>\n",
       "    <tr>\n",
       "      <th>4</th>\n",
       "      <td>112101</td>\n",
       "      <td>Cultivo de algodуo herbсceo</td>\n",
       "    </tr>\n",
       "  </tbody>\n",
       "</table>\n",
       "</div>"
      ],
      "text/plain": [
       "        0                                                  1\n",
       "0  111301                                   Cultivo de arroz\n",
       "1  111302                                   Cultivo de milho\n",
       "2  111303                                   Cultivo de trigo\n",
       "3  111399  Cultivo de outros cereais nуo especificados an...\n",
       "4  112101                        Cultivo de algodуo herbсceo"
      ]
     },
     "metadata": {},
     "output_type": "display_data"
    },
    {
     "data": {
      "text/plain": [
       "'cp869'"
      ]
     },
     "metadata": {},
     "output_type": "display_data"
    },
    {
     "data": {
      "text/plain": [
       "':\\n'"
      ]
     },
     "metadata": {},
     "output_type": "display_data"
    },
    {
     "data": {
      "text/html": [
       "<div>\n",
       "<style scoped>\n",
       "    .dataframe tbody tr th:only-of-type {\n",
       "        vertical-align: middle;\n",
       "    }\n",
       "\n",
       "    .dataframe tbody tr th {\n",
       "        vertical-align: top;\n",
       "    }\n",
       "\n",
       "    .dataframe thead th {\n",
       "        text-align: right;\n",
       "    }\n",
       "</style>\n",
       "<table border=\"1\" class=\"dataframe\">\n",
       "  <thead>\n",
       "    <tr style=\"text-align: right;\">\n",
       "      <th></th>\n",
       "      <th>0</th>\n",
       "      <th>1</th>\n",
       "    </tr>\n",
       "  </thead>\n",
       "  <tbody>\n",
       "    <tr>\n",
       "      <th>0</th>\n",
       "      <td>111301</td>\n",
       "      <td>Cultivo de arroz</td>\n",
       "    </tr>\n",
       "    <tr>\n",
       "      <th>1</th>\n",
       "      <td>111302</td>\n",
       "      <td>Cultivo de milho</td>\n",
       "    </tr>\n",
       "    <tr>\n",
       "      <th>2</th>\n",
       "      <td>111303</td>\n",
       "      <td>Cultivo de trigo</td>\n",
       "    </tr>\n",
       "    <tr>\n",
       "      <th>3</th>\n",
       "      <td>111399</td>\n",
       "      <td>Cultivo de outros cereais nιo especificados an...</td>\n",
       "    </tr>\n",
       "    <tr>\n",
       "      <th>4</th>\n",
       "      <td>112101</td>\n",
       "      <td>Cultivo de algodιo herbηceo</td>\n",
       "    </tr>\n",
       "  </tbody>\n",
       "</table>\n",
       "</div>"
      ],
      "text/plain": [
       "        0                                                  1\n",
       "0  111301                                   Cultivo de arroz\n",
       "1  111302                                   Cultivo de milho\n",
       "2  111303                                   Cultivo de trigo\n",
       "3  111399  Cultivo de outros cereais nιo especificados an...\n",
       "4  112101                        Cultivo de algodιo herbηceo"
      ]
     },
     "metadata": {},
     "output_type": "display_data"
    },
    {
     "data": {
      "text/plain": [
       "'cp875'"
      ]
     },
     "metadata": {},
     "output_type": "display_data"
    },
    {
     "data": {
      "text/plain": [
       "':\\n'"
      ]
     },
     "metadata": {},
     "output_type": "display_data"
    },
    {
     "data": {
      "text/html": [
       "<div>\n",
       "<style scoped>\n",
       "    .dataframe tbody tr th:only-of-type {\n",
       "        vertical-align: middle;\n",
       "    }\n",
       "\n",
       "    .dataframe tbody tr th {\n",
       "        vertical-align: top;\n",
       "    }\n",
       "\n",
       "    .dataframe thead th {\n",
       "        text-align: right;\n",
       "    }\n",
       "</style>\n",
       "<table border=\"1\" class=\"dataframe\">\n",
       "  <thead>\n",
       "    <tr style=\"text-align: right;\">\n",
       "      <th></th>\n",
       "      <th>0</th>\n",
       "    </tr>\n",
       "  </thead>\n",
       "  <tbody>\n",
       "    <tr>\n",
       "      <th>0</th>\n",
       "      <td>ΓΊ% ΫΌ?ΦΧ/ΈΈ?:\u0016ΓΊ% ΫΌ...</td>\n",
       "    </tr>\n",
       "  </tbody>\n",
       "</table>\n",
       "</div>"
      ],
      "text/plain": [
       "                                                   0\n",
       "0  ΓΊ% ΫΌ?ΦΧ/ΈΈ?:\u0016ΓΊ% ΫΌ..."
      ]
     },
     "metadata": {},
     "output_type": "display_data"
    },
    {
     "data": {
      "text/plain": [
       "'cp1006'"
      ]
     },
     "metadata": {},
     "output_type": "display_data"
    },
    {
     "data": {
      "text/plain": [
       "':\\n'"
      ]
     },
     "metadata": {},
     "output_type": "display_data"
    },
    {
     "data": {
      "text/html": [
       "<div>\n",
       "<style scoped>\n",
       "    .dataframe tbody tr th:only-of-type {\n",
       "        vertical-align: middle;\n",
       "    }\n",
       "\n",
       "    .dataframe tbody tr th {\n",
       "        vertical-align: top;\n",
       "    }\n",
       "\n",
       "    .dataframe thead th {\n",
       "        text-align: right;\n",
       "    }\n",
       "</style>\n",
       "<table border=\"1\" class=\"dataframe\">\n",
       "  <thead>\n",
       "    <tr style=\"text-align: right;\">\n",
       "      <th></th>\n",
       "      <th>0</th>\n",
       "      <th>1</th>\n",
       "    </tr>\n",
       "  </thead>\n",
       "  <tbody>\n",
       "    <tr>\n",
       "      <th>0</th>\n",
       "      <td>111301</td>\n",
       "      <td>Cultivo de arroz</td>\n",
       "    </tr>\n",
       "    <tr>\n",
       "      <th>1</th>\n",
       "      <td>111302</td>\n",
       "      <td>Cultivo de milho</td>\n",
       "    </tr>\n",
       "    <tr>\n",
       "      <th>2</th>\n",
       "      <td>111303</td>\n",
       "      <td>Cultivo de trigo</td>\n",
       "    </tr>\n",
       "    <tr>\n",
       "      <th>3</th>\n",
       "      <td>111399</td>\n",
       "      <td>Cultivo de outros cereais nﻙo especificados an...</td>\n",
       "    </tr>\n",
       "    <tr>\n",
       "      <th>4</th>\n",
       "      <td>112101</td>\n",
       "      <td>Cultivo de algodﻙo herbﻕceo</td>\n",
       "    </tr>\n",
       "  </tbody>\n",
       "</table>\n",
       "</div>"
      ],
      "text/plain": [
       "        0                                                  1\n",
       "0  111301                                   Cultivo de arroz\n",
       "1  111302                                   Cultivo de milho\n",
       "2  111303                                   Cultivo de trigo\n",
       "3  111399  Cultivo de outros cereais nﻙo especificados an...\n",
       "4  112101                        Cultivo de algodﻙo herbﻕceo"
      ]
     },
     "metadata": {},
     "output_type": "display_data"
    },
    {
     "data": {
      "text/plain": [
       "'cp1026'"
      ]
     },
     "metadata": {},
     "output_type": "display_data"
    },
    {
     "data": {
      "text/plain": [
       "':\\n'"
      ]
     },
     "metadata": {},
     "output_type": "display_data"
    },
    {
     "data": {
      "text/html": [
       "<div>\n",
       "<style scoped>\n",
       "    .dataframe tbody tr th:only-of-type {\n",
       "        vertical-align: middle;\n",
       "    }\n",
       "\n",
       "    .dataframe tbody tr th {\n",
       "        vertical-align: top;\n",
       "    }\n",
       "\n",
       "    .dataframe thead th {\n",
       "        text-align: right;\n",
       "    }\n",
       "</style>\n",
       "<table border=\"1\" class=\"dataframe\">\n",
       "  <thead>\n",
       "    <tr style=\"text-align: right;\">\n",
       "      <th></th>\n",
       "      <th>0</th>\n",
       "    </tr>\n",
       "  </thead>\n",
       "  <tbody>\n",
       "    <tr>\n",
       "      <th>0</th>\n",
       "      <td>äÍ%ÈÑÎ?ÀÁ/ÊÊ?:\u0016äÍ%ÈÑÎ...</td>\n",
       "    </tr>\n",
       "  </tbody>\n",
       "</table>\n",
       "</div>"
      ],
      "text/plain": [
       "                                                   0\n",
       "0  äÍ%ÈÑÎ?ÀÁ/ÊÊ?:\u0016äÍ%ÈÑÎ..."
      ]
     },
     "metadata": {},
     "output_type": "display_data"
    },
    {
     "data": {
      "text/plain": [
       "'cp1125'"
      ]
     },
     "metadata": {},
     "output_type": "display_data"
    },
    {
     "data": {
      "text/plain": [
       "':\\n'"
      ]
     },
     "metadata": {},
     "output_type": "display_data"
    },
    {
     "data": {
      "text/html": [
       "<div>\n",
       "<style scoped>\n",
       "    .dataframe tbody tr th:only-of-type {\n",
       "        vertical-align: middle;\n",
       "    }\n",
       "\n",
       "    .dataframe tbody tr th {\n",
       "        vertical-align: top;\n",
       "    }\n",
       "\n",
       "    .dataframe thead th {\n",
       "        text-align: right;\n",
       "    }\n",
       "</style>\n",
       "<table border=\"1\" class=\"dataframe\">\n",
       "  <thead>\n",
       "    <tr style=\"text-align: right;\">\n",
       "      <th></th>\n",
       "      <th>0</th>\n",
       "      <th>1</th>\n",
       "    </tr>\n",
       "  </thead>\n",
       "  <tbody>\n",
       "    <tr>\n",
       "      <th>0</th>\n",
       "      <td>111301</td>\n",
       "      <td>Cultivo de arroz</td>\n",
       "    </tr>\n",
       "    <tr>\n",
       "      <th>1</th>\n",
       "      <td>111302</td>\n",
       "      <td>Cultivo de milho</td>\n",
       "    </tr>\n",
       "    <tr>\n",
       "      <th>2</th>\n",
       "      <td>111303</td>\n",
       "      <td>Cultivo de trigo</td>\n",
       "    </tr>\n",
       "    <tr>\n",
       "      <th>3</th>\n",
       "      <td>111399</td>\n",
       "      <td>Cultivo de outros cereais nуo especificados an...</td>\n",
       "    </tr>\n",
       "    <tr>\n",
       "      <th>4</th>\n",
       "      <td>112101</td>\n",
       "      <td>Cultivo de algodуo herbсceo</td>\n",
       "    </tr>\n",
       "  </tbody>\n",
       "</table>\n",
       "</div>"
      ],
      "text/plain": [
       "        0                                                  1\n",
       "0  111301                                   Cultivo de arroz\n",
       "1  111302                                   Cultivo de milho\n",
       "2  111303                                   Cultivo de trigo\n",
       "3  111399  Cultivo de outros cereais nуo especificados an...\n",
       "4  112101                        Cultivo de algodуo herbсceo"
      ]
     },
     "metadata": {},
     "output_type": "display_data"
    },
    {
     "data": {
      "text/plain": [
       "'cp1140'"
      ]
     },
     "metadata": {},
     "output_type": "display_data"
    },
    {
     "data": {
      "text/plain": [
       "':\\n'"
      ]
     },
     "metadata": {},
     "output_type": "display_data"
    },
    {
     "data": {
      "text/html": [
       "<div>\n",
       "<style scoped>\n",
       "    .dataframe tbody tr th:only-of-type {\n",
       "        vertical-align: middle;\n",
       "    }\n",
       "\n",
       "    .dataframe tbody tr th {\n",
       "        vertical-align: top;\n",
       "    }\n",
       "\n",
       "    .dataframe thead th {\n",
       "        text-align: right;\n",
       "    }\n",
       "</style>\n",
       "<table border=\"1\" class=\"dataframe\">\n",
       "  <thead>\n",
       "    <tr style=\"text-align: right;\">\n",
       "      <th></th>\n",
       "      <th>0</th>\n",
       "    </tr>\n",
       "  </thead>\n",
       "  <tbody>\n",
       "    <tr>\n",
       "      <th>0</th>\n",
       "      <td>äÍ%ÈÑÎ?ÀÁ/ÊÊ?:\u0016äÍ%ÈÑÎ...</td>\n",
       "    </tr>\n",
       "  </tbody>\n",
       "</table>\n",
       "</div>"
      ],
      "text/plain": [
       "                                                   0\n",
       "0  äÍ%ÈÑÎ?ÀÁ/ÊÊ?:\u0016äÍ%ÈÑÎ..."
      ]
     },
     "metadata": {},
     "output_type": "display_data"
    },
    {
     "data": {
      "text/plain": [
       "'cp1250'"
      ]
     },
     "metadata": {},
     "output_type": "display_data"
    },
    {
     "data": {
      "text/plain": [
       "':\\n'"
      ]
     },
     "metadata": {},
     "output_type": "display_data"
    },
    {
     "data": {
      "text/html": [
       "<div>\n",
       "<style scoped>\n",
       "    .dataframe tbody tr th:only-of-type {\n",
       "        vertical-align: middle;\n",
       "    }\n",
       "\n",
       "    .dataframe tbody tr th {\n",
       "        vertical-align: top;\n",
       "    }\n",
       "\n",
       "    .dataframe thead th {\n",
       "        text-align: right;\n",
       "    }\n",
       "</style>\n",
       "<table border=\"1\" class=\"dataframe\">\n",
       "  <thead>\n",
       "    <tr style=\"text-align: right;\">\n",
       "      <th></th>\n",
       "      <th>0</th>\n",
       "      <th>1</th>\n",
       "    </tr>\n",
       "  </thead>\n",
       "  <tbody>\n",
       "    <tr>\n",
       "      <th>0</th>\n",
       "      <td>111301</td>\n",
       "      <td>Cultivo de arroz</td>\n",
       "    </tr>\n",
       "    <tr>\n",
       "      <th>1</th>\n",
       "      <td>111302</td>\n",
       "      <td>Cultivo de milho</td>\n",
       "    </tr>\n",
       "    <tr>\n",
       "      <th>2</th>\n",
       "      <td>111303</td>\n",
       "      <td>Cultivo de trigo</td>\n",
       "    </tr>\n",
       "    <tr>\n",
       "      <th>3</th>\n",
       "      <td>111399</td>\n",
       "      <td>Cultivo de outros cereais năo especificados an...</td>\n",
       "    </tr>\n",
       "    <tr>\n",
       "      <th>4</th>\n",
       "      <td>112101</td>\n",
       "      <td>Cultivo de algodăo herbáceo</td>\n",
       "    </tr>\n",
       "  </tbody>\n",
       "</table>\n",
       "</div>"
      ],
      "text/plain": [
       "        0                                                  1\n",
       "0  111301                                   Cultivo de arroz\n",
       "1  111302                                   Cultivo de milho\n",
       "2  111303                                   Cultivo de trigo\n",
       "3  111399  Cultivo de outros cereais năo especificados an...\n",
       "4  112101                        Cultivo de algodăo herbáceo"
      ]
     },
     "metadata": {},
     "output_type": "display_data"
    },
    {
     "data": {
      "text/plain": [
       "'cp1251'"
      ]
     },
     "metadata": {},
     "output_type": "display_data"
    },
    {
     "data": {
      "text/plain": [
       "':\\n'"
      ]
     },
     "metadata": {},
     "output_type": "display_data"
    },
    {
     "data": {
      "text/html": [
       "<div>\n",
       "<style scoped>\n",
       "    .dataframe tbody tr th:only-of-type {\n",
       "        vertical-align: middle;\n",
       "    }\n",
       "\n",
       "    .dataframe tbody tr th {\n",
       "        vertical-align: top;\n",
       "    }\n",
       "\n",
       "    .dataframe thead th {\n",
       "        text-align: right;\n",
       "    }\n",
       "</style>\n",
       "<table border=\"1\" class=\"dataframe\">\n",
       "  <thead>\n",
       "    <tr style=\"text-align: right;\">\n",
       "      <th></th>\n",
       "      <th>0</th>\n",
       "      <th>1</th>\n",
       "    </tr>\n",
       "  </thead>\n",
       "  <tbody>\n",
       "    <tr>\n",
       "      <th>0</th>\n",
       "      <td>111301</td>\n",
       "      <td>Cultivo de arroz</td>\n",
       "    </tr>\n",
       "    <tr>\n",
       "      <th>1</th>\n",
       "      <td>111302</td>\n",
       "      <td>Cultivo de milho</td>\n",
       "    </tr>\n",
       "    <tr>\n",
       "      <th>2</th>\n",
       "      <td>111303</td>\n",
       "      <td>Cultivo de trigo</td>\n",
       "    </tr>\n",
       "    <tr>\n",
       "      <th>3</th>\n",
       "      <td>111399</td>\n",
       "      <td>Cultivo de outros cereais nгo especificados an...</td>\n",
       "    </tr>\n",
       "    <tr>\n",
       "      <th>4</th>\n",
       "      <td>112101</td>\n",
       "      <td>Cultivo de algodгo herbбceo</td>\n",
       "    </tr>\n",
       "  </tbody>\n",
       "</table>\n",
       "</div>"
      ],
      "text/plain": [
       "        0                                                  1\n",
       "0  111301                                   Cultivo de arroz\n",
       "1  111302                                   Cultivo de milho\n",
       "2  111303                                   Cultivo de trigo\n",
       "3  111399  Cultivo de outros cereais nгo especificados an...\n",
       "4  112101                        Cultivo de algodгo herbбceo"
      ]
     },
     "metadata": {},
     "output_type": "display_data"
    },
    {
     "data": {
      "text/plain": [
       "'cp1252'"
      ]
     },
     "metadata": {},
     "output_type": "display_data"
    },
    {
     "data": {
      "text/plain": [
       "':\\n'"
      ]
     },
     "metadata": {},
     "output_type": "display_data"
    },
    {
     "data": {
      "text/html": [
       "<div>\n",
       "<style scoped>\n",
       "    .dataframe tbody tr th:only-of-type {\n",
       "        vertical-align: middle;\n",
       "    }\n",
       "\n",
       "    .dataframe tbody tr th {\n",
       "        vertical-align: top;\n",
       "    }\n",
       "\n",
       "    .dataframe thead th {\n",
       "        text-align: right;\n",
       "    }\n",
       "</style>\n",
       "<table border=\"1\" class=\"dataframe\">\n",
       "  <thead>\n",
       "    <tr style=\"text-align: right;\">\n",
       "      <th></th>\n",
       "      <th>0</th>\n",
       "      <th>1</th>\n",
       "    </tr>\n",
       "  </thead>\n",
       "  <tbody>\n",
       "    <tr>\n",
       "      <th>0</th>\n",
       "      <td>111301</td>\n",
       "      <td>Cultivo de arroz</td>\n",
       "    </tr>\n",
       "    <tr>\n",
       "      <th>1</th>\n",
       "      <td>111302</td>\n",
       "      <td>Cultivo de milho</td>\n",
       "    </tr>\n",
       "    <tr>\n",
       "      <th>2</th>\n",
       "      <td>111303</td>\n",
       "      <td>Cultivo de trigo</td>\n",
       "    </tr>\n",
       "    <tr>\n",
       "      <th>3</th>\n",
       "      <td>111399</td>\n",
       "      <td>Cultivo de outros cereais não especificados an...</td>\n",
       "    </tr>\n",
       "    <tr>\n",
       "      <th>4</th>\n",
       "      <td>112101</td>\n",
       "      <td>Cultivo de algodão herbáceo</td>\n",
       "    </tr>\n",
       "  </tbody>\n",
       "</table>\n",
       "</div>"
      ],
      "text/plain": [
       "        0                                                  1\n",
       "0  111301                                   Cultivo de arroz\n",
       "1  111302                                   Cultivo de milho\n",
       "2  111303                                   Cultivo de trigo\n",
       "3  111399  Cultivo de outros cereais não especificados an...\n",
       "4  112101                        Cultivo de algodão herbáceo"
      ]
     },
     "metadata": {},
     "output_type": "display_data"
    },
    {
     "data": {
      "text/plain": [
       "'cp1253'"
      ]
     },
     "metadata": {},
     "output_type": "display_data"
    },
    {
     "data": {
      "text/plain": [
       "':\\n'"
      ]
     },
     "metadata": {},
     "output_type": "display_data"
    },
    {
     "data": {
      "text/html": [
       "<div>\n",
       "<style scoped>\n",
       "    .dataframe tbody tr th:only-of-type {\n",
       "        vertical-align: middle;\n",
       "    }\n",
       "\n",
       "    .dataframe tbody tr th {\n",
       "        vertical-align: top;\n",
       "    }\n",
       "\n",
       "    .dataframe thead th {\n",
       "        text-align: right;\n",
       "    }\n",
       "</style>\n",
       "<table border=\"1\" class=\"dataframe\">\n",
       "  <thead>\n",
       "    <tr style=\"text-align: right;\">\n",
       "      <th></th>\n",
       "      <th>0</th>\n",
       "      <th>1</th>\n",
       "    </tr>\n",
       "  </thead>\n",
       "  <tbody>\n",
       "    <tr>\n",
       "      <th>0</th>\n",
       "      <td>111301</td>\n",
       "      <td>Cultivo de arroz</td>\n",
       "    </tr>\n",
       "    <tr>\n",
       "      <th>1</th>\n",
       "      <td>111302</td>\n",
       "      <td>Cultivo de milho</td>\n",
       "    </tr>\n",
       "    <tr>\n",
       "      <th>2</th>\n",
       "      <td>111303</td>\n",
       "      <td>Cultivo de trigo</td>\n",
       "    </tr>\n",
       "    <tr>\n",
       "      <th>3</th>\n",
       "      <td>111399</td>\n",
       "      <td>Cultivo de outros cereais nγo especificados an...</td>\n",
       "    </tr>\n",
       "    <tr>\n",
       "      <th>4</th>\n",
       "      <td>112101</td>\n",
       "      <td>Cultivo de algodγo herbαceo</td>\n",
       "    </tr>\n",
       "  </tbody>\n",
       "</table>\n",
       "</div>"
      ],
      "text/plain": [
       "        0                                                  1\n",
       "0  111301                                   Cultivo de arroz\n",
       "1  111302                                   Cultivo de milho\n",
       "2  111303                                   Cultivo de trigo\n",
       "3  111399  Cultivo de outros cereais nγo especificados an...\n",
       "4  112101                        Cultivo de algodγo herbαceo"
      ]
     },
     "metadata": {},
     "output_type": "display_data"
    },
    {
     "data": {
      "text/plain": [
       "'cp1254'"
      ]
     },
     "metadata": {},
     "output_type": "display_data"
    },
    {
     "data": {
      "text/plain": [
       "':\\n'"
      ]
     },
     "metadata": {},
     "output_type": "display_data"
    },
    {
     "data": {
      "text/html": [
       "<div>\n",
       "<style scoped>\n",
       "    .dataframe tbody tr th:only-of-type {\n",
       "        vertical-align: middle;\n",
       "    }\n",
       "\n",
       "    .dataframe tbody tr th {\n",
       "        vertical-align: top;\n",
       "    }\n",
       "\n",
       "    .dataframe thead th {\n",
       "        text-align: right;\n",
       "    }\n",
       "</style>\n",
       "<table border=\"1\" class=\"dataframe\">\n",
       "  <thead>\n",
       "    <tr style=\"text-align: right;\">\n",
       "      <th></th>\n",
       "      <th>0</th>\n",
       "      <th>1</th>\n",
       "    </tr>\n",
       "  </thead>\n",
       "  <tbody>\n",
       "    <tr>\n",
       "      <th>0</th>\n",
       "      <td>111301</td>\n",
       "      <td>Cultivo de arroz</td>\n",
       "    </tr>\n",
       "    <tr>\n",
       "      <th>1</th>\n",
       "      <td>111302</td>\n",
       "      <td>Cultivo de milho</td>\n",
       "    </tr>\n",
       "    <tr>\n",
       "      <th>2</th>\n",
       "      <td>111303</td>\n",
       "      <td>Cultivo de trigo</td>\n",
       "    </tr>\n",
       "    <tr>\n",
       "      <th>3</th>\n",
       "      <td>111399</td>\n",
       "      <td>Cultivo de outros cereais não especificados an...</td>\n",
       "    </tr>\n",
       "    <tr>\n",
       "      <th>4</th>\n",
       "      <td>112101</td>\n",
       "      <td>Cultivo de algodão herbáceo</td>\n",
       "    </tr>\n",
       "  </tbody>\n",
       "</table>\n",
       "</div>"
      ],
      "text/plain": [
       "        0                                                  1\n",
       "0  111301                                   Cultivo de arroz\n",
       "1  111302                                   Cultivo de milho\n",
       "2  111303                                   Cultivo de trigo\n",
       "3  111399  Cultivo de outros cereais não especificados an...\n",
       "4  112101                        Cultivo de algodão herbáceo"
      ]
     },
     "metadata": {},
     "output_type": "display_data"
    },
    {
     "data": {
      "text/plain": [
       "'cp1256'"
      ]
     },
     "metadata": {},
     "output_type": "display_data"
    },
    {
     "data": {
      "text/plain": [
       "':\\n'"
      ]
     },
     "metadata": {},
     "output_type": "display_data"
    },
    {
     "data": {
      "text/html": [
       "<div>\n",
       "<style scoped>\n",
       "    .dataframe tbody tr th:only-of-type {\n",
       "        vertical-align: middle;\n",
       "    }\n",
       "\n",
       "    .dataframe tbody tr th {\n",
       "        vertical-align: top;\n",
       "    }\n",
       "\n",
       "    .dataframe thead th {\n",
       "        text-align: right;\n",
       "    }\n",
       "</style>\n",
       "<table border=\"1\" class=\"dataframe\">\n",
       "  <thead>\n",
       "    <tr style=\"text-align: right;\">\n",
       "      <th></th>\n",
       "      <th>0</th>\n",
       "      <th>1</th>\n",
       "    </tr>\n",
       "  </thead>\n",
       "  <tbody>\n",
       "    <tr>\n",
       "      <th>0</th>\n",
       "      <td>111301</td>\n",
       "      <td>Cultivo de arroz</td>\n",
       "    </tr>\n",
       "    <tr>\n",
       "      <th>1</th>\n",
       "      <td>111302</td>\n",
       "      <td>Cultivo de milho</td>\n",
       "    </tr>\n",
       "    <tr>\n",
       "      <th>2</th>\n",
       "      <td>111303</td>\n",
       "      <td>Cultivo de trigo</td>\n",
       "    </tr>\n",
       "    <tr>\n",
       "      <th>3</th>\n",
       "      <td>111399</td>\n",
       "      <td>Cultivo de outros cereais nمo especificados an...</td>\n",
       "    </tr>\n",
       "    <tr>\n",
       "      <th>4</th>\n",
       "      <td>112101</td>\n",
       "      <td>Cultivo de algodمo herbلceo</td>\n",
       "    </tr>\n",
       "  </tbody>\n",
       "</table>\n",
       "</div>"
      ],
      "text/plain": [
       "        0                                                  1\n",
       "0  111301                                   Cultivo de arroz\n",
       "1  111302                                   Cultivo de milho\n",
       "2  111303                                   Cultivo de trigo\n",
       "3  111399  Cultivo de outros cereais nمo especificados an...\n",
       "4  112101                        Cultivo de algodمo herbلceo"
      ]
     },
     "metadata": {},
     "output_type": "display_data"
    },
    {
     "data": {
      "text/plain": [
       "'cp1257'"
      ]
     },
     "metadata": {},
     "output_type": "display_data"
    },
    {
     "data": {
      "text/plain": [
       "':\\n'"
      ]
     },
     "metadata": {},
     "output_type": "display_data"
    },
    {
     "data": {
      "text/html": [
       "<div>\n",
       "<style scoped>\n",
       "    .dataframe tbody tr th:only-of-type {\n",
       "        vertical-align: middle;\n",
       "    }\n",
       "\n",
       "    .dataframe tbody tr th {\n",
       "        vertical-align: top;\n",
       "    }\n",
       "\n",
       "    .dataframe thead th {\n",
       "        text-align: right;\n",
       "    }\n",
       "</style>\n",
       "<table border=\"1\" class=\"dataframe\">\n",
       "  <thead>\n",
       "    <tr style=\"text-align: right;\">\n",
       "      <th></th>\n",
       "      <th>0</th>\n",
       "      <th>1</th>\n",
       "    </tr>\n",
       "  </thead>\n",
       "  <tbody>\n",
       "    <tr>\n",
       "      <th>0</th>\n",
       "      <td>111301</td>\n",
       "      <td>Cultivo de arroz</td>\n",
       "    </tr>\n",
       "    <tr>\n",
       "      <th>1</th>\n",
       "      <td>111302</td>\n",
       "      <td>Cultivo de milho</td>\n",
       "    </tr>\n",
       "    <tr>\n",
       "      <th>2</th>\n",
       "      <td>111303</td>\n",
       "      <td>Cultivo de trigo</td>\n",
       "    </tr>\n",
       "    <tr>\n",
       "      <th>3</th>\n",
       "      <td>111399</td>\n",
       "      <td>Cultivo de outros cereais nćo especificados an...</td>\n",
       "    </tr>\n",
       "    <tr>\n",
       "      <th>4</th>\n",
       "      <td>112101</td>\n",
       "      <td>Cultivo de algodćo herbįceo</td>\n",
       "    </tr>\n",
       "  </tbody>\n",
       "</table>\n",
       "</div>"
      ],
      "text/plain": [
       "        0                                                  1\n",
       "0  111301                                   Cultivo de arroz\n",
       "1  111302                                   Cultivo de milho\n",
       "2  111303                                   Cultivo de trigo\n",
       "3  111399  Cultivo de outros cereais nćo especificados an...\n",
       "4  112101                        Cultivo de algodćo herbįceo"
      ]
     },
     "metadata": {},
     "output_type": "display_data"
    },
    {
     "data": {
      "text/plain": [
       "'cp1258'"
      ]
     },
     "metadata": {},
     "output_type": "display_data"
    },
    {
     "data": {
      "text/plain": [
       "':\\n'"
      ]
     },
     "metadata": {},
     "output_type": "display_data"
    },
    {
     "data": {
      "text/html": [
       "<div>\n",
       "<style scoped>\n",
       "    .dataframe tbody tr th:only-of-type {\n",
       "        vertical-align: middle;\n",
       "    }\n",
       "\n",
       "    .dataframe tbody tr th {\n",
       "        vertical-align: top;\n",
       "    }\n",
       "\n",
       "    .dataframe thead th {\n",
       "        text-align: right;\n",
       "    }\n",
       "</style>\n",
       "<table border=\"1\" class=\"dataframe\">\n",
       "  <thead>\n",
       "    <tr style=\"text-align: right;\">\n",
       "      <th></th>\n",
       "      <th>0</th>\n",
       "      <th>1</th>\n",
       "    </tr>\n",
       "  </thead>\n",
       "  <tbody>\n",
       "    <tr>\n",
       "      <th>0</th>\n",
       "      <td>111301</td>\n",
       "      <td>Cultivo de arroz</td>\n",
       "    </tr>\n",
       "    <tr>\n",
       "      <th>1</th>\n",
       "      <td>111302</td>\n",
       "      <td>Cultivo de milho</td>\n",
       "    </tr>\n",
       "    <tr>\n",
       "      <th>2</th>\n",
       "      <td>111303</td>\n",
       "      <td>Cultivo de trigo</td>\n",
       "    </tr>\n",
       "    <tr>\n",
       "      <th>3</th>\n",
       "      <td>111399</td>\n",
       "      <td>Cultivo de outros cereais năo especificados an...</td>\n",
       "    </tr>\n",
       "    <tr>\n",
       "      <th>4</th>\n",
       "      <td>112101</td>\n",
       "      <td>Cultivo de algodăo herbáceo</td>\n",
       "    </tr>\n",
       "  </tbody>\n",
       "</table>\n",
       "</div>"
      ],
      "text/plain": [
       "        0                                                  1\n",
       "0  111301                                   Cultivo de arroz\n",
       "1  111302                                   Cultivo de milho\n",
       "2  111303                                   Cultivo de trigo\n",
       "3  111399  Cultivo de outros cereais năo especificados an...\n",
       "4  112101                        Cultivo de algodăo herbáceo"
      ]
     },
     "metadata": {},
     "output_type": "display_data"
    },
    {
     "data": {
      "text/plain": [
       "'latin_1'"
      ]
     },
     "metadata": {},
     "output_type": "display_data"
    },
    {
     "data": {
      "text/plain": [
       "':\\n'"
      ]
     },
     "metadata": {},
     "output_type": "display_data"
    },
    {
     "data": {
      "text/html": [
       "<div>\n",
       "<style scoped>\n",
       "    .dataframe tbody tr th:only-of-type {\n",
       "        vertical-align: middle;\n",
       "    }\n",
       "\n",
       "    .dataframe tbody tr th {\n",
       "        vertical-align: top;\n",
       "    }\n",
       "\n",
       "    .dataframe thead th {\n",
       "        text-align: right;\n",
       "    }\n",
       "</style>\n",
       "<table border=\"1\" class=\"dataframe\">\n",
       "  <thead>\n",
       "    <tr style=\"text-align: right;\">\n",
       "      <th></th>\n",
       "      <th>0</th>\n",
       "      <th>1</th>\n",
       "    </tr>\n",
       "  </thead>\n",
       "  <tbody>\n",
       "    <tr>\n",
       "      <th>0</th>\n",
       "      <td>111301</td>\n",
       "      <td>Cultivo de arroz</td>\n",
       "    </tr>\n",
       "    <tr>\n",
       "      <th>1</th>\n",
       "      <td>111302</td>\n",
       "      <td>Cultivo de milho</td>\n",
       "    </tr>\n",
       "    <tr>\n",
       "      <th>2</th>\n",
       "      <td>111303</td>\n",
       "      <td>Cultivo de trigo</td>\n",
       "    </tr>\n",
       "    <tr>\n",
       "      <th>3</th>\n",
       "      <td>111399</td>\n",
       "      <td>Cultivo de outros cereais não especificados an...</td>\n",
       "    </tr>\n",
       "    <tr>\n",
       "      <th>4</th>\n",
       "      <td>112101</td>\n",
       "      <td>Cultivo de algodão herbáceo</td>\n",
       "    </tr>\n",
       "  </tbody>\n",
       "</table>\n",
       "</div>"
      ],
      "text/plain": [
       "        0                                                  1\n",
       "0  111301                                   Cultivo de arroz\n",
       "1  111302                                   Cultivo de milho\n",
       "2  111303                                   Cultivo de trigo\n",
       "3  111399  Cultivo de outros cereais não especificados an...\n",
       "4  112101                        Cultivo de algodão herbáceo"
      ]
     },
     "metadata": {},
     "output_type": "display_data"
    },
    {
     "data": {
      "text/plain": [
       "'iso8859_4'"
      ]
     },
     "metadata": {},
     "output_type": "display_data"
    },
    {
     "data": {
      "text/plain": [
       "':\\n'"
      ]
     },
     "metadata": {},
     "output_type": "display_data"
    },
    {
     "data": {
      "text/html": [
       "<div>\n",
       "<style scoped>\n",
       "    .dataframe tbody tr th:only-of-type {\n",
       "        vertical-align: middle;\n",
       "    }\n",
       "\n",
       "    .dataframe tbody tr th {\n",
       "        vertical-align: top;\n",
       "    }\n",
       "\n",
       "    .dataframe thead th {\n",
       "        text-align: right;\n",
       "    }\n",
       "</style>\n",
       "<table border=\"1\" class=\"dataframe\">\n",
       "  <thead>\n",
       "    <tr style=\"text-align: right;\">\n",
       "      <th></th>\n",
       "      <th>0</th>\n",
       "      <th>1</th>\n",
       "    </tr>\n",
       "  </thead>\n",
       "  <tbody>\n",
       "    <tr>\n",
       "      <th>0</th>\n",
       "      <td>111301</td>\n",
       "      <td>Cultivo de arroz</td>\n",
       "    </tr>\n",
       "    <tr>\n",
       "      <th>1</th>\n",
       "      <td>111302</td>\n",
       "      <td>Cultivo de milho</td>\n",
       "    </tr>\n",
       "    <tr>\n",
       "      <th>2</th>\n",
       "      <td>111303</td>\n",
       "      <td>Cultivo de trigo</td>\n",
       "    </tr>\n",
       "    <tr>\n",
       "      <th>3</th>\n",
       "      <td>111399</td>\n",
       "      <td>Cultivo de outros cereais não especificados an...</td>\n",
       "    </tr>\n",
       "    <tr>\n",
       "      <th>4</th>\n",
       "      <td>112101</td>\n",
       "      <td>Cultivo de algodão herbáceo</td>\n",
       "    </tr>\n",
       "  </tbody>\n",
       "</table>\n",
       "</div>"
      ],
      "text/plain": [
       "        0                                                  1\n",
       "0  111301                                   Cultivo de arroz\n",
       "1  111302                                   Cultivo de milho\n",
       "2  111303                                   Cultivo de trigo\n",
       "3  111399  Cultivo de outros cereais não especificados an...\n",
       "4  112101                        Cultivo de algodão herbáceo"
      ]
     },
     "metadata": {},
     "output_type": "display_data"
    },
    {
     "data": {
      "text/plain": [
       "'iso8859_5'"
      ]
     },
     "metadata": {},
     "output_type": "display_data"
    },
    {
     "data": {
      "text/plain": [
       "':\\n'"
      ]
     },
     "metadata": {},
     "output_type": "display_data"
    },
    {
     "data": {
      "text/html": [
       "<div>\n",
       "<style scoped>\n",
       "    .dataframe tbody tr th:only-of-type {\n",
       "        vertical-align: middle;\n",
       "    }\n",
       "\n",
       "    .dataframe tbody tr th {\n",
       "        vertical-align: top;\n",
       "    }\n",
       "\n",
       "    .dataframe thead th {\n",
       "        text-align: right;\n",
       "    }\n",
       "</style>\n",
       "<table border=\"1\" class=\"dataframe\">\n",
       "  <thead>\n",
       "    <tr style=\"text-align: right;\">\n",
       "      <th></th>\n",
       "      <th>0</th>\n",
       "      <th>1</th>\n",
       "    </tr>\n",
       "  </thead>\n",
       "  <tbody>\n",
       "    <tr>\n",
       "      <th>0</th>\n",
       "      <td>111301</td>\n",
       "      <td>Cultivo de arroz</td>\n",
       "    </tr>\n",
       "    <tr>\n",
       "      <th>1</th>\n",
       "      <td>111302</td>\n",
       "      <td>Cultivo de milho</td>\n",
       "    </tr>\n",
       "    <tr>\n",
       "      <th>2</th>\n",
       "      <td>111303</td>\n",
       "      <td>Cultivo de trigo</td>\n",
       "    </tr>\n",
       "    <tr>\n",
       "      <th>3</th>\n",
       "      <td>111399</td>\n",
       "      <td>Cultivo de outros cereais nуo especificados an...</td>\n",
       "    </tr>\n",
       "    <tr>\n",
       "      <th>4</th>\n",
       "      <td>112101</td>\n",
       "      <td>Cultivo de algodуo herbсceo</td>\n",
       "    </tr>\n",
       "  </tbody>\n",
       "</table>\n",
       "</div>"
      ],
      "text/plain": [
       "        0                                                  1\n",
       "0  111301                                   Cultivo de arroz\n",
       "1  111302                                   Cultivo de milho\n",
       "2  111303                                   Cultivo de trigo\n",
       "3  111399  Cultivo de outros cereais nуo especificados an...\n",
       "4  112101                        Cultivo de algodуo herbсceo"
      ]
     },
     "metadata": {},
     "output_type": "display_data"
    },
    {
     "data": {
      "text/plain": [
       "'iso8859_7'"
      ]
     },
     "metadata": {},
     "output_type": "display_data"
    },
    {
     "data": {
      "text/plain": [
       "':\\n'"
      ]
     },
     "metadata": {},
     "output_type": "display_data"
    },
    {
     "data": {
      "text/html": [
       "<div>\n",
       "<style scoped>\n",
       "    .dataframe tbody tr th:only-of-type {\n",
       "        vertical-align: middle;\n",
       "    }\n",
       "\n",
       "    .dataframe tbody tr th {\n",
       "        vertical-align: top;\n",
       "    }\n",
       "\n",
       "    .dataframe thead th {\n",
       "        text-align: right;\n",
       "    }\n",
       "</style>\n",
       "<table border=\"1\" class=\"dataframe\">\n",
       "  <thead>\n",
       "    <tr style=\"text-align: right;\">\n",
       "      <th></th>\n",
       "      <th>0</th>\n",
       "      <th>1</th>\n",
       "    </tr>\n",
       "  </thead>\n",
       "  <tbody>\n",
       "    <tr>\n",
       "      <th>0</th>\n",
       "      <td>111301</td>\n",
       "      <td>Cultivo de arroz</td>\n",
       "    </tr>\n",
       "    <tr>\n",
       "      <th>1</th>\n",
       "      <td>111302</td>\n",
       "      <td>Cultivo de milho</td>\n",
       "    </tr>\n",
       "    <tr>\n",
       "      <th>2</th>\n",
       "      <td>111303</td>\n",
       "      <td>Cultivo de trigo</td>\n",
       "    </tr>\n",
       "    <tr>\n",
       "      <th>3</th>\n",
       "      <td>111399</td>\n",
       "      <td>Cultivo de outros cereais nγo especificados an...</td>\n",
       "    </tr>\n",
       "    <tr>\n",
       "      <th>4</th>\n",
       "      <td>112101</td>\n",
       "      <td>Cultivo de algodγo herbαceo</td>\n",
       "    </tr>\n",
       "  </tbody>\n",
       "</table>\n",
       "</div>"
      ],
      "text/plain": [
       "        0                                                  1\n",
       "0  111301                                   Cultivo de arroz\n",
       "1  111302                                   Cultivo de milho\n",
       "2  111303                                   Cultivo de trigo\n",
       "3  111399  Cultivo de outros cereais nγo especificados an...\n",
       "4  112101                        Cultivo de algodγo herbαceo"
      ]
     },
     "metadata": {},
     "output_type": "display_data"
    },
    {
     "data": {
      "text/plain": [
       "'iso8859_9'"
      ]
     },
     "metadata": {},
     "output_type": "display_data"
    },
    {
     "data": {
      "text/plain": [
       "':\\n'"
      ]
     },
     "metadata": {},
     "output_type": "display_data"
    },
    {
     "data": {
      "text/html": [
       "<div>\n",
       "<style scoped>\n",
       "    .dataframe tbody tr th:only-of-type {\n",
       "        vertical-align: middle;\n",
       "    }\n",
       "\n",
       "    .dataframe tbody tr th {\n",
       "        vertical-align: top;\n",
       "    }\n",
       "\n",
       "    .dataframe thead th {\n",
       "        text-align: right;\n",
       "    }\n",
       "</style>\n",
       "<table border=\"1\" class=\"dataframe\">\n",
       "  <thead>\n",
       "    <tr style=\"text-align: right;\">\n",
       "      <th></th>\n",
       "      <th>0</th>\n",
       "      <th>1</th>\n",
       "    </tr>\n",
       "  </thead>\n",
       "  <tbody>\n",
       "    <tr>\n",
       "      <th>0</th>\n",
       "      <td>111301</td>\n",
       "      <td>Cultivo de arroz</td>\n",
       "    </tr>\n",
       "    <tr>\n",
       "      <th>1</th>\n",
       "      <td>111302</td>\n",
       "      <td>Cultivo de milho</td>\n",
       "    </tr>\n",
       "    <tr>\n",
       "      <th>2</th>\n",
       "      <td>111303</td>\n",
       "      <td>Cultivo de trigo</td>\n",
       "    </tr>\n",
       "    <tr>\n",
       "      <th>3</th>\n",
       "      <td>111399</td>\n",
       "      <td>Cultivo de outros cereais não especificados an...</td>\n",
       "    </tr>\n",
       "    <tr>\n",
       "      <th>4</th>\n",
       "      <td>112101</td>\n",
       "      <td>Cultivo de algodão herbáceo</td>\n",
       "    </tr>\n",
       "  </tbody>\n",
       "</table>\n",
       "</div>"
      ],
      "text/plain": [
       "        0                                                  1\n",
       "0  111301                                   Cultivo de arroz\n",
       "1  111302                                   Cultivo de milho\n",
       "2  111303                                   Cultivo de trigo\n",
       "3  111399  Cultivo de outros cereais não especificados an...\n",
       "4  112101                        Cultivo de algodão herbáceo"
      ]
     },
     "metadata": {},
     "output_type": "display_data"
    },
    {
     "data": {
      "text/plain": [
       "'iso8859_10'"
      ]
     },
     "metadata": {},
     "output_type": "display_data"
    },
    {
     "data": {
      "text/plain": [
       "':\\n'"
      ]
     },
     "metadata": {},
     "output_type": "display_data"
    },
    {
     "data": {
      "text/html": [
       "<div>\n",
       "<style scoped>\n",
       "    .dataframe tbody tr th:only-of-type {\n",
       "        vertical-align: middle;\n",
       "    }\n",
       "\n",
       "    .dataframe tbody tr th {\n",
       "        vertical-align: top;\n",
       "    }\n",
       "\n",
       "    .dataframe thead th {\n",
       "        text-align: right;\n",
       "    }\n",
       "</style>\n",
       "<table border=\"1\" class=\"dataframe\">\n",
       "  <thead>\n",
       "    <tr style=\"text-align: right;\">\n",
       "      <th></th>\n",
       "      <th>0</th>\n",
       "      <th>1</th>\n",
       "    </tr>\n",
       "  </thead>\n",
       "  <tbody>\n",
       "    <tr>\n",
       "      <th>0</th>\n",
       "      <td>111301</td>\n",
       "      <td>Cultivo de arroz</td>\n",
       "    </tr>\n",
       "    <tr>\n",
       "      <th>1</th>\n",
       "      <td>111302</td>\n",
       "      <td>Cultivo de milho</td>\n",
       "    </tr>\n",
       "    <tr>\n",
       "      <th>2</th>\n",
       "      <td>111303</td>\n",
       "      <td>Cultivo de trigo</td>\n",
       "    </tr>\n",
       "    <tr>\n",
       "      <th>3</th>\n",
       "      <td>111399</td>\n",
       "      <td>Cultivo de outros cereais não especificados an...</td>\n",
       "    </tr>\n",
       "    <tr>\n",
       "      <th>4</th>\n",
       "      <td>112101</td>\n",
       "      <td>Cultivo de algodão herbáceo</td>\n",
       "    </tr>\n",
       "  </tbody>\n",
       "</table>\n",
       "</div>"
      ],
      "text/plain": [
       "        0                                                  1\n",
       "0  111301                                   Cultivo de arroz\n",
       "1  111302                                   Cultivo de milho\n",
       "2  111303                                   Cultivo de trigo\n",
       "3  111399  Cultivo de outros cereais não especificados an...\n",
       "4  112101                        Cultivo de algodão herbáceo"
      ]
     },
     "metadata": {},
     "output_type": "display_data"
    },
    {
     "data": {
      "text/plain": [
       "'iso8859_13'"
      ]
     },
     "metadata": {},
     "output_type": "display_data"
    },
    {
     "data": {
      "text/plain": [
       "':\\n'"
      ]
     },
     "metadata": {},
     "output_type": "display_data"
    },
    {
     "data": {
      "text/html": [
       "<div>\n",
       "<style scoped>\n",
       "    .dataframe tbody tr th:only-of-type {\n",
       "        vertical-align: middle;\n",
       "    }\n",
       "\n",
       "    .dataframe tbody tr th {\n",
       "        vertical-align: top;\n",
       "    }\n",
       "\n",
       "    .dataframe thead th {\n",
       "        text-align: right;\n",
       "    }\n",
       "</style>\n",
       "<table border=\"1\" class=\"dataframe\">\n",
       "  <thead>\n",
       "    <tr style=\"text-align: right;\">\n",
       "      <th></th>\n",
       "      <th>0</th>\n",
       "      <th>1</th>\n",
       "    </tr>\n",
       "  </thead>\n",
       "  <tbody>\n",
       "    <tr>\n",
       "      <th>0</th>\n",
       "      <td>111301</td>\n",
       "      <td>Cultivo de arroz</td>\n",
       "    </tr>\n",
       "    <tr>\n",
       "      <th>1</th>\n",
       "      <td>111302</td>\n",
       "      <td>Cultivo de milho</td>\n",
       "    </tr>\n",
       "    <tr>\n",
       "      <th>2</th>\n",
       "      <td>111303</td>\n",
       "      <td>Cultivo de trigo</td>\n",
       "    </tr>\n",
       "    <tr>\n",
       "      <th>3</th>\n",
       "      <td>111399</td>\n",
       "      <td>Cultivo de outros cereais nćo especificados an...</td>\n",
       "    </tr>\n",
       "    <tr>\n",
       "      <th>4</th>\n",
       "      <td>112101</td>\n",
       "      <td>Cultivo de algodćo herbįceo</td>\n",
       "    </tr>\n",
       "  </tbody>\n",
       "</table>\n",
       "</div>"
      ],
      "text/plain": [
       "        0                                                  1\n",
       "0  111301                                   Cultivo de arroz\n",
       "1  111302                                   Cultivo de milho\n",
       "2  111303                                   Cultivo de trigo\n",
       "3  111399  Cultivo de outros cereais nćo especificados an...\n",
       "4  112101                        Cultivo de algodćo herbįceo"
      ]
     },
     "metadata": {},
     "output_type": "display_data"
    },
    {
     "data": {
      "text/plain": [
       "'iso8859_14'"
      ]
     },
     "metadata": {},
     "output_type": "display_data"
    },
    {
     "data": {
      "text/plain": [
       "':\\n'"
      ]
     },
     "metadata": {},
     "output_type": "display_data"
    },
    {
     "data": {
      "text/html": [
       "<div>\n",
       "<style scoped>\n",
       "    .dataframe tbody tr th:only-of-type {\n",
       "        vertical-align: middle;\n",
       "    }\n",
       "\n",
       "    .dataframe tbody tr th {\n",
       "        vertical-align: top;\n",
       "    }\n",
       "\n",
       "    .dataframe thead th {\n",
       "        text-align: right;\n",
       "    }\n",
       "</style>\n",
       "<table border=\"1\" class=\"dataframe\">\n",
       "  <thead>\n",
       "    <tr style=\"text-align: right;\">\n",
       "      <th></th>\n",
       "      <th>0</th>\n",
       "      <th>1</th>\n",
       "    </tr>\n",
       "  </thead>\n",
       "  <tbody>\n",
       "    <tr>\n",
       "      <th>0</th>\n",
       "      <td>111301</td>\n",
       "      <td>Cultivo de arroz</td>\n",
       "    </tr>\n",
       "    <tr>\n",
       "      <th>1</th>\n",
       "      <td>111302</td>\n",
       "      <td>Cultivo de milho</td>\n",
       "    </tr>\n",
       "    <tr>\n",
       "      <th>2</th>\n",
       "      <td>111303</td>\n",
       "      <td>Cultivo de trigo</td>\n",
       "    </tr>\n",
       "    <tr>\n",
       "      <th>3</th>\n",
       "      <td>111399</td>\n",
       "      <td>Cultivo de outros cereais não especificados an...</td>\n",
       "    </tr>\n",
       "    <tr>\n",
       "      <th>4</th>\n",
       "      <td>112101</td>\n",
       "      <td>Cultivo de algodão herbáceo</td>\n",
       "    </tr>\n",
       "  </tbody>\n",
       "</table>\n",
       "</div>"
      ],
      "text/plain": [
       "        0                                                  1\n",
       "0  111301                                   Cultivo de arroz\n",
       "1  111302                                   Cultivo de milho\n",
       "2  111303                                   Cultivo de trigo\n",
       "3  111399  Cultivo de outros cereais não especificados an...\n",
       "4  112101                        Cultivo de algodão herbáceo"
      ]
     },
     "metadata": {},
     "output_type": "display_data"
    },
    {
     "data": {
      "text/plain": [
       "'iso8859_15'"
      ]
     },
     "metadata": {},
     "output_type": "display_data"
    },
    {
     "data": {
      "text/plain": [
       "':\\n'"
      ]
     },
     "metadata": {},
     "output_type": "display_data"
    },
    {
     "data": {
      "text/html": [
       "<div>\n",
       "<style scoped>\n",
       "    .dataframe tbody tr th:only-of-type {\n",
       "        vertical-align: middle;\n",
       "    }\n",
       "\n",
       "    .dataframe tbody tr th {\n",
       "        vertical-align: top;\n",
       "    }\n",
       "\n",
       "    .dataframe thead th {\n",
       "        text-align: right;\n",
       "    }\n",
       "</style>\n",
       "<table border=\"1\" class=\"dataframe\">\n",
       "  <thead>\n",
       "    <tr style=\"text-align: right;\">\n",
       "      <th></th>\n",
       "      <th>0</th>\n",
       "      <th>1</th>\n",
       "    </tr>\n",
       "  </thead>\n",
       "  <tbody>\n",
       "    <tr>\n",
       "      <th>0</th>\n",
       "      <td>111301</td>\n",
       "      <td>Cultivo de arroz</td>\n",
       "    </tr>\n",
       "    <tr>\n",
       "      <th>1</th>\n",
       "      <td>111302</td>\n",
       "      <td>Cultivo de milho</td>\n",
       "    </tr>\n",
       "    <tr>\n",
       "      <th>2</th>\n",
       "      <td>111303</td>\n",
       "      <td>Cultivo de trigo</td>\n",
       "    </tr>\n",
       "    <tr>\n",
       "      <th>3</th>\n",
       "      <td>111399</td>\n",
       "      <td>Cultivo de outros cereais não especificados an...</td>\n",
       "    </tr>\n",
       "    <tr>\n",
       "      <th>4</th>\n",
       "      <td>112101</td>\n",
       "      <td>Cultivo de algodão herbáceo</td>\n",
       "    </tr>\n",
       "  </tbody>\n",
       "</table>\n",
       "</div>"
      ],
      "text/plain": [
       "        0                                                  1\n",
       "0  111301                                   Cultivo de arroz\n",
       "1  111302                                   Cultivo de milho\n",
       "2  111303                                   Cultivo de trigo\n",
       "3  111399  Cultivo de outros cereais não especificados an...\n",
       "4  112101                        Cultivo de algodão herbáceo"
      ]
     },
     "metadata": {},
     "output_type": "display_data"
    },
    {
     "data": {
      "text/plain": [
       "'iso8859_16'"
      ]
     },
     "metadata": {},
     "output_type": "display_data"
    },
    {
     "data": {
      "text/plain": [
       "':\\n'"
      ]
     },
     "metadata": {},
     "output_type": "display_data"
    },
    {
     "data": {
      "text/html": [
       "<div>\n",
       "<style scoped>\n",
       "    .dataframe tbody tr th:only-of-type {\n",
       "        vertical-align: middle;\n",
       "    }\n",
       "\n",
       "    .dataframe tbody tr th {\n",
       "        vertical-align: top;\n",
       "    }\n",
       "\n",
       "    .dataframe thead th {\n",
       "        text-align: right;\n",
       "    }\n",
       "</style>\n",
       "<table border=\"1\" class=\"dataframe\">\n",
       "  <thead>\n",
       "    <tr style=\"text-align: right;\">\n",
       "      <th></th>\n",
       "      <th>0</th>\n",
       "      <th>1</th>\n",
       "    </tr>\n",
       "  </thead>\n",
       "  <tbody>\n",
       "    <tr>\n",
       "      <th>0</th>\n",
       "      <td>111301</td>\n",
       "      <td>Cultivo de arroz</td>\n",
       "    </tr>\n",
       "    <tr>\n",
       "      <th>1</th>\n",
       "      <td>111302</td>\n",
       "      <td>Cultivo de milho</td>\n",
       "    </tr>\n",
       "    <tr>\n",
       "      <th>2</th>\n",
       "      <td>111303</td>\n",
       "      <td>Cultivo de trigo</td>\n",
       "    </tr>\n",
       "    <tr>\n",
       "      <th>3</th>\n",
       "      <td>111399</td>\n",
       "      <td>Cultivo de outros cereais năo especificados an...</td>\n",
       "    </tr>\n",
       "    <tr>\n",
       "      <th>4</th>\n",
       "      <td>112101</td>\n",
       "      <td>Cultivo de algodăo herbáceo</td>\n",
       "    </tr>\n",
       "  </tbody>\n",
       "</table>\n",
       "</div>"
      ],
      "text/plain": [
       "        0                                                  1\n",
       "0  111301                                   Cultivo de arroz\n",
       "1  111302                                   Cultivo de milho\n",
       "2  111303                                   Cultivo de trigo\n",
       "3  111399  Cultivo de outros cereais năo especificados an...\n",
       "4  112101                        Cultivo de algodăo herbáceo"
      ]
     },
     "metadata": {},
     "output_type": "display_data"
    },
    {
     "data": {
      "text/plain": [
       "'koi8_r'"
      ]
     },
     "metadata": {},
     "output_type": "display_data"
    },
    {
     "data": {
      "text/plain": [
       "':\\n'"
      ]
     },
     "metadata": {},
     "output_type": "display_data"
    },
    {
     "data": {
      "text/html": [
       "<div>\n",
       "<style scoped>\n",
       "    .dataframe tbody tr th:only-of-type {\n",
       "        vertical-align: middle;\n",
       "    }\n",
       "\n",
       "    .dataframe tbody tr th {\n",
       "        vertical-align: top;\n",
       "    }\n",
       "\n",
       "    .dataframe thead th {\n",
       "        text-align: right;\n",
       "    }\n",
       "</style>\n",
       "<table border=\"1\" class=\"dataframe\">\n",
       "  <thead>\n",
       "    <tr style=\"text-align: right;\">\n",
       "      <th></th>\n",
       "      <th>0</th>\n",
       "      <th>1</th>\n",
       "    </tr>\n",
       "  </thead>\n",
       "  <tbody>\n",
       "    <tr>\n",
       "      <th>0</th>\n",
       "      <td>111301</td>\n",
       "      <td>Cultivo de arroz</td>\n",
       "    </tr>\n",
       "    <tr>\n",
       "      <th>1</th>\n",
       "      <td>111302</td>\n",
       "      <td>Cultivo de milho</td>\n",
       "    </tr>\n",
       "    <tr>\n",
       "      <th>2</th>\n",
       "      <td>111303</td>\n",
       "      <td>Cultivo de trigo</td>\n",
       "    </tr>\n",
       "    <tr>\n",
       "      <th>3</th>\n",
       "      <td>111399</td>\n",
       "      <td>Cultivo de outros cereais nЦo especificados an...</td>\n",
       "    </tr>\n",
       "    <tr>\n",
       "      <th>4</th>\n",
       "      <td>112101</td>\n",
       "      <td>Cultivo de algodЦo herbАceo</td>\n",
       "    </tr>\n",
       "  </tbody>\n",
       "</table>\n",
       "</div>"
      ],
      "text/plain": [
       "        0                                                  1\n",
       "0  111301                                   Cultivo de arroz\n",
       "1  111302                                   Cultivo de milho\n",
       "2  111303                                   Cultivo de trigo\n",
       "3  111399  Cultivo de outros cereais nЦo especificados an...\n",
       "4  112101                        Cultivo de algodЦo herbАceo"
      ]
     },
     "metadata": {},
     "output_type": "display_data"
    },
    {
     "data": {
      "text/plain": [
       "'koi8_t'"
      ]
     },
     "metadata": {},
     "output_type": "display_data"
    },
    {
     "data": {
      "text/plain": [
       "':\\n'"
      ]
     },
     "metadata": {},
     "output_type": "display_data"
    },
    {
     "data": {
      "text/html": [
       "<div>\n",
       "<style scoped>\n",
       "    .dataframe tbody tr th:only-of-type {\n",
       "        vertical-align: middle;\n",
       "    }\n",
       "\n",
       "    .dataframe tbody tr th {\n",
       "        vertical-align: top;\n",
       "    }\n",
       "\n",
       "    .dataframe thead th {\n",
       "        text-align: right;\n",
       "    }\n",
       "</style>\n",
       "<table border=\"1\" class=\"dataframe\">\n",
       "  <thead>\n",
       "    <tr style=\"text-align: right;\">\n",
       "      <th></th>\n",
       "      <th>0</th>\n",
       "      <th>1</th>\n",
       "    </tr>\n",
       "  </thead>\n",
       "  <tbody>\n",
       "    <tr>\n",
       "      <th>0</th>\n",
       "      <td>111301</td>\n",
       "      <td>Cultivo de arroz</td>\n",
       "    </tr>\n",
       "    <tr>\n",
       "      <th>1</th>\n",
       "      <td>111302</td>\n",
       "      <td>Cultivo de milho</td>\n",
       "    </tr>\n",
       "    <tr>\n",
       "      <th>2</th>\n",
       "      <td>111303</td>\n",
       "      <td>Cultivo de trigo</td>\n",
       "    </tr>\n",
       "    <tr>\n",
       "      <th>3</th>\n",
       "      <td>111399</td>\n",
       "      <td>Cultivo de outros cereais nЦo especificados an...</td>\n",
       "    </tr>\n",
       "    <tr>\n",
       "      <th>4</th>\n",
       "      <td>112101</td>\n",
       "      <td>Cultivo de algodЦo herbАceo</td>\n",
       "    </tr>\n",
       "  </tbody>\n",
       "</table>\n",
       "</div>"
      ],
      "text/plain": [
       "        0                                                  1\n",
       "0  111301                                   Cultivo de arroz\n",
       "1  111302                                   Cultivo de milho\n",
       "2  111303                                   Cultivo de trigo\n",
       "3  111399  Cultivo de outros cereais nЦo especificados an...\n",
       "4  112101                        Cultivo de algodЦo herbАceo"
      ]
     },
     "metadata": {},
     "output_type": "display_data"
    },
    {
     "data": {
      "text/plain": [
       "'koi8_u'"
      ]
     },
     "metadata": {},
     "output_type": "display_data"
    },
    {
     "data": {
      "text/plain": [
       "':\\n'"
      ]
     },
     "metadata": {},
     "output_type": "display_data"
    },
    {
     "data": {
      "text/html": [
       "<div>\n",
       "<style scoped>\n",
       "    .dataframe tbody tr th:only-of-type {\n",
       "        vertical-align: middle;\n",
       "    }\n",
       "\n",
       "    .dataframe tbody tr th {\n",
       "        vertical-align: top;\n",
       "    }\n",
       "\n",
       "    .dataframe thead th {\n",
       "        text-align: right;\n",
       "    }\n",
       "</style>\n",
       "<table border=\"1\" class=\"dataframe\">\n",
       "  <thead>\n",
       "    <tr style=\"text-align: right;\">\n",
       "      <th></th>\n",
       "      <th>0</th>\n",
       "      <th>1</th>\n",
       "    </tr>\n",
       "  </thead>\n",
       "  <tbody>\n",
       "    <tr>\n",
       "      <th>0</th>\n",
       "      <td>111301</td>\n",
       "      <td>Cultivo de arroz</td>\n",
       "    </tr>\n",
       "    <tr>\n",
       "      <th>1</th>\n",
       "      <td>111302</td>\n",
       "      <td>Cultivo de milho</td>\n",
       "    </tr>\n",
       "    <tr>\n",
       "      <th>2</th>\n",
       "      <td>111303</td>\n",
       "      <td>Cultivo de trigo</td>\n",
       "    </tr>\n",
       "    <tr>\n",
       "      <th>3</th>\n",
       "      <td>111399</td>\n",
       "      <td>Cultivo de outros cereais nЦo especificados an...</td>\n",
       "    </tr>\n",
       "    <tr>\n",
       "      <th>4</th>\n",
       "      <td>112101</td>\n",
       "      <td>Cultivo de algodЦo herbАceo</td>\n",
       "    </tr>\n",
       "  </tbody>\n",
       "</table>\n",
       "</div>"
      ],
      "text/plain": [
       "        0                                                  1\n",
       "0  111301                                   Cultivo de arroz\n",
       "1  111302                                   Cultivo de milho\n",
       "2  111303                                   Cultivo de trigo\n",
       "3  111399  Cultivo de outros cereais nЦo especificados an...\n",
       "4  112101                        Cultivo de algodЦo herbАceo"
      ]
     },
     "metadata": {},
     "output_type": "display_data"
    },
    {
     "data": {
      "text/plain": [
       "'kz1048'"
      ]
     },
     "metadata": {},
     "output_type": "display_data"
    },
    {
     "data": {
      "text/plain": [
       "':\\n'"
      ]
     },
     "metadata": {},
     "output_type": "display_data"
    },
    {
     "data": {
      "text/html": [
       "<div>\n",
       "<style scoped>\n",
       "    .dataframe tbody tr th:only-of-type {\n",
       "        vertical-align: middle;\n",
       "    }\n",
       "\n",
       "    .dataframe tbody tr th {\n",
       "        vertical-align: top;\n",
       "    }\n",
       "\n",
       "    .dataframe thead th {\n",
       "        text-align: right;\n",
       "    }\n",
       "</style>\n",
       "<table border=\"1\" class=\"dataframe\">\n",
       "  <thead>\n",
       "    <tr style=\"text-align: right;\">\n",
       "      <th></th>\n",
       "      <th>0</th>\n",
       "      <th>1</th>\n",
       "    </tr>\n",
       "  </thead>\n",
       "  <tbody>\n",
       "    <tr>\n",
       "      <th>0</th>\n",
       "      <td>111301</td>\n",
       "      <td>Cultivo de arroz</td>\n",
       "    </tr>\n",
       "    <tr>\n",
       "      <th>1</th>\n",
       "      <td>111302</td>\n",
       "      <td>Cultivo de milho</td>\n",
       "    </tr>\n",
       "    <tr>\n",
       "      <th>2</th>\n",
       "      <td>111303</td>\n",
       "      <td>Cultivo de trigo</td>\n",
       "    </tr>\n",
       "    <tr>\n",
       "      <th>3</th>\n",
       "      <td>111399</td>\n",
       "      <td>Cultivo de outros cereais nгo especificados an...</td>\n",
       "    </tr>\n",
       "    <tr>\n",
       "      <th>4</th>\n",
       "      <td>112101</td>\n",
       "      <td>Cultivo de algodгo herbбceo</td>\n",
       "    </tr>\n",
       "  </tbody>\n",
       "</table>\n",
       "</div>"
      ],
      "text/plain": [
       "        0                                                  1\n",
       "0  111301                                   Cultivo de arroz\n",
       "1  111302                                   Cultivo de milho\n",
       "2  111303                                   Cultivo de trigo\n",
       "3  111399  Cultivo de outros cereais nгo especificados an...\n",
       "4  112101                        Cultivo de algodгo herbбceo"
      ]
     },
     "metadata": {},
     "output_type": "display_data"
    },
    {
     "data": {
      "text/plain": [
       "'mac_cyrillic'"
      ]
     },
     "metadata": {},
     "output_type": "display_data"
    },
    {
     "data": {
      "text/plain": [
       "':\\n'"
      ]
     },
     "metadata": {},
     "output_type": "display_data"
    },
    {
     "data": {
      "text/html": [
       "<div>\n",
       "<style scoped>\n",
       "    .dataframe tbody tr th:only-of-type {\n",
       "        vertical-align: middle;\n",
       "    }\n",
       "\n",
       "    .dataframe tbody tr th {\n",
       "        vertical-align: top;\n",
       "    }\n",
       "\n",
       "    .dataframe thead th {\n",
       "        text-align: right;\n",
       "    }\n",
       "</style>\n",
       "<table border=\"1\" class=\"dataframe\">\n",
       "  <thead>\n",
       "    <tr style=\"text-align: right;\">\n",
       "      <th></th>\n",
       "      <th>0</th>\n",
       "      <th>1</th>\n",
       "    </tr>\n",
       "  </thead>\n",
       "  <tbody>\n",
       "    <tr>\n",
       "      <th>0</th>\n",
       "      <td>111301</td>\n",
       "      <td>Cultivo de arroz</td>\n",
       "    </tr>\n",
       "    <tr>\n",
       "      <th>1</th>\n",
       "      <td>111302</td>\n",
       "      <td>Cultivo de milho</td>\n",
       "    </tr>\n",
       "    <tr>\n",
       "      <th>2</th>\n",
       "      <td>111303</td>\n",
       "      <td>Cultivo de trigo</td>\n",
       "    </tr>\n",
       "    <tr>\n",
       "      <th>3</th>\n",
       "      <td>111399</td>\n",
       "      <td>Cultivo de outros cereais nгo especificados an...</td>\n",
       "    </tr>\n",
       "    <tr>\n",
       "      <th>4</th>\n",
       "      <td>112101</td>\n",
       "      <td>Cultivo de algodгo herbбceo</td>\n",
       "    </tr>\n",
       "  </tbody>\n",
       "</table>\n",
       "</div>"
      ],
      "text/plain": [
       "        0                                                  1\n",
       "0  111301                                   Cultivo de arroz\n",
       "1  111302                                   Cultivo de milho\n",
       "2  111303                                   Cultivo de trigo\n",
       "3  111399  Cultivo de outros cereais nгo especificados an...\n",
       "4  112101                        Cultivo de algodгo herbбceo"
      ]
     },
     "metadata": {},
     "output_type": "display_data"
    },
    {
     "data": {
      "text/plain": [
       "'mac_greek'"
      ]
     },
     "metadata": {},
     "output_type": "display_data"
    },
    {
     "data": {
      "text/plain": [
       "':\\n'"
      ]
     },
     "metadata": {},
     "output_type": "display_data"
    },
    {
     "data": {
      "text/html": [
       "<div>\n",
       "<style scoped>\n",
       "    .dataframe tbody tr th:only-of-type {\n",
       "        vertical-align: middle;\n",
       "    }\n",
       "\n",
       "    .dataframe tbody tr th {\n",
       "        vertical-align: top;\n",
       "    }\n",
       "\n",
       "    .dataframe thead th {\n",
       "        text-align: right;\n",
       "    }\n",
       "</style>\n",
       "<table border=\"1\" class=\"dataframe\">\n",
       "  <thead>\n",
       "    <tr style=\"text-align: right;\">\n",
       "      <th></th>\n",
       "      <th>0</th>\n",
       "      <th>1</th>\n",
       "    </tr>\n",
       "  </thead>\n",
       "  <tbody>\n",
       "    <tr>\n",
       "      <th>0</th>\n",
       "      <td>111301</td>\n",
       "      <td>Cultivo de arroz</td>\n",
       "    </tr>\n",
       "    <tr>\n",
       "      <th>1</th>\n",
       "      <td>111302</td>\n",
       "      <td>Cultivo de milho</td>\n",
       "    </tr>\n",
       "    <tr>\n",
       "      <th>2</th>\n",
       "      <td>111303</td>\n",
       "      <td>Cultivo de trigo</td>\n",
       "    </tr>\n",
       "    <tr>\n",
       "      <th>3</th>\n",
       "      <td>111399</td>\n",
       "      <td>Cultivo de outros cereais nψo especificados an...</td>\n",
       "    </tr>\n",
       "    <tr>\n",
       "      <th>4</th>\n",
       "      <td>112101</td>\n",
       "      <td>Cultivo de algodψo herbαceo</td>\n",
       "    </tr>\n",
       "  </tbody>\n",
       "</table>\n",
       "</div>"
      ],
      "text/plain": [
       "        0                                                  1\n",
       "0  111301                                   Cultivo de arroz\n",
       "1  111302                                   Cultivo de milho\n",
       "2  111303                                   Cultivo de trigo\n",
       "3  111399  Cultivo de outros cereais nψo especificados an...\n",
       "4  112101                        Cultivo de algodψo herbαceo"
      ]
     },
     "metadata": {},
     "output_type": "display_data"
    },
    {
     "data": {
      "text/plain": [
       "'mac_iceland'"
      ]
     },
     "metadata": {},
     "output_type": "display_data"
    },
    {
     "data": {
      "text/plain": [
       "':\\n'"
      ]
     },
     "metadata": {},
     "output_type": "display_data"
    },
    {
     "data": {
      "text/html": [
       "<div>\n",
       "<style scoped>\n",
       "    .dataframe tbody tr th:only-of-type {\n",
       "        vertical-align: middle;\n",
       "    }\n",
       "\n",
       "    .dataframe tbody tr th {\n",
       "        vertical-align: top;\n",
       "    }\n",
       "\n",
       "    .dataframe thead th {\n",
       "        text-align: right;\n",
       "    }\n",
       "</style>\n",
       "<table border=\"1\" class=\"dataframe\">\n",
       "  <thead>\n",
       "    <tr style=\"text-align: right;\">\n",
       "      <th></th>\n",
       "      <th>0</th>\n",
       "      <th>1</th>\n",
       "    </tr>\n",
       "  </thead>\n",
       "  <tbody>\n",
       "    <tr>\n",
       "      <th>0</th>\n",
       "      <td>111301</td>\n",
       "      <td>Cultivo de arroz</td>\n",
       "    </tr>\n",
       "    <tr>\n",
       "      <th>1</th>\n",
       "      <td>111302</td>\n",
       "      <td>Cultivo de milho</td>\n",
       "    </tr>\n",
       "    <tr>\n",
       "      <th>2</th>\n",
       "      <td>111303</td>\n",
       "      <td>Cultivo de trigo</td>\n",
       "    </tr>\n",
       "    <tr>\n",
       "      <th>3</th>\n",
       "      <td>111399</td>\n",
       "      <td>Cultivo de outros cereais n„o especificados an...</td>\n",
       "    </tr>\n",
       "    <tr>\n",
       "      <th>4</th>\n",
       "      <td>112101</td>\n",
       "      <td>Cultivo de algod„o herb·ceo</td>\n",
       "    </tr>\n",
       "  </tbody>\n",
       "</table>\n",
       "</div>"
      ],
      "text/plain": [
       "        0                                                  1\n",
       "0  111301                                   Cultivo de arroz\n",
       "1  111302                                   Cultivo de milho\n",
       "2  111303                                   Cultivo de trigo\n",
       "3  111399  Cultivo de outros cereais n„o especificados an...\n",
       "4  112101                        Cultivo de algod„o herb·ceo"
      ]
     },
     "metadata": {},
     "output_type": "display_data"
    },
    {
     "data": {
      "text/plain": [
       "'mac_latin2'"
      ]
     },
     "metadata": {},
     "output_type": "display_data"
    },
    {
     "data": {
      "text/plain": [
       "':\\n'"
      ]
     },
     "metadata": {},
     "output_type": "display_data"
    },
    {
     "data": {
      "text/html": [
       "<div>\n",
       "<style scoped>\n",
       "    .dataframe tbody tr th:only-of-type {\n",
       "        vertical-align: middle;\n",
       "    }\n",
       "\n",
       "    .dataframe tbody tr th {\n",
       "        vertical-align: top;\n",
       "    }\n",
       "\n",
       "    .dataframe thead th {\n",
       "        text-align: right;\n",
       "    }\n",
       "</style>\n",
       "<table border=\"1\" class=\"dataframe\">\n",
       "  <thead>\n",
       "    <tr style=\"text-align: right;\">\n",
       "      <th></th>\n",
       "      <th>0</th>\n",
       "      <th>1</th>\n",
       "    </tr>\n",
       "  </thead>\n",
       "  <tbody>\n",
       "    <tr>\n",
       "      <th>0</th>\n",
       "      <td>111301</td>\n",
       "      <td>Cultivo de arroz</td>\n",
       "    </tr>\n",
       "    <tr>\n",
       "      <th>1</th>\n",
       "      <td>111302</td>\n",
       "      <td>Cultivo de milho</td>\n",
       "    </tr>\n",
       "    <tr>\n",
       "      <th>2</th>\n",
       "      <td>111303</td>\n",
       "      <td>Cultivo de trigo</td>\n",
       "    </tr>\n",
       "    <tr>\n",
       "      <th>3</th>\n",
       "      <td>111399</td>\n",
       "      <td>Cultivo de outros cereais n„o especificados an...</td>\n",
       "    </tr>\n",
       "    <tr>\n",
       "      <th>4</th>\n",
       "      <td>112101</td>\n",
       "      <td>Cultivo de algod„o herbŠceo</td>\n",
       "    </tr>\n",
       "  </tbody>\n",
       "</table>\n",
       "</div>"
      ],
      "text/plain": [
       "        0                                                  1\n",
       "0  111301                                   Cultivo de arroz\n",
       "1  111302                                   Cultivo de milho\n",
       "2  111303                                   Cultivo de trigo\n",
       "3  111399  Cultivo de outros cereais n„o especificados an...\n",
       "4  112101                        Cultivo de algod„o herbŠceo"
      ]
     },
     "metadata": {},
     "output_type": "display_data"
    },
    {
     "data": {
      "text/plain": [
       "'mac_roman'"
      ]
     },
     "metadata": {},
     "output_type": "display_data"
    },
    {
     "data": {
      "text/plain": [
       "':\\n'"
      ]
     },
     "metadata": {},
     "output_type": "display_data"
    },
    {
     "data": {
      "text/html": [
       "<div>\n",
       "<style scoped>\n",
       "    .dataframe tbody tr th:only-of-type {\n",
       "        vertical-align: middle;\n",
       "    }\n",
       "\n",
       "    .dataframe tbody tr th {\n",
       "        vertical-align: top;\n",
       "    }\n",
       "\n",
       "    .dataframe thead th {\n",
       "        text-align: right;\n",
       "    }\n",
       "</style>\n",
       "<table border=\"1\" class=\"dataframe\">\n",
       "  <thead>\n",
       "    <tr style=\"text-align: right;\">\n",
       "      <th></th>\n",
       "      <th>0</th>\n",
       "      <th>1</th>\n",
       "    </tr>\n",
       "  </thead>\n",
       "  <tbody>\n",
       "    <tr>\n",
       "      <th>0</th>\n",
       "      <td>111301</td>\n",
       "      <td>Cultivo de arroz</td>\n",
       "    </tr>\n",
       "    <tr>\n",
       "      <th>1</th>\n",
       "      <td>111302</td>\n",
       "      <td>Cultivo de milho</td>\n",
       "    </tr>\n",
       "    <tr>\n",
       "      <th>2</th>\n",
       "      <td>111303</td>\n",
       "      <td>Cultivo de trigo</td>\n",
       "    </tr>\n",
       "    <tr>\n",
       "      <th>3</th>\n",
       "      <td>111399</td>\n",
       "      <td>Cultivo de outros cereais n„o especificados an...</td>\n",
       "    </tr>\n",
       "    <tr>\n",
       "      <th>4</th>\n",
       "      <td>112101</td>\n",
       "      <td>Cultivo de algod„o herb·ceo</td>\n",
       "    </tr>\n",
       "  </tbody>\n",
       "</table>\n",
       "</div>"
      ],
      "text/plain": [
       "        0                                                  1\n",
       "0  111301                                   Cultivo de arroz\n",
       "1  111302                                   Cultivo de milho\n",
       "2  111303                                   Cultivo de trigo\n",
       "3  111399  Cultivo de outros cereais n„o especificados an...\n",
       "4  112101                        Cultivo de algod„o herb·ceo"
      ]
     },
     "metadata": {},
     "output_type": "display_data"
    },
    {
     "data": {
      "text/plain": [
       "'mac_turkish'"
      ]
     },
     "metadata": {},
     "output_type": "display_data"
    },
    {
     "data": {
      "text/plain": [
       "':\\n'"
      ]
     },
     "metadata": {},
     "output_type": "display_data"
    },
    {
     "data": {
      "text/html": [
       "<div>\n",
       "<style scoped>\n",
       "    .dataframe tbody tr th:only-of-type {\n",
       "        vertical-align: middle;\n",
       "    }\n",
       "\n",
       "    .dataframe tbody tr th {\n",
       "        vertical-align: top;\n",
       "    }\n",
       "\n",
       "    .dataframe thead th {\n",
       "        text-align: right;\n",
       "    }\n",
       "</style>\n",
       "<table border=\"1\" class=\"dataframe\">\n",
       "  <thead>\n",
       "    <tr style=\"text-align: right;\">\n",
       "      <th></th>\n",
       "      <th>0</th>\n",
       "      <th>1</th>\n",
       "    </tr>\n",
       "  </thead>\n",
       "  <tbody>\n",
       "    <tr>\n",
       "      <th>0</th>\n",
       "      <td>111301</td>\n",
       "      <td>Cultivo de arroz</td>\n",
       "    </tr>\n",
       "    <tr>\n",
       "      <th>1</th>\n",
       "      <td>111302</td>\n",
       "      <td>Cultivo de milho</td>\n",
       "    </tr>\n",
       "    <tr>\n",
       "      <th>2</th>\n",
       "      <td>111303</td>\n",
       "      <td>Cultivo de trigo</td>\n",
       "    </tr>\n",
       "    <tr>\n",
       "      <th>3</th>\n",
       "      <td>111399</td>\n",
       "      <td>Cultivo de outros cereais n„o especificados an...</td>\n",
       "    </tr>\n",
       "    <tr>\n",
       "      <th>4</th>\n",
       "      <td>112101</td>\n",
       "      <td>Cultivo de algod„o herb·ceo</td>\n",
       "    </tr>\n",
       "  </tbody>\n",
       "</table>\n",
       "</div>"
      ],
      "text/plain": [
       "        0                                                  1\n",
       "0  111301                                   Cultivo de arroz\n",
       "1  111302                                   Cultivo de milho\n",
       "2  111303                                   Cultivo de trigo\n",
       "3  111399  Cultivo de outros cereais n„o especificados an...\n",
       "4  112101                        Cultivo de algod„o herb·ceo"
      ]
     },
     "metadata": {},
     "output_type": "display_data"
    },
    {
     "data": {
      "text/plain": [
       "'ptcp154'"
      ]
     },
     "metadata": {},
     "output_type": "display_data"
    },
    {
     "data": {
      "text/plain": [
       "':\\n'"
      ]
     },
     "metadata": {},
     "output_type": "display_data"
    },
    {
     "data": {
      "text/html": [
       "<div>\n",
       "<style scoped>\n",
       "    .dataframe tbody tr th:only-of-type {\n",
       "        vertical-align: middle;\n",
       "    }\n",
       "\n",
       "    .dataframe tbody tr th {\n",
       "        vertical-align: top;\n",
       "    }\n",
       "\n",
       "    .dataframe thead th {\n",
       "        text-align: right;\n",
       "    }\n",
       "</style>\n",
       "<table border=\"1\" class=\"dataframe\">\n",
       "  <thead>\n",
       "    <tr style=\"text-align: right;\">\n",
       "      <th></th>\n",
       "      <th>0</th>\n",
       "      <th>1</th>\n",
       "    </tr>\n",
       "  </thead>\n",
       "  <tbody>\n",
       "    <tr>\n",
       "      <th>0</th>\n",
       "      <td>111301</td>\n",
       "      <td>Cultivo de arroz</td>\n",
       "    </tr>\n",
       "    <tr>\n",
       "      <th>1</th>\n",
       "      <td>111302</td>\n",
       "      <td>Cultivo de milho</td>\n",
       "    </tr>\n",
       "    <tr>\n",
       "      <th>2</th>\n",
       "      <td>111303</td>\n",
       "      <td>Cultivo de trigo</td>\n",
       "    </tr>\n",
       "    <tr>\n",
       "      <th>3</th>\n",
       "      <td>111399</td>\n",
       "      <td>Cultivo de outros cereais nгo especificados an...</td>\n",
       "    </tr>\n",
       "    <tr>\n",
       "      <th>4</th>\n",
       "      <td>112101</td>\n",
       "      <td>Cultivo de algodгo herbбceo</td>\n",
       "    </tr>\n",
       "  </tbody>\n",
       "</table>\n",
       "</div>"
      ],
      "text/plain": [
       "        0                                                  1\n",
       "0  111301                                   Cultivo de arroz\n",
       "1  111302                                   Cultivo de milho\n",
       "2  111303                                   Cultivo de trigo\n",
       "3  111399  Cultivo de outros cereais nгo especificados an...\n",
       "4  112101                        Cultivo de algodгo herbбceo"
      ]
     },
     "metadata": {},
     "output_type": "display_data"
    }
   ],
   "source": [
    "encoding_list = ['ascii', 'big5', 'big5hkscs', 'cp037', 'cp273', 'cp424', 'cp437', 'cp500', 'cp720', 'cp737'\n",
    "                 , 'cp775', 'cp850', 'cp852', 'cp855', 'cp856', 'cp857', 'cp858', 'cp860', 'cp861', 'cp862'\n",
    "                 , 'cp863', 'cp864', 'cp865', 'cp866', 'cp869', 'cp874', 'cp875', 'cp932', 'cp949', 'cp950'\n",
    "                 , 'cp1006', 'cp1026', 'cp1125', 'cp1140', 'cp1250', 'cp1251', 'cp1252', 'cp1253', 'cp1254'\n",
    "                 , 'cp1255', 'cp1256', 'cp1257', 'cp1258', 'euc_jp', 'euc_jis_2004', 'euc_jisx0213', 'euc_kr'\n",
    "                 , 'gb2312', 'gbk', 'gb18030', 'hz', 'iso2022_jp', 'iso2022_jp_1', 'iso2022_jp_2', 'iso2022_jp_2004'\n",
    "                 , 'iso2022_jp_3', 'iso2022_jp_ext', 'iso2022_kr', 'latin_1','ISO-8859-1' 'iso8859_2'\n",
    "                 , 'iso8859_3', 'iso8859_4', 'iso8859_5', 'iso8859_6', 'iso8859_7', 'iso8859_8', 'iso8859_9'\n",
    "                 , 'iso8859_10', 'iso8859_11', 'iso8859_13', 'iso8859_14', 'iso8859_15', 'iso8859_16', 'johab'\n",
    "                 , 'koi8_r', 'koi8_t', 'koi8_u', 'kz1048', 'mac_cyrillic', 'mac_greek', 'mac_iceland', 'mac_latin2'\n",
    "                 , 'mac_roman', 'mac_turkish', 'ptcp154', 'shift_jis', 'shift_jis_2004', 'shift_jisx0213', 'utf_32'\n",
    "                 , 'utf_32_be', 'utf_32_le', 'utf_16', 'utf_16_be', 'utf_16_le', 'utf_7', 'utf_8', 'utf_8_sig']\n",
    "\n",
    "for encoding in encoding_list:\n",
    "    worked = True\n",
    "    try:\n",
    "        df = pd.read_csv('zips/Cnaes.zip', \n",
    "                         compression='zip',\n",
    "                         header=None, sep=';', \n",
    "                         quotechar='\"', \n",
    "                         encoding=encoding)\n",
    "    except:\n",
    "        worked = False\n",
    "    if worked:\n",
    "        display(encoding, ':\\n', df.head())"
   ]
  },
  {
   "cell_type": "code",
   "execution_count": 3,
   "id": "80cee6f3",
   "metadata": {},
   "outputs": [
    {
     "data": {
      "text/html": [
       "<div>\n",
       "<style scoped>\n",
       "    .dataframe tbody tr th:only-of-type {\n",
       "        vertical-align: middle;\n",
       "    }\n",
       "\n",
       "    .dataframe tbody tr th {\n",
       "        vertical-align: top;\n",
       "    }\n",
       "\n",
       "    .dataframe thead th {\n",
       "        text-align: right;\n",
       "    }\n",
       "</style>\n",
       "<table border=\"1\" class=\"dataframe\">\n",
       "  <thead>\n",
       "    <tr style=\"text-align: right;\">\n",
       "      <th></th>\n",
       "      <th>0</th>\n",
       "      <th>1</th>\n",
       "    </tr>\n",
       "  </thead>\n",
       "  <tbody>\n",
       "    <tr>\n",
       "      <th>0</th>\n",
       "      <td>111301</td>\n",
       "      <td>Cultivo de arroz</td>\n",
       "    </tr>\n",
       "    <tr>\n",
       "      <th>1</th>\n",
       "      <td>111302</td>\n",
       "      <td>Cultivo de milho</td>\n",
       "    </tr>\n",
       "    <tr>\n",
       "      <th>2</th>\n",
       "      <td>111303</td>\n",
       "      <td>Cultivo de trigo</td>\n",
       "    </tr>\n",
       "    <tr>\n",
       "      <th>3</th>\n",
       "      <td>111399</td>\n",
       "      <td>Cultivo de outros cereais não especificados an...</td>\n",
       "    </tr>\n",
       "    <tr>\n",
       "      <th>4</th>\n",
       "      <td>112101</td>\n",
       "      <td>Cultivo de algodão herbáceo</td>\n",
       "    </tr>\n",
       "    <tr>\n",
       "      <th>...</th>\n",
       "      <td>...</td>\n",
       "      <td>...</td>\n",
       "    </tr>\n",
       "    <tr>\n",
       "      <th>1354</th>\n",
       "      <td>9609208</td>\n",
       "      <td>Higiene e embelezamento de animais domésticos</td>\n",
       "    </tr>\n",
       "    <tr>\n",
       "      <th>1355</th>\n",
       "      <td>9609299</td>\n",
       "      <td>Outras atividades de serviços pessoais não esp...</td>\n",
       "    </tr>\n",
       "    <tr>\n",
       "      <th>1356</th>\n",
       "      <td>9700500</td>\n",
       "      <td>Serviços domésticos</td>\n",
       "    </tr>\n",
       "    <tr>\n",
       "      <th>1357</th>\n",
       "      <td>9900800</td>\n",
       "      <td>Organismos internacionais e outras instituiçõe...</td>\n",
       "    </tr>\n",
       "    <tr>\n",
       "      <th>1358</th>\n",
       "      <td>8888888</td>\n",
       "      <td>Atividade Econônica não informada</td>\n",
       "    </tr>\n",
       "  </tbody>\n",
       "</table>\n",
       "<p>1359 rows × 2 columns</p>\n",
       "</div>"
      ],
      "text/plain": [
       "            0                                                  1\n",
       "0      111301                                   Cultivo de arroz\n",
       "1      111302                                   Cultivo de milho\n",
       "2      111303                                   Cultivo de trigo\n",
       "3      111399  Cultivo de outros cereais não especificados an...\n",
       "4      112101                        Cultivo de algodão herbáceo\n",
       "...       ...                                                ...\n",
       "1354  9609208      Higiene e embelezamento de animais domésticos\n",
       "1355  9609299  Outras atividades de serviços pessoais não esp...\n",
       "1356  9700500                                Serviços domésticos\n",
       "1357  9900800  Organismos internacionais e outras instituiçõe...\n",
       "1358  8888888                  Atividade Econônica não informada\n",
       "\n",
       "[1359 rows x 2 columns]"
      ]
     },
     "execution_count": 3,
     "metadata": {},
     "output_type": "execute_result"
    }
   ],
   "source": [
    "df = pd.read_csv('zips/Cnaes.zip', compression='zip',header=None, sep=';',quotechar='\"', \n",
    "                         encoding = \"ISO-8859-1\", \n",
    "                         low_memory=False)\n",
    "df"
   ]
  },
  {
   "cell_type": "code",
   "execution_count": null,
   "id": "d65865d4",
   "metadata": {},
   "outputs": [],
   "source": []
  }
 ],
 "metadata": {
  "hide_input": false,
  "kernelspec": {
   "display_name": "Python 3 (ipykernel)",
   "language": "python",
   "name": "python3"
  },
  "language_info": {
   "codemirror_mode": {
    "name": "ipython",
    "version": 3
   },
   "file_extension": ".py",
   "mimetype": "text/x-python",
   "name": "python",
   "nbconvert_exporter": "python",
   "pygments_lexer": "ipython3",
   "version": "3.8.0"
  },
  "varInspector": {
   "cols": {
    "lenName": 16,
    "lenType": 16,
    "lenVar": 40
   },
   "kernels_config": {
    "python": {
     "delete_cmd_postfix": "",
     "delete_cmd_prefix": "del ",
     "library": "var_list.py",
     "varRefreshCmd": "print(var_dic_list())"
    },
    "r": {
     "delete_cmd_postfix": ") ",
     "delete_cmd_prefix": "rm(",
     "library": "var_list.r",
     "varRefreshCmd": "cat(var_dic_list()) "
    }
   },
   "types_to_exclude": [
    "module",
    "function",
    "builtin_function_or_method",
    "instance",
    "_Feature"
   ],
   "window_display": false
  }
 },
 "nbformat": 4,
 "nbformat_minor": 5
}
