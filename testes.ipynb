{
 "cells": [
  {
   "cell_type": "code",
   "execution_count": 4,
   "metadata": {},
   "outputs": [],
   "source": [
    "import random\n",
    "import sqlite3\n",
    "import json\n",
    "import os\n",
    "\n",
    "import numpy as np\n",
    "import pandas as pd\n",
    "\n",
    "import networkx as nx\n",
    "from networkx.readwrite import json_graph\n",
    "\n",
    "PATH_BD = 'data/CNPJ_full.db'"
   ]
  },
  {
   "cell_type": "code",
   "execution_count": 5,
   "metadata": {},
   "outputs": [
    {
     "name": "stdout",
     "output_type": "stream",
     "text": [
      "Wall time: 1e+03 µs\n"
     ]
    }
   ],
   "source": [
    "%%time\n",
    "connection = sqlite3.connect(PATH_BD)\n",
    "con = connection.cursor()"
   ]
  },
  {
   "cell_type": "code",
   "execution_count": 6,
   "metadata": {},
   "outputs": [
    {
     "data": {
      "text/plain": [
       "'05150869000136'"
      ]
     },
     "execution_count": 6,
     "metadata": {},
     "output_type": "execute_result"
    }
   ],
   "source": [
    "item = '05150869000136'\n",
    "item = item.replace('.','').replace('/','').replace('-','').zfill(14)\n",
    "item"
   ]
  },
  {
   "cell_type": "code",
   "execution_count": 7,
   "metadata": {},
   "outputs": [],
   "source": [
    "conBD = sqlite3.connect(PATH_BD)\n",
    "path = os.path.join('Grafo', 'grafo.html')\n",
    "COL_FLOAT64 = ['capital_social']\n",
    "QUALIFICACOES = {\n",
    "    '05':'Administrador',\n",
    "    '08':'Conselheiro de Administração',\n",
    "    '10':'Diretor', \n",
    "    '16':'Presidente', \n",
    "    '17':'Procurador',\n",
    "    '20':'Sociedade Consorciada', \n",
    "    '21':'Sociedade Filiada', \n",
    "    '22':'Sócio', \n",
    "    '23':'Sócio Capitalista', \n",
    "    '24':'Sócio Comanditado', \n",
    "    '25':'Sócio Comanditário', \n",
    "    '26':'Sócio de Indústria', \n",
    "    '28':'Sócio-Gerente', \n",
    "    '29':'Sócio Incapaz ou Relat.Incapaz (exceto menor)', \n",
    "    '30':'Sócio Menor (Assistido/Representado)', \n",
    "    '31':'Sócio Ostensivo', \n",
    "    '37':'Sócio Pessoa Jurídica Domiciliado no Exterior', \n",
    "    '38':'Sócio Pessoa Física Residente no Exterior', \n",
    "    '47':'Sócio Pessoa Física Residente no Brasil', \n",
    "    '48':'Sócio Pessoa Jurídica Domiciliado no Brasil', \n",
    "    '49':'Sócio-Administrador', \n",
    "    '52':'Sócio com Capital', \n",
    "    '53':'Sócio sem Capital', \n",
    "    '54':'Fundador', \n",
    "    '55':'Sócio Comanditado Residente no Exterior', \n",
    "    '56':'Sócio Comanditário Pessoa Física Residente no Exterior', \n",
    "    '57':'Sócio Comanditário Pessoa Jurídica Domiciliado no Exterior', \n",
    "    '58':'Sócio Comanditário Incapaz', \n",
    "    '59':'Produtor Rural', \n",
    "    '63':'Cotas em Tesouraria', \n",
    "    '65':'Titular Pessoa Física Residente ou Domiciliado no Brasil', \n",
    "    '66':'Titular Pessoa Física Residente ou Domiciliado no Exterior', \n",
    "    '67':'Titular Pessoa Física Incapaz ou Relativamente Incapaz (exceto menor)', \n",
    "    '68':'Titular Pessoa Física Menor (Assistido/Representado)', \n",
    "    '70':'Administrador Residente ou Domiciliado no Exterior', \n",
    "    '71':'Conselheiro de Administração Residente ou Domiciliado no Exterior', \n",
    "    '72':'Diretor Residente ou Domiciliado no Exterior', \n",
    "    '73':'Presidente Residente ou Domiciliado no Exterior', \n",
    "    '74':'Sócio-Administrador Residente ou Domiciliado no Exterior', \n",
    "    '75':'Fundador Residente ou Domiciliado no Exterior'\n",
    "}"
   ]
  },
  {
   "cell_type": "code",
   "execution_count": 8,
   "metadata": {},
   "outputs": [],
   "source": [
    "G = nx.DiGraph()"
   ]
  },
  {
   "cell_type": "code",
   "execution_count": 9,
   "metadata": {},
   "outputs": [
    {
     "data": {
      "text/plain": [
       "networkx.classes.digraph.DiGraph"
      ]
     },
     "execution_count": 9,
     "metadata": {},
     "output_type": "execute_result"
    }
   ],
   "source": [
    "type(G)"
   ]
  },
  {
   "cell_type": "code",
   "execution_count": 10,
   "metadata": {},
   "outputs": [],
   "source": [
    "# Antes de gerar esse formato, necessario adaptar alguns atributos do grafo\n",
    "G_adapt = G.copy()"
   ]
  },
  {
   "cell_type": "code",
   "execution_count": 11,
   "metadata": {},
   "outputs": [],
   "source": [
    "pos = nx.spring_layout(G_adapt, dim=4, scale=1000)"
   ]
  },
  {
   "cell_type": "code",
   "execution_count": 12,
   "metadata": {},
   "outputs": [],
   "source": [
    "for node in G_adapt.nodes:\n",
    "    tipo_pessoa = G_adapt.nodes[node]['tipo_pessoa']\n",
    "\n",
    "    G_adapt.nodes[node]['label'] = G_adapt.nodes[node]['nome']\n",
    "\n",
    "    # Configura atributos de visualizacao necessarios para alguns leitores\n",
    "    G_adapt.nodes[node]['viz'] = {'size':10}\n",
    "\n",
    "    if tipo_pessoa == 1:\n",
    "        if G_adapt.nodes[node]['situacao'] == '02':\n",
    "            G_adapt.nodes[node]['viz']['color'] = {'a':1,'r':1,'g':57,'b':155}\n",
    "        else:\n",
    "            G_adapt.nodes[node]['viz']['color'] = {'a':1,'r':255,'g':0,'b':0}\n",
    "    else:\n",
    "        G_adapt.nodes[node]['viz']['color'] = {'a':1,'r':46,'g':125,'b':32}\n",
    "\n",
    "    G_adapt.nodes[node]['viz']['position'] = {'x':pos[node][0],\n",
    "                                              'y':pos[node][1],\n",
    "                                              'z':5}\n",
    "\n",
    "    # Converte cols para float, por incompatibilidade do nx com o numpy.float64\n",
    "    for coluna in COL_FLOAT64:\n",
    "        if coluna in G_adapt.nodes[node]:\n",
    "            G_adapt.nodes[node][coluna] = float(G_adapt.nodes[node][coluna])"
   ]
  },
  {
   "cell_type": "code",
   "execution_count": 13,
   "metadata": {},
   "outputs": [],
   "source": [
    "nx.write_gexf(G_adapt, path)"
   ]
  },
  {
   "cell_type": "code",
   "execution_count": 14,
   "metadata": {},
   "outputs": [],
   "source": [
    "def consulta_item(rede, tipo_item, item):\n",
    "    if tipo_item == 'cnpj':\n",
    "        #print('Consultando CNPJ: {}'.format(item))\n",
    "        rede.insere_pessoa(1, item.replace('.','').replace('/','').replace('-','').zfill(14))\n",
    "\n",
    "    elif tipo_item == 'nome_socio':\n",
    "        #print('Consultando socios com nome: {}'.format(item))\n",
    "        rede.insere_com_cpf_ou_nome(nome=item.upper())\n",
    "\n",
    "    elif tipo_item == 'cpf':\n",
    "        cpf = mascara_cpf(item.replace('.','').replace('-',''))\n",
    "        #print('Consultando socios com cpf (mascarado): {}.'.format(cpf))\n",
    "        rede.insere_com_cpf_ou_nome(cpf=cpf)\n",
    "\n",
    "    elif tipo_item == 'cpf_nome':\n",
    "        cpf = mascara_cpf(item[:11])\n",
    "        nome = item[11:]\n",
    "\n",
    "        #print('Consultando socio com cpf (mascarado) {} e nome {}'.format(cpf,nome))\n",
    "        rede.insere_pessoa(2,(cpf,nome))\n",
    "\n",
    "        # Se nao tem vinculo, nao existe socio com esse par cpf e nome\n",
    "        if len(rede.dataframe_vinculos()) == 0:\n",
    "            print('Nenhum socio encontrado com cpf \"{}\" e nome \"{}\"'.format(cpf, nome))\n",
    "            rede.G.remove_node(cpf+nome)\n",
    "    else:\n",
    "        print('Tipo de consulta invalido: {}.\\nTipos possiveis: cnpj, nome_socio, cpf, cpf_nome'.format(tipo_item))"
   ]
  },
  {
   "cell_type": "code",
   "execution_count": null,
   "metadata": {},
   "outputs": [],
   "source": []
  },
  {
   "cell_type": "code",
   "execution_count": 15,
   "metadata": {},
   "outputs": [],
   "source": [
    "tipo_pessoa = 1\n",
    "id_pessoa = item\n",
    "atributos=None\n",
    "nivel=0\n",
    "origem=None\n",
    "nivel_max=3\n",
    "qualificacoes = 'TODAS'"
   ]
  },
  {
   "cell_type": "code",
   "execution_count": null,
   "metadata": {},
   "outputs": [],
   "source": []
  },
  {
   "cell_type": "code",
   "execution_count": 23,
   "metadata": {},
   "outputs": [],
   "source": [
    "def vinculos(tipo_pessoa, id_pessoa, atributos=None, nivel=0, origem=None):\n",
    "    nome = None\n",
    "\n",
    "    # Monta o id do node de acordo com o tipo de pessoa\n",
    "    if tipo_pessoa == 1:\n",
    "        id_pessoa_str = id_pessoa\n",
    "    else:\n",
    "        nome = id_pessoa[1]\n",
    "        id_pessoa_str = id_pessoa[0] + nome\n",
    "\n",
    "    # Nova pessoa\n",
    "    if id_pessoa_str not in G:\n",
    "        nova_pessoa = True\n",
    "\n",
    "        if atributos:\n",
    "            G.add_node(id_pessoa_str, nome=nome, tipo_pessoa=tipo_pessoa, nivel=nivel, **atributos)\n",
    "        else:\n",
    "            G.add_node(id_pessoa_str, nome=nome, tipo_pessoa=tipo_pessoa, nivel=nivel)\n",
    "        if (tipo_pessoa == 1):\n",
    "            # Atualizacao: pega do banco apenas se dados nao vieram como parametro\n",
    "            if not atributos:\n",
    "                sql = '''\n",
    "                        SELECT EST.CNPJ || EST.CNPJ_ORDEM || EST.CNPJ_DV as CNPJ_x, EST.CNPJ AS CNPJ,\n",
    "                                EMP.RAZAO as razao_social, EST.NOME as nome_fantasia\n",
    "                                FROM ESTABELECIMENTOS as EST\n",
    "                                    LEFT JOIN EMPRESAS as EMP\n",
    "                                        ON EST.CNPJ = EMP.CNPJ\n",
    "                                WHERE \n",
    "                                    EST.CNPJ = '{0}' AND\n",
    "                                    EST.MATRIZ_FILIAL = 1 \n",
    "                    '''.format(id_pessoa[:8])\n",
    "\n",
    "                try:\n",
    "                    empresa = pd.read_sql_query(sql, conBD).iloc[0,:] # pega primeiro registro\n",
    "                    #display(empresa)\n",
    "                    for k, v in empresa.items():\n",
    "                        G.nodes[id_pessoa_str][k] = v\n",
    "\n",
    "                except:\n",
    "                    print('Empresa nao encontrada: {}'.format(id_pessoa_str))\n",
    "                    G.remove_node(id_pessoa_str)\n",
    "                    raise KeyError\n",
    "            if (str(G.nodes[id_pessoa_str]['nome_fantasia']).strip() == '') or \\\n",
    "                            (str(G.nodes[id_pessoa_str]['nome_fantasia']).strip() == 'NAO POSSUI' or \\\n",
    "                            (str(G.nodes[id_pessoa_str]['nome_fantasia']).strip() == 'None' )):\n",
    "                G.nodes[id_pessoa_str]['nome'] = G.nodes[id_pessoa_str]['razao_social'] \n",
    "            else:\n",
    "                G.nodes[id_pessoa_str]['nome'] = G.nodes[id_pessoa_str]['nome_fantasia']\n",
    "        else:\n",
    "            # Se no for pessoa fisica\n",
    "            G.nodes[id_pessoa_str]['cpf'] = id_pessoa[0]\n",
    "    else:\n",
    "        nova_pessoa = False\n",
    "        nivel_anterior = G.nodes[id_pessoa_str]['nivel']\n",
    "\n",
    "        if nivel < nivel_anterior:\n",
    "            G.nodes[id_pessoa_str]['nivel'] = nivel\n",
    "\n",
    "    if (nivel < nivel_max) and (nova_pessoa or nivel < nivel_anterior):   \n",
    "                # obtem todas as relacoes de sociedades que envolvam esse PJ ou PF\n",
    "\n",
    "                # Verifica se relacionados ja estao no grafo ou se precisa buscar no BD\n",
    "                if (not nova_pessoa) and (nivel_anterior < __nivel_max):\n",
    "                    # Relacionados ja estao no grafo, nao precisa buscar no BD\n",
    "\n",
    "                    # navega para os socios\n",
    "                    for id_socio_str in G.predecessors(id_pessoa_str):\n",
    "                        node_socio = G.nodes[id_socio_str]\n",
    "                        tipo_socio = node_socio['tipo_pessoa']\n",
    "\n",
    "                        if tipo_socio == 1:\n",
    "                            # socio eh PJ\n",
    "                            socio = id_socio_str\n",
    "                        else:\n",
    "                            # socio eh PF\n",
    "                            socio = (node_socio['cpf'],node_socio['nome'])\n",
    "\n",
    "                        vinculos(tipo_pessoa=tipo_socio, id_pessoa=socio, nivel=nivel+1, origem=id_pessoa)\n",
    "\n",
    "                    # navega para empresas das quais e socio\n",
    "                    for empresa in self.G.successors(id_pessoa_str):\n",
    "                        vinculos(tipo_pessoa=1, id_pessoa=empresa, nivel=nivel+1, origem=id_pessoa)\n",
    "\n",
    "                else:\n",
    "                    # Relacionados ainda nao estao no grafo; buscar no BD.\n",
    "                    # (A) busca EMPRESAS das quais esta PJ/PF eh socia\n",
    "                    sql = '''\n",
    "                        SELECT CNPJ as s_cnpj, \n",
    "                                QUALIFICACAO s_cod_qualificacao,\n",
    "                                DATA_ENTRADA_SOCIEDADE s_data_entrada,\n",
    "                                IDENTIFICADOR_SOCIO, NOME, CPF_CNPJ, \n",
    "                                CODIGO_PAIS, CPF_REPRESENTANTE_LEGAL,\n",
    "                                NOME_REPRESENTANTE_LEGAL, QUALIFICACAO_REPRESENTANTE_LEGAL, FAIXA_ETARIA\n",
    "                        FROM SOCIOS\n",
    "                        '''\n",
    "\n",
    "                    if tipo_pessoa == 1:\n",
    "                        sql += '''\n",
    "                            WHERE\n",
    "                                CPF_CNPJ LIKE '{0}'\n",
    "                        '''.format(id_pessoa[:8] + '%')\n",
    "                    else:\n",
    "                        sql += '''\n",
    "                            WHERE CPF_CNPJ LIKE '{0}' AND \n",
    "                                  NOME = '{1}'\n",
    "                        '''.format(id_pessoa[0][:8],id_pessoa[1])\n",
    "\n",
    "                    empresas = pd.read_sql_query(sql, conBD)\n",
    "\n",
    "                    for _, empresa in empresas.iterrows():\n",
    "                        cod_qualificacao = empresa['s_cod_qualificacao']\n",
    "\n",
    "                        # Apenas adiciona relacionamento se for qualificacao de interesse\n",
    "                        if (__qualificacoes == 'TODAS') | (cod_qualificacao in __qualificacoes): \n",
    "                            cnpj = empresa['s_cnpj']\n",
    "                            data_entrada = empresa['s_data_entrada']\n",
    "\n",
    "                            if __qualificacoes != 'TODAS':\n",
    "                                qualificacao = __qualificacoes[cod_qualificacao]\n",
    "                            else:\n",
    "                                qualificacao = cod_qualificacao     \n",
    "\n",
    "                            # se a empresa nao for a origem desse pulo\n",
    "                            if cnpj != origem:\n",
    "                                atributos = dict(empresa.drop(['s_cnpj','s_cod_qualificacao','s_data_entrada']))\n",
    "\n",
    "                                # chama recursivamente para tratar a PJ\n",
    "                                _vinculos(tipo_pessoa=1, id_pessoa=cnpj, nivel=nivel+1, origem=id_pessoa, atributos=atributos)\n",
    "\n",
    "                                # adiciona aresta de socio para empresa em questao\n",
    "                                G.add_edge(id_pessoa_str, \n",
    "                                                cnpj, \n",
    "                                                tipo='socio', \n",
    "                                                cod_qualificacao=cod_qualificacao,\n",
    "                                                qualificacao=qualificacao, \n",
    "                                                data_entrada=data_entrada)\n",
    "\n",
    "\n",
    "                    # (B) SOCIOS desta PJ (apenas se matriz)\n",
    "                    if tipo_pessoa == 1 and (G.nodes[id_pessoa_str]['matriz_filial'] == '1'):\n",
    "                        sql = '''\n",
    "                            SELECT CNPJ as cnpj, \n",
    "                                IDENTIFICADOR_SOCIO as tipo_socio, \n",
    "                                CPF_CNPJ as cnpj_cpf_socio, \n",
    "                                NOME as nome_socio, \n",
    "                                QUALIFICACAO as cod_qualificacao, \n",
    "                                DATA_ENTRADA_SOCIEDADE as data_entrada \n",
    "                            FROM SOCIOS\n",
    "                            WHERE\n",
    "                                cnpj = '{0}'\n",
    "                        '''.format(id_pessoa[:8])\n",
    "\n",
    "                        socios = pd.read_sql_query(sql, conBD)\n",
    "\n",
    "                        for _, socio in socios.iterrows():\n",
    "                            cod_qualificacao = socio['cod_qualificacao']\n",
    "\n",
    "                            # Apenas adiciona relacionamento se for qualificacao de interesse\n",
    "                            if (qualificacoes == 'TODAS') | (cod_qualificacao in qualificacoes): \n",
    "                                cnpj_cpf_socio = socio['cnpj_cpf_socio']\n",
    "                                nome_socio = socio['nome_socio']\n",
    "                                tipo_socio = int(socio['tipo_socio'])\n",
    "                                data_entrada = socio['data_entrada']\n",
    "                                if qualificacoes != 'TODAS':\n",
    "                                    qualificacao = qualificacoes[cod_qualificacao]\n",
    "                                else:\n",
    "                                    qualificacao = cod_qualificacao\n",
    "\n",
    "                                if tipo_socio == 1:\n",
    "                                    # socio eh PJ\n",
    "                                    id_socio = cnpj_cpf_socio\n",
    "                                    socio_str = id_socio\n",
    "                                else:\n",
    "                                    # socio eh PF\n",
    "                                    id_socio = (cnpj_cpf_socio,nome_socio)\n",
    "                                    socio_str = cnpj_cpf_socio + nome_socio\n",
    "\n",
    "                                # se o socio nao for a origem desse pulo\n",
    "                                    # chama recursivamente para tratar a nova PJ/PF\n",
    "                                    vinculos(tipo_pessoa=tipo_socio, id_pessoa=id_socio, nivel=nivel+1, origem=id_pessoa)\n",
    "\n",
    "                                    # adiciona aresta de socio para empresa em questao\n",
    "                                    self.G.add_edge(socio_str, \n",
    "                                                    id_pessoa_str, \n",
    "                                                    tipo='socio', \n",
    "                                                    cod_qualificacao=cod_qualificacao,\n",
    "                                                    qualificacao=qualificacao, \n",
    "                                                    data_entrada=data_entrada)\n",
    "\n",
    "\n"
   ]
  },
  {
   "cell_type": "code",
   "execution_count": 24,
   "metadata": {},
   "outputs": [],
   "source": [
    "vinculos(tipo_pessoa, id_pessoa, atributos=None, nivel=0, origem=None)"
   ]
  },
  {
   "cell_type": "code",
   "execution_count": 30,
   "metadata": {},
   "outputs": [
    {
     "data": {
      "text/plain": [
       "[('05150869000136',\n",
       "  {'nome': 'RESOURCE AMERICANA LTDA',\n",
       "   'tipo_pessoa': 1,\n",
       "   'nivel': 0,\n",
       "   'CNPJ_x': '05150869000136',\n",
       "   'CNPJ': '05150869',\n",
       "   'razao_social': 'RESOURCE AMERICANA LTDA',\n",
       "   'nome_fantasia': None})]"
      ]
     },
     "metadata": {},
     "output_type": "display_data"
    },
    {
     "data": {
      "text/plain": [
       "[]"
      ]
     },
     "metadata": {},
     "output_type": "display_data"
    }
   ],
   "source": [
    "display(list(G.nodes(data=True)))\n",
    "display(list(G.edges(data=True)))"
   ]
  },
  {
   "cell_type": "code",
   "execution_count": 27,
   "metadata": {},
   "outputs": [
    {
     "data": {
      "text/plain": [
       "[]"
      ]
     },
     "execution_count": 27,
     "metadata": {},
     "output_type": "execute_result"
    }
   ],
   "source": [
    "display(list(G.edges(data=True)))"
   ]
  },
  {
   "cell_type": "code",
   "execution_count": 29,
   "metadata": {},
   "outputs": [
    {
     "data": {
      "image/png": "[encoded data removed]",
      "text/plain": [
       "<Figure size 432x288 with 1 Axes>"
      ]
     },
     "metadata": {},
     "output_type": "display_data"
    }
   ],
   "source": [
    "nx.draw(G, with_labels=True)"
   ]
  },
  {
   "cell_type": "code",
   "execution_count": null,
   "metadata": {},
   "outputs": [],
   "source": []
  },
  {
   "cell_type": "code",
   "execution_count": null,
   "metadata": {},
   "outputs": [],
   "source": []
  },
  {
   "cell_type": "code",
   "execution_count": null,
   "metadata": {},
   "outputs": [],
   "source": []
  },
  {
   "cell_type": "code",
   "execution_count": null,
   "metadata": {},
   "outputs": [],
   "source": []
  },
  {
   "cell_type": "code",
   "execution_count": null,
   "metadata": {},
   "outputs": [],
   "source": []
  },
  {
   "cell_type": "code",
   "execution_count": 29,
   "metadata": {},
   "outputs": [],
   "source": [
    "G = None"
   ]
  },
  {
   "cell_type": "code",
   "execution_count": null,
   "metadata": {},
   "outputs": [],
   "source": []
  },
  {
   "cell_type": "code",
   "execution_count": null,
   "metadata": {},
   "outputs": [],
   "source": []
  },
  {
   "cell_type": "code",
   "execution_count": null,
   "metadata": {},
   "outputs": [],
   "source": []
  },
  {
   "cell_type": "code",
   "execution_count": null,
   "metadata": {},
   "outputs": [],
   "source": []
  },
  {
   "cell_type": "code",
   "execution_count": null,
   "metadata": {},
   "outputs": [],
   "source": []
  },
  {
   "cell_type": "code",
   "execution_count": null,
   "metadata": {},
   "outputs": [],
   "source": []
  },
  {
   "cell_type": "code",
   "execution_count": null,
   "metadata": {},
   "outputs": [],
   "source": []
  },
  {
   "cell_type": "code",
   "execution_count": null,
   "metadata": {},
   "outputs": [],
   "source": []
  },
  {
   "cell_type": "code",
   "execution_count": null,
   "metadata": {},
   "outputs": [],
   "source": []
  },
  {
   "cell_type": "code",
   "execution_count": null,
   "metadata": {},
   "outputs": [],
   "source": []
  },
  {
   "cell_type": "code",
   "execution_count": null,
   "metadata": {},
   "outputs": [],
   "source": []
  },
  {
   "cell_type": "code",
   "execution_count": null,
   "metadata": {},
   "outputs": [],
   "source": []
  },
  {
   "cell_type": "code",
   "execution_count": null,
   "metadata": {},
   "outputs": [],
   "source": []
  },
  {
   "cell_type": "code",
   "execution_count": null,
   "metadata": {},
   "outputs": [],
   "source": []
  },
  {
   "cell_type": "code",
   "execution_count": null,
   "metadata": {},
   "outputs": [],
   "source": [
    "try:\n",
    "    with open('viz/template.html', 'r', encoding='utf-8') as template:\n",
    "        str_html = template.read().replace('<!--GRAFO-->', json.dumps(rede.json()))\n",
    "        \n",
    "    path_html = os.path.join(path_output, 'grafo.html')\n",
    "    with open(path_html, 'w', encoding='utf-8') as html:\n",
    "        html.write(str_html)\n",
    "\n",
    "    if config.PATH_NAVEGADOR:\n",
    "        subprocess.Popen([config.PATH_NAVEGADOR, os.path.abspath(path_html)])\n",
    "\n",
    "except Exception as e:\n",
    "    print('Não foi possível gerar a visualização. [{}]'.format(e))"
   ]
  },
  {
   "cell_type": "code",
   "execution_count": null,
   "metadata": {},
   "outputs": [],
   "source": []
  }
 ],
 "metadata": {
  "interpreter": {
   "hash": "dea9e8e19757cf9df68fc7ccb2a0e0f7ab180cc9ae9d20188aba2fa8294b7a44"
  },
  "kernelspec": {
   "display_name": "Python 3",
   "language": "python",
   "name": "python3"
  },
  "language_info": {
   "codemirror_mode": {
    "name": "ipython",
    "version": 3
   },
   "file_extension": ".py",
   "mimetype": "text/x-python",
   "name": "python",
   "nbconvert_exporter": "python",
   "pygments_lexer": "ipython3",
   "version": "3.6.15"
  }
 },
 "nbformat": 4,
 "nbformat_minor": 4
}
